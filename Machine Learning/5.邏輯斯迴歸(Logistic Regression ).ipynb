{
 "cells": [
  {
   "cell_type": "markdown",
   "id": "4865ec0a-072e-443f-b5fc-f00fa1b04163",
   "metadata": {},
   "source": [
    "Introduction"
   ]
  },
  {
   "cell_type": "raw",
   "id": "e60a90d1-af6f-4644-9b11-a15dec9efe15",
   "metadata": {},
   "source": [
    "邏輯斯迴歸模型是在機器學習中常見的分類模型，專門用來處理類別型資料，而其中又分為 Binary Classification 以及 Multi-class Classification\n",
    "\n",
    "於原理上，可以發現邏輯斯迴歸模型與線性迴歸模型很像，都是要找到一條線來進行預測。然而，使用上的意義卻是完全不同，對於邏輯斯回歸而言，我們找到的這條線是想要將資料點在一個空間中能夠切出不同分類的結果，透過最大似然估計的方式預估這條線的係數。\n",
    "\n",
    "其中，羅吉斯迴歸用到的 logit 函數，也被稱作 Sigmoid 函數，在深度學習領域常被拿來使用或是比較，可以將任意輸入值輸出成0到1之間的函數\n",
    "\n",
    "接下來邏輯斯迴歸模型將會用最大概似估計法求解，並且找出最佳的 Beta 估計值，這個步驟會交由 sklearn 來完成！"
   ]
  },
  {
   "cell_type": "markdown",
   "id": "f39a8219-c755-405e-9ef1-37de22d1522c",
   "metadata": {},
   "source": [
    "以下要使用 sklearn 中的一個資料集 - breast_cancer，用來示範邏輯斯回歸模型的使用，該資料集用不同的照片轉數據的特徵來判斷該病患是否罹患乳癌（良性：benign（1），惡性：malignant (0)），該分析的資料屬於 Binary Classification。"
   ]
  },
  {
   "cell_type": "code",
   "execution_count": 3,
   "id": "f45b7174-1f82-4bc2-b58c-d7d002eb289c",
   "metadata": {},
   "outputs": [],
   "source": [
    "from sklearn import datasets\n",
    "from sklearn.preprocessing import StandardScaler\n",
    "from sklearn.model_selection import train_test_split\n",
    "import pandas as pd\n",
    "import numpy as np\n",
    "import seaborn as sns\n",
    "import matplotlib as plt"
   ]
  },
  {
   "cell_type": "markdown",
   "id": "2015dbfa-7bbf-4eeb-bce5-3c2a8821b8fd",
   "metadata": {},
   "source": [
    "1. 載入資料集"
   ]
  },
  {
   "cell_type": "code",
   "execution_count": 21,
   "id": "deb3a607-cfcc-4fac-a417-9bb143a8b360",
   "metadata": {},
   "outputs": [],
   "source": [
    "breast_cancer = datasets.load_breast_cancer()"
   ]
  },
  {
   "cell_type": "code",
   "execution_count": 23,
   "id": "70603904-55a3-46ce-894f-6a70faf8e4eb",
   "metadata": {},
   "outputs": [
    {
     "name": "stdout",
     "output_type": "stream",
     "text": [
      "(569, 30)\n"
     ]
    }
   ],
   "source": [
    "print(breast_cancer.data.shape) #data 是 NumPy 陣列(numpy.ndarray)，裡面包含 569 筆樣本資料，每筆資料有 30 個特徵。"
   ]
  },
  {
   "cell_type": "code",
   "execution_count": 31,
   "id": "92e29db5-fdf8-4038-9dfe-8bb12daa681f",
   "metadata": {},
   "outputs": [],
   "source": [
    "x = pd.DataFrame(breast_cancer.data, columns = breast_cancer.feature_names)\n",
    "y = pd.DataFrame(breast_cancer.target, columns = ['target'])\n",
    "data = pd.concat([x, y], axis = 1)"
   ]
  },
  {
   "cell_type": "markdown",
   "id": "70679bd1-0e49-48f9-bdc7-329b008b6cfb",
   "metadata": {},
   "source": [
    "這段程式碼的目的是 將乳腺癌數據集 (breast_cancer) 轉換成 pandas 的 DataFrame 格式，並將特徵 (x) 和標籤 (y) 合併成一個完整的數據集 (data)"
   ]
  },
  {
   "cell_type": "code",
   "execution_count": 33,
   "id": "2980c125-fd86-4d14-b066-c0e261139e20",
   "metadata": {},
   "outputs": [
    {
     "name": "stdout",
     "output_type": "stream",
     "text": [
      "   mean radius  mean texture  mean perimeter  mean area  mean smoothness  \\\n",
      "0        17.99         10.38          122.80     1001.0          0.11840   \n",
      "1        20.57         17.77          132.90     1326.0          0.08474   \n",
      "2        19.69         21.25          130.00     1203.0          0.10960   \n",
      "3        11.42         20.38           77.58      386.1          0.14250   \n",
      "4        20.29         14.34          135.10     1297.0          0.10030   \n",
      "\n",
      "   mean compactness  mean concavity  mean concave points  mean symmetry  \\\n",
      "0           0.27760          0.3001              0.14710         0.2419   \n",
      "1           0.07864          0.0869              0.07017         0.1812   \n",
      "2           0.15990          0.1974              0.12790         0.2069   \n",
      "3           0.28390          0.2414              0.10520         0.2597   \n",
      "4           0.13280          0.1980              0.10430         0.1809   \n",
      "\n",
      "   mean fractal dimension  ...  worst radius  worst texture  worst perimeter  \\\n",
      "0                 0.07871  ...         25.38          17.33           184.60   \n",
      "1                 0.05667  ...         24.99          23.41           158.80   \n",
      "2                 0.05999  ...         23.57          25.53           152.50   \n",
      "3                 0.09744  ...         14.91          26.50            98.87   \n",
      "4                 0.05883  ...         22.54          16.67           152.20   \n",
      "\n",
      "   worst area  worst smoothness  worst compactness  worst concavity  \\\n",
      "0      2019.0            0.1622             0.6656           0.7119   \n",
      "1      1956.0            0.1238             0.1866           0.2416   \n",
      "2      1709.0            0.1444             0.4245           0.4504   \n",
      "3       567.7            0.2098             0.8663           0.6869   \n",
      "4      1575.0            0.1374             0.2050           0.4000   \n",
      "\n",
      "   worst concave points  worst symmetry  worst fractal dimension  \n",
      "0                0.2654          0.4601                  0.11890  \n",
      "1                0.1860          0.2750                  0.08902  \n",
      "2                0.2430          0.3613                  0.08758  \n",
      "3                0.2575          0.6638                  0.17300  \n",
      "4                0.1625          0.2364                  0.07678  \n",
      "\n",
      "[5 rows x 30 columns]\n"
     ]
    }
   ],
   "source": [
    "print(x.head()) #x 變成結構化的表格，每一列是一個病人，每一欄是一個特徵（例如 mean radius、mean texture）　"
   ]
  },
  {
   "cell_type": "code",
   "execution_count": 35,
   "id": "e520d337-5a14-42d5-8ef7-117d31a1e348",
   "metadata": {},
   "outputs": [
    {
     "name": "stdout",
     "output_type": "stream",
     "text": [
      "   target\n",
      "0       0\n",
      "1       0\n",
      "2       0\n",
      "3       0\n",
      "4       0\n"
     ]
    }
   ],
   "source": [
    "print(y.head())  # y 則成了一個單獨的標籤 DataFrame，每一列對應 x 中的病人"
   ]
  },
  {
   "cell_type": "code",
   "execution_count": 37,
   "id": "ee10646c-ac86-4c99-9c7b-65955bb508a9",
   "metadata": {},
   "outputs": [
    {
     "name": "stdout",
     "output_type": "stream",
     "text": [
      "   mean radius  mean texture  mean perimeter  mean area  mean smoothness  \\\n",
      "0        17.99         10.38          122.80     1001.0          0.11840   \n",
      "1        20.57         17.77          132.90     1326.0          0.08474   \n",
      "2        19.69         21.25          130.00     1203.0          0.10960   \n",
      "3        11.42         20.38           77.58      386.1          0.14250   \n",
      "4        20.29         14.34          135.10     1297.0          0.10030   \n",
      "\n",
      "   mean compactness  mean concavity  mean concave points  mean symmetry  \\\n",
      "0           0.27760          0.3001              0.14710         0.2419   \n",
      "1           0.07864          0.0869              0.07017         0.1812   \n",
      "2           0.15990          0.1974              0.12790         0.2069   \n",
      "3           0.28390          0.2414              0.10520         0.2597   \n",
      "4           0.13280          0.1980              0.10430         0.1809   \n",
      "\n",
      "   mean fractal dimension  ...  worst texture  worst perimeter  worst area  \\\n",
      "0                 0.07871  ...          17.33           184.60      2019.0   \n",
      "1                 0.05667  ...          23.41           158.80      1956.0   \n",
      "2                 0.05999  ...          25.53           152.50      1709.0   \n",
      "3                 0.09744  ...          26.50            98.87       567.7   \n",
      "4                 0.05883  ...          16.67           152.20      1575.0   \n",
      "\n",
      "   worst smoothness  worst compactness  worst concavity  worst concave points  \\\n",
      "0            0.1622             0.6656           0.7119                0.2654   \n",
      "1            0.1238             0.1866           0.2416                0.1860   \n",
      "2            0.1444             0.4245           0.4504                0.2430   \n",
      "3            0.2098             0.8663           0.6869                0.2575   \n",
      "4            0.1374             0.2050           0.4000                0.1625   \n",
      "\n",
      "   worst symmetry  worst fractal dimension  target  \n",
      "0          0.4601                  0.11890       0  \n",
      "1          0.2750                  0.08902       0  \n",
      "2          0.3613                  0.08758       0  \n",
      "3          0.6638                  0.17300       0  \n",
      "4          0.2364                  0.07678       0  \n",
      "\n",
      "[5 rows x 31 columns]\n"
     ]
    }
   ],
   "source": [
    "print(data.head())  #現在data這個DataFrame包含所有的數據，標籤也併入其中"
   ]
  },
  {
   "cell_type": "code",
   "execution_count": 39,
   "id": "ae1bd9ea-95de-4e31-a686-cc422d67514c",
   "metadata": {},
   "outputs": [
    {
     "data": {
      "text/html": [
       "<div>\n",
       "<style scoped>\n",
       "    .dataframe tbody tr th:only-of-type {\n",
       "        vertical-align: middle;\n",
       "    }\n",
       "\n",
       "    .dataframe tbody tr th {\n",
       "        vertical-align: top;\n",
       "    }\n",
       "\n",
       "    .dataframe thead th {\n",
       "        text-align: right;\n",
       "    }\n",
       "</style>\n",
       "<table border=\"1\" class=\"dataframe\">\n",
       "  <thead>\n",
       "    <tr style=\"text-align: right;\">\n",
       "      <th></th>\n",
       "      <th>mean radius</th>\n",
       "      <th>mean texture</th>\n",
       "      <th>mean perimeter</th>\n",
       "      <th>mean area</th>\n",
       "      <th>mean smoothness</th>\n",
       "      <th>mean compactness</th>\n",
       "      <th>mean concavity</th>\n",
       "      <th>mean concave points</th>\n",
       "      <th>mean symmetry</th>\n",
       "      <th>mean fractal dimension</th>\n",
       "      <th>...</th>\n",
       "      <th>worst texture</th>\n",
       "      <th>worst perimeter</th>\n",
       "      <th>worst area</th>\n",
       "      <th>worst smoothness</th>\n",
       "      <th>worst compactness</th>\n",
       "      <th>worst concavity</th>\n",
       "      <th>worst concave points</th>\n",
       "      <th>worst symmetry</th>\n",
       "      <th>worst fractal dimension</th>\n",
       "      <th>target</th>\n",
       "    </tr>\n",
       "  </thead>\n",
       "  <tbody>\n",
       "    <tr>\n",
       "      <th>count</th>\n",
       "      <td>569.000000</td>\n",
       "      <td>569.000000</td>\n",
       "      <td>569.000000</td>\n",
       "      <td>569.000000</td>\n",
       "      <td>569.000000</td>\n",
       "      <td>569.000000</td>\n",
       "      <td>569.000000</td>\n",
       "      <td>569.000000</td>\n",
       "      <td>569.000000</td>\n",
       "      <td>569.000000</td>\n",
       "      <td>...</td>\n",
       "      <td>569.000000</td>\n",
       "      <td>569.000000</td>\n",
       "      <td>569.000000</td>\n",
       "      <td>569.000000</td>\n",
       "      <td>569.000000</td>\n",
       "      <td>569.000000</td>\n",
       "      <td>569.000000</td>\n",
       "      <td>569.000000</td>\n",
       "      <td>569.000000</td>\n",
       "      <td>569.000000</td>\n",
       "    </tr>\n",
       "    <tr>\n",
       "      <th>mean</th>\n",
       "      <td>14.127292</td>\n",
       "      <td>19.289649</td>\n",
       "      <td>91.969033</td>\n",
       "      <td>654.889104</td>\n",
       "      <td>0.096360</td>\n",
       "      <td>0.104341</td>\n",
       "      <td>0.088799</td>\n",
       "      <td>0.048919</td>\n",
       "      <td>0.181162</td>\n",
       "      <td>0.062798</td>\n",
       "      <td>...</td>\n",
       "      <td>25.677223</td>\n",
       "      <td>107.261213</td>\n",
       "      <td>880.583128</td>\n",
       "      <td>0.132369</td>\n",
       "      <td>0.254265</td>\n",
       "      <td>0.272188</td>\n",
       "      <td>0.114606</td>\n",
       "      <td>0.290076</td>\n",
       "      <td>0.083946</td>\n",
       "      <td>0.627417</td>\n",
       "    </tr>\n",
       "    <tr>\n",
       "      <th>std</th>\n",
       "      <td>3.524049</td>\n",
       "      <td>4.301036</td>\n",
       "      <td>24.298981</td>\n",
       "      <td>351.914129</td>\n",
       "      <td>0.014064</td>\n",
       "      <td>0.052813</td>\n",
       "      <td>0.079720</td>\n",
       "      <td>0.038803</td>\n",
       "      <td>0.027414</td>\n",
       "      <td>0.007060</td>\n",
       "      <td>...</td>\n",
       "      <td>6.146258</td>\n",
       "      <td>33.602542</td>\n",
       "      <td>569.356993</td>\n",
       "      <td>0.022832</td>\n",
       "      <td>0.157336</td>\n",
       "      <td>0.208624</td>\n",
       "      <td>0.065732</td>\n",
       "      <td>0.061867</td>\n",
       "      <td>0.018061</td>\n",
       "      <td>0.483918</td>\n",
       "    </tr>\n",
       "    <tr>\n",
       "      <th>min</th>\n",
       "      <td>6.981000</td>\n",
       "      <td>9.710000</td>\n",
       "      <td>43.790000</td>\n",
       "      <td>143.500000</td>\n",
       "      <td>0.052630</td>\n",
       "      <td>0.019380</td>\n",
       "      <td>0.000000</td>\n",
       "      <td>0.000000</td>\n",
       "      <td>0.106000</td>\n",
       "      <td>0.049960</td>\n",
       "      <td>...</td>\n",
       "      <td>12.020000</td>\n",
       "      <td>50.410000</td>\n",
       "      <td>185.200000</td>\n",
       "      <td>0.071170</td>\n",
       "      <td>0.027290</td>\n",
       "      <td>0.000000</td>\n",
       "      <td>0.000000</td>\n",
       "      <td>0.156500</td>\n",
       "      <td>0.055040</td>\n",
       "      <td>0.000000</td>\n",
       "    </tr>\n",
       "    <tr>\n",
       "      <th>25%</th>\n",
       "      <td>11.700000</td>\n",
       "      <td>16.170000</td>\n",
       "      <td>75.170000</td>\n",
       "      <td>420.300000</td>\n",
       "      <td>0.086370</td>\n",
       "      <td>0.064920</td>\n",
       "      <td>0.029560</td>\n",
       "      <td>0.020310</td>\n",
       "      <td>0.161900</td>\n",
       "      <td>0.057700</td>\n",
       "      <td>...</td>\n",
       "      <td>21.080000</td>\n",
       "      <td>84.110000</td>\n",
       "      <td>515.300000</td>\n",
       "      <td>0.116600</td>\n",
       "      <td>0.147200</td>\n",
       "      <td>0.114500</td>\n",
       "      <td>0.064930</td>\n",
       "      <td>0.250400</td>\n",
       "      <td>0.071460</td>\n",
       "      <td>0.000000</td>\n",
       "    </tr>\n",
       "    <tr>\n",
       "      <th>50%</th>\n",
       "      <td>13.370000</td>\n",
       "      <td>18.840000</td>\n",
       "      <td>86.240000</td>\n",
       "      <td>551.100000</td>\n",
       "      <td>0.095870</td>\n",
       "      <td>0.092630</td>\n",
       "      <td>0.061540</td>\n",
       "      <td>0.033500</td>\n",
       "      <td>0.179200</td>\n",
       "      <td>0.061540</td>\n",
       "      <td>...</td>\n",
       "      <td>25.410000</td>\n",
       "      <td>97.660000</td>\n",
       "      <td>686.500000</td>\n",
       "      <td>0.131300</td>\n",
       "      <td>0.211900</td>\n",
       "      <td>0.226700</td>\n",
       "      <td>0.099930</td>\n",
       "      <td>0.282200</td>\n",
       "      <td>0.080040</td>\n",
       "      <td>1.000000</td>\n",
       "    </tr>\n",
       "    <tr>\n",
       "      <th>75%</th>\n",
       "      <td>15.780000</td>\n",
       "      <td>21.800000</td>\n",
       "      <td>104.100000</td>\n",
       "      <td>782.700000</td>\n",
       "      <td>0.105300</td>\n",
       "      <td>0.130400</td>\n",
       "      <td>0.130700</td>\n",
       "      <td>0.074000</td>\n",
       "      <td>0.195700</td>\n",
       "      <td>0.066120</td>\n",
       "      <td>...</td>\n",
       "      <td>29.720000</td>\n",
       "      <td>125.400000</td>\n",
       "      <td>1084.000000</td>\n",
       "      <td>0.146000</td>\n",
       "      <td>0.339100</td>\n",
       "      <td>0.382900</td>\n",
       "      <td>0.161400</td>\n",
       "      <td>0.317900</td>\n",
       "      <td>0.092080</td>\n",
       "      <td>1.000000</td>\n",
       "    </tr>\n",
       "    <tr>\n",
       "      <th>max</th>\n",
       "      <td>28.110000</td>\n",
       "      <td>39.280000</td>\n",
       "      <td>188.500000</td>\n",
       "      <td>2501.000000</td>\n",
       "      <td>0.163400</td>\n",
       "      <td>0.345400</td>\n",
       "      <td>0.426800</td>\n",
       "      <td>0.201200</td>\n",
       "      <td>0.304000</td>\n",
       "      <td>0.097440</td>\n",
       "      <td>...</td>\n",
       "      <td>49.540000</td>\n",
       "      <td>251.200000</td>\n",
       "      <td>4254.000000</td>\n",
       "      <td>0.222600</td>\n",
       "      <td>1.058000</td>\n",
       "      <td>1.252000</td>\n",
       "      <td>0.291000</td>\n",
       "      <td>0.663800</td>\n",
       "      <td>0.207500</td>\n",
       "      <td>1.000000</td>\n",
       "    </tr>\n",
       "  </tbody>\n",
       "</table>\n",
       "<p>8 rows × 31 columns</p>\n",
       "</div>"
      ],
      "text/plain": [
       "       mean radius  mean texture  mean perimeter    mean area  \\\n",
       "count   569.000000    569.000000      569.000000   569.000000   \n",
       "mean     14.127292     19.289649       91.969033   654.889104   \n",
       "std       3.524049      4.301036       24.298981   351.914129   \n",
       "min       6.981000      9.710000       43.790000   143.500000   \n",
       "25%      11.700000     16.170000       75.170000   420.300000   \n",
       "50%      13.370000     18.840000       86.240000   551.100000   \n",
       "75%      15.780000     21.800000      104.100000   782.700000   \n",
       "max      28.110000     39.280000      188.500000  2501.000000   \n",
       "\n",
       "       mean smoothness  mean compactness  mean concavity  mean concave points  \\\n",
       "count       569.000000        569.000000      569.000000           569.000000   \n",
       "mean          0.096360          0.104341        0.088799             0.048919   \n",
       "std           0.014064          0.052813        0.079720             0.038803   \n",
       "min           0.052630          0.019380        0.000000             0.000000   \n",
       "25%           0.086370          0.064920        0.029560             0.020310   \n",
       "50%           0.095870          0.092630        0.061540             0.033500   \n",
       "75%           0.105300          0.130400        0.130700             0.074000   \n",
       "max           0.163400          0.345400        0.426800             0.201200   \n",
       "\n",
       "       mean symmetry  mean fractal dimension  ...  worst texture  \\\n",
       "count     569.000000              569.000000  ...     569.000000   \n",
       "mean        0.181162                0.062798  ...      25.677223   \n",
       "std         0.027414                0.007060  ...       6.146258   \n",
       "min         0.106000                0.049960  ...      12.020000   \n",
       "25%         0.161900                0.057700  ...      21.080000   \n",
       "50%         0.179200                0.061540  ...      25.410000   \n",
       "75%         0.195700                0.066120  ...      29.720000   \n",
       "max         0.304000                0.097440  ...      49.540000   \n",
       "\n",
       "       worst perimeter   worst area  worst smoothness  worst compactness  \\\n",
       "count       569.000000   569.000000        569.000000         569.000000   \n",
       "mean        107.261213   880.583128          0.132369           0.254265   \n",
       "std          33.602542   569.356993          0.022832           0.157336   \n",
       "min          50.410000   185.200000          0.071170           0.027290   \n",
       "25%          84.110000   515.300000          0.116600           0.147200   \n",
       "50%          97.660000   686.500000          0.131300           0.211900   \n",
       "75%         125.400000  1084.000000          0.146000           0.339100   \n",
       "max         251.200000  4254.000000          0.222600           1.058000   \n",
       "\n",
       "       worst concavity  worst concave points  worst symmetry  \\\n",
       "count       569.000000            569.000000      569.000000   \n",
       "mean          0.272188              0.114606        0.290076   \n",
       "std           0.208624              0.065732        0.061867   \n",
       "min           0.000000              0.000000        0.156500   \n",
       "25%           0.114500              0.064930        0.250400   \n",
       "50%           0.226700              0.099930        0.282200   \n",
       "75%           0.382900              0.161400        0.317900   \n",
       "max           1.252000              0.291000        0.663800   \n",
       "\n",
       "       worst fractal dimension      target  \n",
       "count               569.000000  569.000000  \n",
       "mean                  0.083946    0.627417  \n",
       "std                   0.018061    0.483918  \n",
       "min                   0.055040    0.000000  \n",
       "25%                   0.071460    0.000000  \n",
       "50%                   0.080040    1.000000  \n",
       "75%                   0.092080    1.000000  \n",
       "max                   0.207500    1.000000  \n",
       "\n",
       "[8 rows x 31 columns]"
      ]
     },
     "execution_count": 39,
     "metadata": {},
     "output_type": "execute_result"
    }
   ],
   "source": [
    "data.describe()"
   ]
  },
  {
   "cell_type": "code",
   "execution_count": 43,
   "id": "881592f6-b7c3-4c81-83fb-29168e299cdf",
   "metadata": {},
   "outputs": [
    {
     "data": {
      "text/plain": [
       "mean radius                0\n",
       "mean texture               0\n",
       "mean perimeter             0\n",
       "mean area                  0\n",
       "mean smoothness            0\n",
       "mean compactness           0\n",
       "mean concavity             0\n",
       "mean concave points        0\n",
       "mean symmetry              0\n",
       "mean fractal dimension     0\n",
       "radius error               0\n",
       "texture error              0\n",
       "perimeter error            0\n",
       "area error                 0\n",
       "smoothness error           0\n",
       "compactness error          0\n",
       "concavity error            0\n",
       "concave points error       0\n",
       "symmetry error             0\n",
       "fractal dimension error    0\n",
       "worst radius               0\n",
       "worst texture              0\n",
       "worst perimeter            0\n",
       "worst area                 0\n",
       "worst smoothness           0\n",
       "worst compactness          0\n",
       "worst concavity            0\n",
       "worst concave points       0\n",
       "worst symmetry             0\n",
       "worst fractal dimension    0\n",
       "target                     0\n",
       "dtype: int64"
      ]
     },
     "execution_count": 43,
     "metadata": {},
     "output_type": "execute_result"
    }
   ],
   "source": [
    "data.isnull().sum()  #檢查遺漏值"
   ]
  },
  {
   "cell_type": "markdown",
   "id": "d0d9c959-9711-428c-9504-61eb66ece599",
   "metadata": {},
   "source": [
    "2. 資料預處理"
   ]
  },
  {
   "cell_type": "markdown",
   "id": "0657366c-b02f-4e1c-9a91-749593b16432",
   "metadata": {},
   "source": [
    "為了避免後續的預測及避免模型 underfitting/overfitting，先將資料切分成訓練集與測試集。另一方面，為了不使資料維度大小影響預測結果，也將資料進行標準化"
   ]
  },
  {
   "cell_type": "code",
   "execution_count": 48,
   "id": "e23fb844-d2a3-4514-8442-12171d81d9db",
   "metadata": {},
   "outputs": [],
   "source": [
    "x_train, x_test, y_train, y_test = train_test_split(x, y, test_size = 0.2, random_state = 42)"
   ]
  },
  {
   "cell_type": "markdown",
   "id": "6c32b380-0ee9-4997-923d-1625b442ef89",
   "metadata": {},
   "source": [
    "test_size=0.2\t20% 當測試集，80% 當訓練集(常見比例)\n",
    "random_state=42\t設定隨機種子，確保拆分結果一致"
   ]
  },
  {
   "cell_type": "code",
   "execution_count": 50,
   "id": "e0afeb3a-8f37-4563-99ae-f20d72be4baa",
   "metadata": {},
   "outputs": [
    {
     "name": "stdout",
     "output_type": "stream",
     "text": [
      "x_train shape: (455, 30)\n",
      "x_test shape: (114, 30)\n",
      "y_train shape: (455, 1)\n",
      "y_test shape: (114, 1)\n"
     ]
    }
   ],
   "source": [
    "print(f\"x_train shape: {x_train.shape}\")  # (455, 30) -> 455 筆訓練數據，30 個特徵\n",
    "print(f\"x_test shape: {x_test.shape}\")   # (114, 30) -> 114 筆測試數據，30 個特徵\n",
    "print(f\"y_train shape: {y_train.shape}\") # (455, 1) -> 455 個訓練標籤\n",
    "print(f\"y_test shape: {y_test.shape}\")   # (114, 1) -> 114 個測試標籤\n",
    "\n",
    "# 569 筆數據 拆分成 455 筆訓練 + 114 筆測試（因為 569 * 0.8 ≈ 455）"
   ]
  },
  {
   "cell_type": "code",
   "execution_count": 56,
   "id": "c75eeffa-2e69-480b-8de2-82a6bbe13fe7",
   "metadata": {},
   "outputs": [],
   "source": [
    "scaler = StandardScaler()\n",
    "scaler.fit(x_train)\n",
    "x_train_std = scaler.transform(x_train)\n",
    "x_test_std = scaler.transform(x_test)"
   ]
  },
  {
   "cell_type": "markdown",
   "id": "238076c6-08a3-448f-ae3d-c481d2116a25",
   "metadata": {},
   "source": [
    "此段目的是對數據進行標準化 (Standardization)，使所有特徵擁有相同的尺度 (scale)，這在機器學習中特別重要，因為某些演算法（如邏輯斯回歸、SVM、KNN 等）對不同尺度的數據敏感。"
   ]
  },
  {
   "cell_type": "markdown",
   "id": "cd76c58e-a53e-4dc6-9f11-832452b32fe4",
   "metadata": {},
   "source": [
    "3. 建置模型"
   ]
  },
  {
   "cell_type": "code",
   "execution_count": 58,
   "id": "557750dc-bee1-48a3-8077-1f941c45768f",
   "metadata": {},
   "outputs": [],
   "source": [
    "from sklearn.linear_model import LogisticRegression"
   ]
  },
  {
   "cell_type": "markdown",
   "id": "cb13f9cd-38c6-438b-996b-759182165427",
   "metadata": {},
   "source": [
    "Logistic Regression 會預測 某個類別的機率，並根據這個機率進行分類。如果機率大於 0.5，我們分類為 1，否則分類為 0。\n",
    "\n",
    "scikit-learn 提供三種正則化方式：\n",
    "l1 (Lasso Regression)\n",
    "l2 (Ridge Regression)\n",
    "elasticnet (L1 + L2 的混合)"
   ]
  },
  {
   "cell_type": "code",
   "execution_count": 64,
   "id": "f0e909a9-ebab-4469-9349-77c8c7f967f9",
   "metadata": {},
   "outputs": [],
   "source": [
    "clf = LogisticRegression(penalty='l2').fit(x_train_std, y_train.values.ravel())"
   ]
  },
  {
   "cell_type": "markdown",
   "id": "52c1c71c-dbe5-4fae-a598-9cfef501f9a9",
   "metadata": {},
   "source": [
    "選擇 L2 是為了讓所有特徵的影響力更均勻分布，避免某些特徵的權重過大。\n",
    "fit(X, y) 方法：則是讓模型學習 X（特徵） 和 y（標籤）之間的關係，並計算最佳的迴歸係數 (weights)。\n",
    "y_train.values.ravel()\t則將 y_train 轉換為 1D 陣列（只有一排的數據），才不影響數據運行。"
   ]
  },
  {
   "cell_type": "code",
   "execution_count": 66,
   "id": "ccbe038f-c66e-404b-aeac-f0d65d03fa4c",
   "metadata": {},
   "outputs": [
    {
     "data": {
      "text/plain": [
       "array([[1.13590250e-01, 8.86409750e-01],\n",
       "       [9.99990991e-01, 9.00936206e-06],\n",
       "       [9.96920905e-01, 3.07909541e-03],\n",
       "       [5.10134225e-04, 9.99489866e-01],\n",
       "       [6.06389713e-05, 9.99939361e-01],\n",
       "       [1.00000000e+00, 9.48087773e-11],\n",
       "       [9.99999998e-01, 1.53672648e-09],\n",
       "       [9.65096937e-01, 3.49030633e-02],\n",
       "       [3.79342140e-01, 6.20657860e-01],\n",
       "       [7.59402734e-04, 9.99240597e-01]])"
      ]
     },
     "execution_count": 66,
     "metadata": {},
     "output_type": "execute_result"
    }
   ],
   "source": [
    "predict = clf.predict(x_test_std)\n",
    "clf.predict_proba(x_test_std)[:10]"
   ]
  },
  {
   "cell_type": "markdown",
   "id": "bb967f09-47e6-4115-9cc4-756c97f63a67",
   "metadata": {},
   "source": [
    "如果右側數值 (P(y=1)) 比左側數值 (P(y=0)) 大，則預測 1（良性腫瘤）。\n",
    "如果左側數值 (P(y=0)) 比右側數值 (P(y=1)) 大，則預測 0（惡性腫瘤）。"
   ]
  },
  {
   "cell_type": "code",
   "execution_count": 69,
   "id": "9dd02b26-5610-4a23-83b8-5ac8e7a0e219",
   "metadata": {},
   "outputs": [
    {
     "name": "stdout",
     "output_type": "stream",
     "text": [
      "mean radius : -0.43190367777433786\n",
      "mean texture : -0.38732553114139195\n",
      "mean perimeter : -0.39343247642496076\n",
      "mean area : -0.4652100607636062\n",
      "mean smoothness : -0.07166727707542167\n",
      "mean compactness : 0.5401639468319589\n",
      "mean concavity : -0.8014580988560315\n",
      "mean concave points : -1.119804075650287\n",
      "mean symmetry : 0.23611851556028704\n",
      "mean fractal dimension : 0.07592092813647368\n",
      "radius error : -1.2681781455073842\n",
      "texture error : 0.1888773801099112\n",
      "perimeter error : -0.6105830174385625\n",
      "area error : -0.9071857032866867\n",
      "smoothness error : -0.3133067534877975\n",
      "compactness error : 0.6824914543472079\n",
      "concavity error : 0.17527451713672207\n",
      "concave points error : -0.3112998998152244\n",
      "symmetry error : 0.5004250240524786\n",
      "fractal dimension error : 0.6162299296594599\n",
      "worst radius : -0.8798402352507746\n",
      "worst texture : -1.3506055922623328\n",
      "worst perimeter : -0.5894527319656216\n",
      "worst area : -0.8418459407075642\n",
      "worst smoothness : -0.544169669829603\n",
      "worst compactness : 0.01611019428995047\n",
      "worst concavity : -0.9430531344506449\n",
      "worst concave points : -0.7782172634838909\n",
      "worst symmetry : -1.2082003069317793\n",
      "worst fractal dimension : -0.15741386700798024\n"
     ]
    }
   ],
   "source": [
    "coef = clf.coef_[0]\n",
    "for i in range(len(data.columns[:-1])):\n",
    "    print(data.columns[i],\":\",coef[i])"
   ]
  },
  {
   "cell_type": "markdown",
   "id": "340382c3-113e-4537-9b2f-81d5571b3d47",
   "metadata": {},
   "source": [
    "上述主要在列出每個特徵（變數）的迴歸係數 (coefficient, coef_)，用來觀察 Logistic Regression 模型對每個特徵的權重。"
   ]
  },
  {
   "cell_type": "markdown",
   "id": "f18f0aaa-02ad-485e-b01e-3ecb02327d2a",
   "metadata": {},
   "source": [
    "可以根據模型的結果來試著思考：\n",
    "因為 Logistic Regression 的輸出來自線性加權和\n",
    "\n",
    "\n",
    "如果 coef_ 絕對值大：\n",
    "代表這個特徵的數值變化，對 z（決策值）影響很大。\n",
    "如果 coef_ 絕對值小：\n",
    "代表這個特徵的數值變化，對 z 影響較小。\n",
    "\n",
    "如果將係數取絕對值，絕對值越大，代表影響力越深\n",
    "若從絕對值大小來看的話，可以發現模型中比較重要的係數：\n",
    "\n",
    "worst fractal dimension\n",
    "worst texture\n",
    "radius error\n",
    "重要係數關係到:\n",
    "這個特徵是否能夠有效分開良性與惡性腫瘤。\n",
    "這個特徵是否能夠補充其他特徵無法提供的信息。"
   ]
  },
  {
   "cell_type": "markdown",
   "id": "3190c7e6-252c-4a1c-a964-e89e433e1488",
   "metadata": {},
   "source": [
    "4. 模型評估"
   ]
  },
  {
   "cell_type": "markdown",
   "id": "ecc89012-aa72-4f36-91a3-0e5fee2fda08",
   "metadata": {},
   "source": [
    "同時不能只看 coef_ 來判斷模型的好壞，還需要使用「評估指標」來衡量分類器的表現。這些評估指標包括：\n",
    "\n",
    "Confusion Matrix (混淆矩陣) → 檢查預測錯多少\n",
    "Accuracy (準確率) → 看模型整體預測對多少\n",
    "Recall (召回率, 靈敏度) → 針對 重要類別（例如惡性腫瘤）預測得如何\n",
    "F1-score (F1 分數) → 綜合 Precision（精確率）和 Recall 的指標，適合不平衡數據\n",
    "\n",
    "這些指標可以幫助回答：\n",
    "「這個模型真的可以準確區分良性與惡性腫瘤嗎？還是它只是隨機猜測？」"
   ]
  },
  {
   "cell_type": "code",
   "execution_count": 87,
   "id": "e67b4196-d959-48f2-ab5d-0775832345ab",
   "metadata": {},
   "outputs": [
    {
     "name": "stdout",
     "output_type": "stream",
     "text": [
      "Accuracy score: 0.9736842105263158\n"
     ]
    }
   ],
   "source": [
    "from sklearn.metrics import confusion_matrix, classification_report  #自動計算 模型在測試數據上的準確率\n",
    "print(\"Accuracy score:\",clf.score(x_test_std, y_test)) \n",
    "matric = confusion_matrix(y_test,predict)  #計算出 真正確分類 (TP, TN) 和 錯誤分類 (FP, FN) 的數據。"
   ]
  },
  {
   "cell_type": "code",
   "execution_count": 97,
   "id": "8e205edb-d7c8-4197-b674-4a39ed746c4d",
   "metadata": {},
   "outputs": [
    {
     "data": {
      "image/png": "[encoded data removed]",
      "text/plain": [
       "<Figure size 640x480 with 1 Axes>"
      ]
     },
     "metadata": {},
     "output_type": "display_data"
    }
   ],
   "source": [
    "import matplotlib.pyplot as plt\n",
    "\n",
    "sns.heatmap(matric,square=True,annot=True,cbar=False)\n",
    "plt.xlabel(\"predict value\")\n",
    "plt.ylabel(\"true value\")\n",
    "plt.title(\"confusion matrix\")\n",
    "plt.show()\n"
   ]
  },
  {
   "cell_type": "code",
   "execution_count": 99,
   "id": "2b0d063e-6ef4-473f-9ddb-68cefdf0a1e3",
   "metadata": {},
   "outputs": [
    {
     "name": "stdout",
     "output_type": "stream",
     "text": [
      "report:\n",
      "               precision    recall  f1-score   support\n",
      "\n",
      "          良性       0.97      0.99      0.98        71\n",
      "          惡性       0.98      0.95      0.96        43\n",
      "\n",
      "    accuracy                           0.97       114\n",
      "   macro avg       0.97      0.97      0.97       114\n",
      "weighted avg       0.97      0.97      0.97       114\n",
      "\n"
     ]
    }
   ],
   "source": [
    "print(\"report:\\n\", classification_report(y_test, predict, labels=[1,0], target_names=[\"良性\",\"惡性\"]))"
   ]
  },
  {
   "cell_type": "markdown",
   "id": "732f47ba-76ad-40a3-b476-80a88fb6a94f",
   "metadata": {},
   "source": [
    "另外，對於這種分類模型，也可以使用 ROC curve 以及 AUC 來評估"
   ]
  },
  {
   "cell_type": "code",
   "execution_count": 109,
   "id": "ecab6f51-0064-401e-aef4-24aab1ca2c14",
   "metadata": {},
   "outputs": [
    {
     "data": {
      "image/png": "[encoded data removed]",
      "text/plain": [
       "<Figure size 640x480 with 1 Axes>"
      ]
     },
     "metadata": {},
     "output_type": "display_data"
    }
   ],
   "source": [
    "from sklearn.metrics import RocCurveDisplay\n",
    "RocCurveDisplay.from_estimator(clf, x_test_std, y_test)\n",
    "plt.show()"
   ]
  }
 ],
 "metadata": {
  "kernelspec": {
   "display_name": "Python [conda env:base] *",
   "language": "python",
   "name": "conda-base-py"
  },
  "language_info": {
   "codemirror_mode": {
    "name": "ipython",
    "version": 3
   },
   "file_extension": ".py",
   "mimetype": "text/x-python",
   "name": "python",
   "nbconvert_exporter": "python",
   "pygments_lexer": "ipython3",
   "version": "3.12.7"
  }
 },
 "nbformat": 4,
 "nbformat_minor": 5
}
