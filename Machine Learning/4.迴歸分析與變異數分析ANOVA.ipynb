{
 "cells": [
  {
   "cell_type": "markdown",
   "id": "e5e0f2c0-f06c-4d8d-ae1f-f64c0fbe8f6e",
   "metadata": {},
   "source": [
    "Regression & ANOVA"
   ]
  },
  {
   "cell_type": "markdown",
   "id": "84d89e3b-cba8-40ae-aae7-c711c6ae6a06",
   "metadata": {},
   "source": [
    "1.查看資料集\n",
    "2.敘述統計-繪圖\n",
    "3.迴歸分析\n",
    "4.變異數分析(ANOVA)\n",
    "5.總結"
   ]
  },
  {
   "cell_type": "markdown",
   "id": "0dfe460a-fef2-475e-81e5-c4922d10a30f",
   "metadata": {},
   "source": [
    "1. 查看資料集\n",
    "這裡使用的資料，是kaggle的健康保險費用資料，https://www.kaggle.com/mirichoi0218/insurance"
   ]
  },
  {
   "cell_type": "code",
   "execution_count": 30,
   "id": "4f927328-a8c2-44bd-9728-c98cac915c13",
   "metadata": {},
   "outputs": [],
   "source": [
    "import matplotlib as plt\n",
    "import numpy as np\n",
    "import pandas as pd"
   ]
  },
  {
   "cell_type": "code",
   "execution_count": 31,
   "id": "b2ab446b-c023-4ed2-ba7f-759d095eb400",
   "metadata": {},
   "outputs": [
    {
     "data": {
      "text/html": [
       "<div>\n",
       "<style scoped>\n",
       "    .dataframe tbody tr th:only-of-type {\n",
       "        vertical-align: middle;\n",
       "    }\n",
       "\n",
       "    .dataframe tbody tr th {\n",
       "        vertical-align: top;\n",
       "    }\n",
       "\n",
       "    .dataframe thead th {\n",
       "        text-align: right;\n",
       "    }\n",
       "</style>\n",
       "<table border=\"1\" class=\"dataframe\">\n",
       "  <thead>\n",
       "    <tr style=\"text-align: right;\">\n",
       "      <th></th>\n",
       "      <th>age</th>\n",
       "      <th>sex</th>\n",
       "      <th>bmi</th>\n",
       "      <th>children</th>\n",
       "      <th>smoker</th>\n",
       "      <th>region</th>\n",
       "      <th>charges</th>\n",
       "    </tr>\n",
       "  </thead>\n",
       "  <tbody>\n",
       "    <tr>\n",
       "      <th>0</th>\n",
       "      <td>19</td>\n",
       "      <td>female</td>\n",
       "      <td>27.900</td>\n",
       "      <td>0</td>\n",
       "      <td>yes</td>\n",
       "      <td>southwest</td>\n",
       "      <td>16884.92400</td>\n",
       "    </tr>\n",
       "    <tr>\n",
       "      <th>1</th>\n",
       "      <td>18</td>\n",
       "      <td>male</td>\n",
       "      <td>33.770</td>\n",
       "      <td>1</td>\n",
       "      <td>no</td>\n",
       "      <td>southeast</td>\n",
       "      <td>1725.55230</td>\n",
       "    </tr>\n",
       "    <tr>\n",
       "      <th>2</th>\n",
       "      <td>28</td>\n",
       "      <td>male</td>\n",
       "      <td>33.000</td>\n",
       "      <td>3</td>\n",
       "      <td>no</td>\n",
       "      <td>southeast</td>\n",
       "      <td>4449.46200</td>\n",
       "    </tr>\n",
       "    <tr>\n",
       "      <th>3</th>\n",
       "      <td>33</td>\n",
       "      <td>male</td>\n",
       "      <td>22.705</td>\n",
       "      <td>0</td>\n",
       "      <td>no</td>\n",
       "      <td>northwest</td>\n",
       "      <td>21984.47061</td>\n",
       "    </tr>\n",
       "    <tr>\n",
       "      <th>4</th>\n",
       "      <td>32</td>\n",
       "      <td>male</td>\n",
       "      <td>28.880</td>\n",
       "      <td>0</td>\n",
       "      <td>no</td>\n",
       "      <td>northwest</td>\n",
       "      <td>3866.85520</td>\n",
       "    </tr>\n",
       "  </tbody>\n",
       "</table>\n",
       "</div>"
      ],
      "text/plain": [
       "   age     sex     bmi  children smoker     region      charges\n",
       "0   19  female  27.900         0    yes  southwest  16884.92400\n",
       "1   18    male  33.770         1     no  southeast   1725.55230\n",
       "2   28    male  33.000         3     no  southeast   4449.46200\n",
       "3   33    male  22.705         0     no  northwest  21984.47061\n",
       "4   32    male  28.880         0     no  northwest   3866.85520"
      ]
     },
     "execution_count": 31,
     "metadata": {},
     "output_type": "execute_result"
    }
   ],
   "source": [
    "df = pd.read_csv(\"insurance.csv\")\n",
    "df.head()"
   ]
  },
  {
   "cell_type": "code",
   "execution_count": 32,
   "id": "5fdad246-0e11-4714-aac0-ec416b23fe62",
   "metadata": {},
   "outputs": [
    {
     "data": {
      "text/html": [
       "<div>\n",
       "<style scoped>\n",
       "    .dataframe tbody tr th:only-of-type {\n",
       "        vertical-align: middle;\n",
       "    }\n",
       "\n",
       "    .dataframe tbody tr th {\n",
       "        vertical-align: top;\n",
       "    }\n",
       "\n",
       "    .dataframe thead th {\n",
       "        text-align: right;\n",
       "    }\n",
       "</style>\n",
       "<table border=\"1\" class=\"dataframe\">\n",
       "  <thead>\n",
       "    <tr style=\"text-align: right;\">\n",
       "      <th></th>\n",
       "      <th>age</th>\n",
       "      <th>bmi</th>\n",
       "      <th>children</th>\n",
       "      <th>sex_male</th>\n",
       "      <th>smoker_yes</th>\n",
       "      <th>region_northwest</th>\n",
       "      <th>region_southeast</th>\n",
       "      <th>region_southwest</th>\n",
       "    </tr>\n",
       "  </thead>\n",
       "  <tbody>\n",
       "    <tr>\n",
       "      <th>0</th>\n",
       "      <td>19</td>\n",
       "      <td>27.900</td>\n",
       "      <td>0</td>\n",
       "      <td>False</td>\n",
       "      <td>True</td>\n",
       "      <td>False</td>\n",
       "      <td>False</td>\n",
       "      <td>True</td>\n",
       "    </tr>\n",
       "    <tr>\n",
       "      <th>1</th>\n",
       "      <td>18</td>\n",
       "      <td>33.770</td>\n",
       "      <td>1</td>\n",
       "      <td>True</td>\n",
       "      <td>False</td>\n",
       "      <td>False</td>\n",
       "      <td>True</td>\n",
       "      <td>False</td>\n",
       "    </tr>\n",
       "    <tr>\n",
       "      <th>2</th>\n",
       "      <td>28</td>\n",
       "      <td>33.000</td>\n",
       "      <td>3</td>\n",
       "      <td>True</td>\n",
       "      <td>False</td>\n",
       "      <td>False</td>\n",
       "      <td>True</td>\n",
       "      <td>False</td>\n",
       "    </tr>\n",
       "    <tr>\n",
       "      <th>3</th>\n",
       "      <td>33</td>\n",
       "      <td>22.705</td>\n",
       "      <td>0</td>\n",
       "      <td>True</td>\n",
       "      <td>False</td>\n",
       "      <td>True</td>\n",
       "      <td>False</td>\n",
       "      <td>False</td>\n",
       "    </tr>\n",
       "    <tr>\n",
       "      <th>4</th>\n",
       "      <td>32</td>\n",
       "      <td>28.880</td>\n",
       "      <td>0</td>\n",
       "      <td>True</td>\n",
       "      <td>False</td>\n",
       "      <td>True</td>\n",
       "      <td>False</td>\n",
       "      <td>False</td>\n",
       "    </tr>\n",
       "  </tbody>\n",
       "</table>\n",
       "</div>"
      ],
      "text/plain": [
       "   age     bmi  children  sex_male  smoker_yes  region_northwest  \\\n",
       "0   19  27.900         0     False        True             False   \n",
       "1   18  33.770         1      True       False             False   \n",
       "2   28  33.000         3      True       False             False   \n",
       "3   33  22.705         0      True       False              True   \n",
       "4   32  28.880         0      True       False              True   \n",
       "\n",
       "   region_southeast  region_southwest  \n",
       "0             False              True  \n",
       "1              True             False  \n",
       "2              True             False  \n",
       "3             False             False  \n",
       "4             False             False  "
      ]
     },
     "execution_count": 32,
     "metadata": {},
     "output_type": "execute_result"
    }
   ],
   "source": [
    "x = df.drop([\"charges\"], axis=1)\n",
    "y = df[\"charges\"]\n",
    "x = pd.get_dummies(x, drop_first = True)\n",
    "x.head()"
   ]
  },
  {
   "cell_type": "code",
   "execution_count": 33,
   "id": "2fc746d1-b5cb-4177-88d4-3d1f1375a16a",
   "metadata": {},
   "outputs": [
    {
     "data": {
      "text/html": [
       "<div>\n",
       "<style scoped>\n",
       "    .dataframe tbody tr th:only-of-type {\n",
       "        vertical-align: middle;\n",
       "    }\n",
       "\n",
       "    .dataframe tbody tr th {\n",
       "        vertical-align: top;\n",
       "    }\n",
       "\n",
       "    .dataframe thead th {\n",
       "        text-align: right;\n",
       "    }\n",
       "</style>\n",
       "<table border=\"1\" class=\"dataframe\">\n",
       "  <thead>\n",
       "    <tr style=\"text-align: right;\">\n",
       "      <th></th>\n",
       "      <th>age</th>\n",
       "      <th>bmi</th>\n",
       "      <th>children</th>\n",
       "      <th>charges</th>\n",
       "    </tr>\n",
       "  </thead>\n",
       "  <tbody>\n",
       "    <tr>\n",
       "      <th>count</th>\n",
       "      <td>1338.000000</td>\n",
       "      <td>1338.000000</td>\n",
       "      <td>1338.000000</td>\n",
       "      <td>1338.000000</td>\n",
       "    </tr>\n",
       "    <tr>\n",
       "      <th>mean</th>\n",
       "      <td>39.207025</td>\n",
       "      <td>30.663397</td>\n",
       "      <td>1.094918</td>\n",
       "      <td>13270.422265</td>\n",
       "    </tr>\n",
       "    <tr>\n",
       "      <th>std</th>\n",
       "      <td>14.049960</td>\n",
       "      <td>6.098187</td>\n",
       "      <td>1.205493</td>\n",
       "      <td>12110.011237</td>\n",
       "    </tr>\n",
       "    <tr>\n",
       "      <th>min</th>\n",
       "      <td>18.000000</td>\n",
       "      <td>15.960000</td>\n",
       "      <td>0.000000</td>\n",
       "      <td>1121.873900</td>\n",
       "    </tr>\n",
       "    <tr>\n",
       "      <th>25%</th>\n",
       "      <td>27.000000</td>\n",
       "      <td>26.296250</td>\n",
       "      <td>0.000000</td>\n",
       "      <td>4740.287150</td>\n",
       "    </tr>\n",
       "    <tr>\n",
       "      <th>50%</th>\n",
       "      <td>39.000000</td>\n",
       "      <td>30.400000</td>\n",
       "      <td>1.000000</td>\n",
       "      <td>9382.033000</td>\n",
       "    </tr>\n",
       "    <tr>\n",
       "      <th>75%</th>\n",
       "      <td>51.000000</td>\n",
       "      <td>34.693750</td>\n",
       "      <td>2.000000</td>\n",
       "      <td>16639.912515</td>\n",
       "    </tr>\n",
       "    <tr>\n",
       "      <th>max</th>\n",
       "      <td>64.000000</td>\n",
       "      <td>53.130000</td>\n",
       "      <td>5.000000</td>\n",
       "      <td>63770.428010</td>\n",
       "    </tr>\n",
       "  </tbody>\n",
       "</table>\n",
       "</div>"
      ],
      "text/plain": [
       "               age          bmi     children       charges\n",
       "count  1338.000000  1338.000000  1338.000000   1338.000000\n",
       "mean     39.207025    30.663397     1.094918  13270.422265\n",
       "std      14.049960     6.098187     1.205493  12110.011237\n",
       "min      18.000000    15.960000     0.000000   1121.873900\n",
       "25%      27.000000    26.296250     0.000000   4740.287150\n",
       "50%      39.000000    30.400000     1.000000   9382.033000\n",
       "75%      51.000000    34.693750     2.000000  16639.912515\n",
       "max      64.000000    53.130000     5.000000  63770.428010"
      ]
     },
     "execution_count": 33,
     "metadata": {},
     "output_type": "execute_result"
    }
   ],
   "source": [
    "df.describe()"
   ]
  },
  {
   "cell_type": "markdown",
   "id": "48c93b12-73b1-4f91-968d-391b4ec3e283",
   "metadata": {},
   "source": [
    "2. 敘述統計-繪圖"
   ]
  },
  {
   "cell_type": "markdown",
   "id": "a2e0cfc4-8924-4137-af46-7d6503096c90",
   "metadata": {},
   "source": [
    "在進行資料分析之前，先仔細觀察資料，看看能不能從裡面找到一些隱藏資訊"
   ]
  },
  {
   "cell_type": "code",
   "execution_count": 36,
   "id": "296745ec-a5d5-469c-bf42-0323136c650a",
   "metadata": {},
   "outputs": [
    {
     "data": {
      "image/png": "[encoded data removed]",
      "text/plain": [
       "<Figure size 640x480 with 1 Axes>"
      ]
     },
     "metadata": {},
     "output_type": "display_data"
    }
   ],
   "source": [
    "import matplotlib.pyplot as plt\n",
    "\n",
    "plt.xlabel(\"age\")\n",
    "plt.ylabel(\"bmi\")\n",
    "plt.scatter(df[\"age\"],df[\"bmi\"])\n",
    "plt.show()"
   ]
  },
  {
   "cell_type": "markdown",
   "id": "276dceb9-c3d1-448e-8d48-a4ed65dabb65",
   "metadata": {},
   "source": [
    "嗯…好像看不出什麼東西，繼續找找"
   ]
  },
  {
   "cell_type": "code",
   "execution_count": 38,
   "id": "25649b86-9cae-44fb-a753-33fc9fffdd25",
   "metadata": {},
   "outputs": [
    {
     "data": {
      "image/png": "[encoded data removed]",
      "text/plain": [
       "<Figure size 640x480 with 1 Axes>"
      ]
     },
     "metadata": {},
     "output_type": "display_data"
    }
   ],
   "source": [
    "plt.xlabel(\"age\")\n",
    "plt.ylabel(\"charges\")\n",
    "plt.scatter(df[\"age\"],df[\"charges\"])\n",
    "plt.show()"
   ]
  },
  {
   "cell_type": "markdown",
   "id": "8d3bb429-0e25-474a-ad1d-0b24a9ac55d5",
   "metadata": {},
   "source": [
    "可以觀察出來，年齡與健保費用，存在著些許的線性關係！接著再確認類別變數的影響，可以在上面那張圖標上顏色："
   ]
  },
  {
   "cell_type": "code",
   "execution_count": 40,
   "id": "c1aa173d-7732-4881-9e50-b27c2fa91c17",
   "metadata": {},
   "outputs": [
    {
     "data": {
      "text/plain": [
       "<matplotlib.collections.PathCollection at 0x22103958ad0>"
      ]
     },
     "execution_count": 40,
     "metadata": {},
     "output_type": "execute_result"
    },
    {
     "data": {
      "image/png": "[encoded data removed]",
      "text/plain": [
       "<Figure size 640x480 with 1 Axes>"
      ]
     },
     "metadata": {},
     "output_type": "display_data"
    }
   ],
   "source": [
    "plt.xlabel(\"age\")\n",
    "plt.ylabel(\"charges\")\n",
    "plt.scatter(df[\"age\"],df[\"charges\"], c =x[\"smoker_yes\"] )"
   ]
  },
  {
   "cell_type": "markdown",
   "id": "67405fe5-2ea0-4d76-a91a-c9a73d5e71c0",
   "metadata": {},
   "source": [
    "透過顏色，我們可以直觀地看出吸菸者是否會有較高的醫療費用。plt.scatter() 會自動幫我們設定顏色，不需要手動指定。"
   ]
  },
  {
   "cell_type": "markdown",
   "id": "d561ec71-5f60-49c4-a8a8-bf4fd3cb2161",
   "metadata": {},
   "source": [
    "檢查已經做過的One-Hot Encoding的欄位 "
   ]
  },
  {
   "cell_type": "code",
   "execution_count": 43,
   "id": "eadf7de9-acf9-4595-b944-62e340faaf54",
   "metadata": {},
   "outputs": [
    {
     "name": "stdout",
     "output_type": "stream",
     "text": [
      "Index(['age', 'bmi', 'children', 'sex_male', 'smoker_yes', 'region_northwest',\n",
      "       'region_southeast', 'region_southwest'],\n",
      "      dtype='object')\n"
     ]
    }
   ],
   "source": [
    "print(x.columns)"
   ]
  },
  {
   "cell_type": "markdown",
   "id": "87ed7e70-9ab6-40bf-8b13-a046b2bd6cbd",
   "metadata": {},
   "source": [
    "接下來的程式碼的，目的是繪製「吸菸者 vs. 非吸菸者」的醫療費用 (charges) 盒鬚圖，讓我們可以比較這兩組人的醫療費用分布情況。"
   ]
  },
  {
   "cell_type": "code",
   "execution_count": 45,
   "id": "958c7d28-2899-423d-8000-87bff993e4b2",
   "metadata": {
    "scrolled": true
   },
   "outputs": [
    {
     "name": "stderr",
     "output_type": "stream",
     "text": [
      "C:\\Users\\sarah\\AppData\\Local\\Temp\\ipykernel_7488\\2924321856.py:1: MatplotlibDeprecationWarning: The 'labels' parameter of boxplot() has been renamed 'tick_labels' since Matplotlib 3.9; support for the old name will be dropped in 3.11.\n",
      "  plt.boxplot([\n"
     ]
    },
    {
     "data": {
      "text/plain": [
       "{'whiskers': [<matplotlib.lines.Line2D at 0x22103981c10>,\n",
       "  <matplotlib.lines.Line2D at 0x22103981340>,\n",
       "  <matplotlib.lines.Line2D at 0x22103325730>,\n",
       "  <matplotlib.lines.Line2D at 0x221035fad50>],\n",
       " 'caps': [<matplotlib.lines.Line2D at 0x221038c4830>,\n",
       "  <matplotlib.lines.Line2D at 0x221038c6f90>,\n",
       "  <matplotlib.lines.Line2D at 0x2210361b3b0>,\n",
       "  <matplotlib.lines.Line2D at 0x22103637470>],\n",
       " 'boxes': [<matplotlib.lines.Line2D at 0x221039813d0>,\n",
       "  <matplotlib.lines.Line2D at 0x221038c6720>],\n",
       " 'medians': [<matplotlib.lines.Line2D at 0x221038c62a0>,\n",
       "  <matplotlib.lines.Line2D at 0x221036370b0>],\n",
       " 'fliers': [<matplotlib.lines.Line2D at 0x221038c6240>,\n",
       "  <matplotlib.lines.Line2D at 0x22103637950>],\n",
       " 'means': []}"
      ]
     },
     "execution_count": 45,
     "metadata": {},
     "output_type": "execute_result"
    },
    {
     "data": {
      "image/png": "[encoded data removed]",
      "text/plain": [
       "<Figure size 640x480 with 1 Axes>"
      ]
     },
     "metadata": {},
     "output_type": "display_data"
    }
   ],
   "source": [
    "plt.boxplot([\n",
    "    df[x[\"smoker_yes\"] == 0] [\"charges\"],\n",
    "    df[x[\"smoker_yes\"] == 1] [\"charges\"]\n",
    "], labels = ['not_smoker', 'smoker'])"
   ]
  },
  {
   "cell_type": "markdown",
   "id": "be175292-919a-4369-86e1-32e40ff5995b",
   "metadata": {},
   "source": [
    "3.迴歸分析"
   ]
  },
  {
   "cell_type": "markdown",
   "id": "f3c777ab-5ba0-40c2-aa3f-cc2c218f8126",
   "metadata": {},
   "source": [
    "用來研究變數之間的關係，特別是 一個或多個「自變數」（X）對「因變數」（Y）的影響。"
   ]
  },
  {
   "cell_type": "markdown",
   "id": "9118c781-39cc-4280-af54-50c1983ab57e",
   "metadata": {},
   "source": [
    "迴歸類型有自己適用的情境\n",
    "1.線性迴歸:Y和X 呈現直線關係，適合預測房價、收入、銷售額等數值。\n",
    "2.多元線性迴歸:用於Y受到多個X影響，例如房價受面積、地點影響。\n",
    "3.多項式迴歸:用於Y和X有曲線關係的時候，適合股價、溫度變化等。\n",
    "4.邏輯斯迴歸:Y用於分類問題（0/1），適合預測疾病、信用違約等。\n",
    "5.Ridge / Lasso 迴歸:用於當變數過多、容易過擬合時，這兩種方法可以改善模型。\n",
    "6.決策樹迴歸:用於當X和Y關係複雜、非線性，決策樹可自動分割資料。"
   ]
  },
  {
   "cell_type": "code",
   "execution_count": 49,
   "id": "d419aced-38e0-46f2-96f6-c316a65a8aa4",
   "metadata": {},
   "outputs": [
    {
     "data": {
      "text/html": [
       "<div>\n",
       "<style scoped>\n",
       "    .dataframe tbody tr th:only-of-type {\n",
       "        vertical-align: middle;\n",
       "    }\n",
       "\n",
       "    .dataframe tbody tr th {\n",
       "        vertical-align: top;\n",
       "    }\n",
       "\n",
       "    .dataframe thead th {\n",
       "        text-align: right;\n",
       "    }\n",
       "</style>\n",
       "<table border=\"1\" class=\"dataframe\">\n",
       "  <thead>\n",
       "    <tr style=\"text-align: right;\">\n",
       "      <th></th>\n",
       "      <th>age</th>\n",
       "      <th>sex</th>\n",
       "      <th>bmi</th>\n",
       "      <th>children</th>\n",
       "      <th>smoker</th>\n",
       "      <th>region</th>\n",
       "      <th>charges</th>\n",
       "    </tr>\n",
       "  </thead>\n",
       "  <tbody>\n",
       "    <tr>\n",
       "      <th>0</th>\n",
       "      <td>19</td>\n",
       "      <td>female</td>\n",
       "      <td>27.900</td>\n",
       "      <td>0</td>\n",
       "      <td>yes</td>\n",
       "      <td>southwest</td>\n",
       "      <td>16884.92400</td>\n",
       "    </tr>\n",
       "    <tr>\n",
       "      <th>1</th>\n",
       "      <td>18</td>\n",
       "      <td>male</td>\n",
       "      <td>33.770</td>\n",
       "      <td>1</td>\n",
       "      <td>no</td>\n",
       "      <td>southeast</td>\n",
       "      <td>1725.55230</td>\n",
       "    </tr>\n",
       "    <tr>\n",
       "      <th>2</th>\n",
       "      <td>28</td>\n",
       "      <td>male</td>\n",
       "      <td>33.000</td>\n",
       "      <td>3</td>\n",
       "      <td>no</td>\n",
       "      <td>southeast</td>\n",
       "      <td>4449.46200</td>\n",
       "    </tr>\n",
       "    <tr>\n",
       "      <th>3</th>\n",
       "      <td>33</td>\n",
       "      <td>male</td>\n",
       "      <td>22.705</td>\n",
       "      <td>0</td>\n",
       "      <td>no</td>\n",
       "      <td>northwest</td>\n",
       "      <td>21984.47061</td>\n",
       "    </tr>\n",
       "    <tr>\n",
       "      <th>4</th>\n",
       "      <td>32</td>\n",
       "      <td>male</td>\n",
       "      <td>28.880</td>\n",
       "      <td>0</td>\n",
       "      <td>no</td>\n",
       "      <td>northwest</td>\n",
       "      <td>3866.85520</td>\n",
       "    </tr>\n",
       "    <tr>\n",
       "      <th>...</th>\n",
       "      <td>...</td>\n",
       "      <td>...</td>\n",
       "      <td>...</td>\n",
       "      <td>...</td>\n",
       "      <td>...</td>\n",
       "      <td>...</td>\n",
       "      <td>...</td>\n",
       "    </tr>\n",
       "    <tr>\n",
       "      <th>1333</th>\n",
       "      <td>50</td>\n",
       "      <td>male</td>\n",
       "      <td>30.970</td>\n",
       "      <td>3</td>\n",
       "      <td>no</td>\n",
       "      <td>northwest</td>\n",
       "      <td>10600.54830</td>\n",
       "    </tr>\n",
       "    <tr>\n",
       "      <th>1334</th>\n",
       "      <td>18</td>\n",
       "      <td>female</td>\n",
       "      <td>31.920</td>\n",
       "      <td>0</td>\n",
       "      <td>no</td>\n",
       "      <td>northeast</td>\n",
       "      <td>2205.98080</td>\n",
       "    </tr>\n",
       "    <tr>\n",
       "      <th>1335</th>\n",
       "      <td>18</td>\n",
       "      <td>female</td>\n",
       "      <td>36.850</td>\n",
       "      <td>0</td>\n",
       "      <td>no</td>\n",
       "      <td>southeast</td>\n",
       "      <td>1629.83350</td>\n",
       "    </tr>\n",
       "    <tr>\n",
       "      <th>1336</th>\n",
       "      <td>21</td>\n",
       "      <td>female</td>\n",
       "      <td>25.800</td>\n",
       "      <td>0</td>\n",
       "      <td>no</td>\n",
       "      <td>southwest</td>\n",
       "      <td>2007.94500</td>\n",
       "    </tr>\n",
       "    <tr>\n",
       "      <th>1337</th>\n",
       "      <td>61</td>\n",
       "      <td>female</td>\n",
       "      <td>29.070</td>\n",
       "      <td>0</td>\n",
       "      <td>yes</td>\n",
       "      <td>northwest</td>\n",
       "      <td>29141.36030</td>\n",
       "    </tr>\n",
       "  </tbody>\n",
       "</table>\n",
       "<p>1338 rows × 7 columns</p>\n",
       "</div>"
      ],
      "text/plain": [
       "      age     sex     bmi  children smoker     region      charges\n",
       "0      19  female  27.900         0    yes  southwest  16884.92400\n",
       "1      18    male  33.770         1     no  southeast   1725.55230\n",
       "2      28    male  33.000         3     no  southeast   4449.46200\n",
       "3      33    male  22.705         0     no  northwest  21984.47061\n",
       "4      32    male  28.880         0     no  northwest   3866.85520\n",
       "...   ...     ...     ...       ...    ...        ...          ...\n",
       "1333   50    male  30.970         3     no  northwest  10600.54830\n",
       "1334   18  female  31.920         0     no  northeast   2205.98080\n",
       "1335   18  female  36.850         0     no  southeast   1629.83350\n",
       "1336   21  female  25.800         0     no  southwest   2007.94500\n",
       "1337   61  female  29.070         0    yes  northwest  29141.36030\n",
       "\n",
       "[1338 rows x 7 columns]"
      ]
     },
     "execution_count": 49,
     "metadata": {},
     "output_type": "execute_result"
    }
   ],
   "source": [
    "import statsmodels.api as sm\n",
    "from scipy import stats\n",
    "df"
   ]
  },
  {
   "cell_type": "markdown",
   "id": "afd6619c-f9b4-48aa-ad08-6cda5324848a",
   "metadata": {},
   "source": [
    "接下來用statsmodel中的普通最小平方法(Ordinary Least Squares, OLS)進行線性回歸分析，並顯示回歸結果摘要。"
   ]
  },
  {
   "cell_type": "code",
   "execution_count": 51,
   "id": "3c4af2b0-a9b0-4ae5-b3f2-0b0ba3ca1c7f",
   "metadata": {},
   "outputs": [
    {
     "name": "stdout",
     "output_type": "stream",
     "text": [
      "age                   int64\n",
      "bmi                 float64\n",
      "children              int64\n",
      "sex_male               bool\n",
      "smoker_yes             bool\n",
      "region_northwest       bool\n",
      "region_southeast       bool\n",
      "region_southwest       bool\n",
      "dtype: object\n",
      "float64\n"
     ]
    }
   ],
   "source": [
    "print(x.dtypes)\n",
    "print(y.dtypes)"
   ]
  },
  {
   "cell_type": "code",
   "execution_count": 52,
   "id": "603c6836-f098-4e8b-b565-63d8d44cea17",
   "metadata": {},
   "outputs": [],
   "source": [
    "x = x.astype(float)\n",
    "y = y.astype(float)"
   ]
  },
  {
   "cell_type": "code",
   "execution_count": 53,
   "id": "d7688676-dea0-4a45-a94a-73f4944aec36",
   "metadata": {},
   "outputs": [
    {
     "name": "stdout",
     "output_type": "stream",
     "text": [
      "                            OLS Regression Results                            \n",
      "==============================================================================\n",
      "Dep. Variable:                charges   R-squared:                       0.751\n",
      "Model:                            OLS   Adj. R-squared:                  0.749\n",
      "Method:                 Least Squares   F-statistic:                     500.8\n",
      "Date:                Mon, 24 Feb 2025   Prob (F-statistic):               0.00\n",
      "Time:                        17:14:21   Log-Likelihood:                -13548.\n",
      "No. Observations:                1338   AIC:                         2.711e+04\n",
      "Df Residuals:                    1329   BIC:                         2.716e+04\n",
      "Df Model:                           8                                         \n",
      "Covariance Type:            nonrobust                                         \n",
      "====================================================================================\n",
      "                       coef    std err          t      P>|t|      [0.025      0.975]\n",
      "------------------------------------------------------------------------------------\n",
      "const            -1.194e+04    987.819    -12.086      0.000   -1.39e+04      -1e+04\n",
      "age                256.8564     11.899     21.587      0.000     233.514     280.199\n",
      "bmi                339.1935     28.599     11.860      0.000     283.088     395.298\n",
      "children           475.5005    137.804      3.451      0.001     205.163     745.838\n",
      "sex_male          -131.3144    332.945     -0.394      0.693    -784.470     521.842\n",
      "smoker_yes        2.385e+04    413.153     57.723      0.000     2.3e+04    2.47e+04\n",
      "region_northwest  -352.9639    476.276     -0.741      0.459   -1287.298     581.370\n",
      "region_southeast -1035.0220    478.692     -2.162      0.031   -1974.097     -95.947\n",
      "region_southwest  -960.0510    477.933     -2.009      0.045   -1897.636     -22.466\n",
      "==============================================================================\n",
      "Omnibus:                      300.366   Durbin-Watson:                   2.088\n",
      "Prob(Omnibus):                  0.000   Jarque-Bera (JB):              718.887\n",
      "Skew:                           1.211   Prob(JB):                    7.86e-157\n",
      "Kurtosis:                       5.651   Cond. No.                         311.\n",
      "==============================================================================\n",
      "\n",
      "Notes:\n",
      "[1] Standard Errors assume that the covariance matrix of the errors is correctly specified.\n"
     ]
    }
   ],
   "source": [
    "x = sm.add_constant(x)\n",
    "est = sm.OLS(y, x)\n",
    "est2 = est.fit()\n",
    "print(est2.summary())\n"
   ]
  },
  {
   "cell_type": "markdown",
   "id": "c7b96a08-2fa5-4247-a922-4ee09d92048f",
   "metadata": {},
   "source": [
    "從報表中來看，可以獲得許多資訊：\n",
    "\n",
    "根據p-value，age / bmi / children / smoker_yes / region_southeast 呈現統計顯著，可能代表重要的變數\n",
    "\n",
    "R-squared: 0.751 ； Adj R-squared: 0.749，表示模型預測能力不錯。\n",
    "\n",
    "然而，當我們建立出一個線性回歸時，必須要確認其殘差(residual)是否符合下面三個假設：\n",
    "\n",
    "常態性(Normality)\n",
    "\n",
    "獨立性(Independence)\n",
    "\n",
    "變異數同質性(Homogeneity of Variance)\n",
    "\n",
    "故，首先我們要先從回歸模型中找到殘差的值\n",
    "\n",
    "殘差指的是 模型預測值 (ŷ) 和實際值 (y) 之間的誤差：\n",
    "如果殘差沒有明顯的模式，代表模型適合；如果殘差呈現某種趨勢，代表模型可能需要改進。"
   ]
  },
  {
   "cell_type": "code",
   "execution_count": 55,
   "id": "05ce9f56-a06b-41b7-bc33-2d4311997bf6",
   "metadata": {},
   "outputs": [
    {
     "name": "stdout",
     "output_type": "stream",
     "text": [
      "0    -8408.789028\n",
      "1    -1723.050534\n",
      "2    -2257.526491\n",
      "3    18229.640447\n",
      "4    -1725.638186\n",
      "dtype: float64\n"
     ]
    }
   ],
   "source": [
    "residuals = est2.resid \n",
    "print(residuals.head()) "
   ]
  },
  {
   "cell_type": "markdown",
   "id": "66f78305-14a9-4089-ac34-5b1f3ae380e4",
   "metadata": {},
   "source": [
    "在回歸分析中，每個數據點都有：\n",
    "\n",
    "實際值 (y_actual)：真實觀察到的值\n",
    "預測值 (y_predicted)：回歸模型計算出來的值\n",
    "殘差（Residual）就是這兩者的差值"
   ]
  },
  {
   "cell_type": "markdown",
   "id": "d671d8ee-9a83-4a53-a65e-09dfbcead031",
   "metadata": {},
   "source": [
    "解讀殘差\n",
    "\n",
    "殘差很接近 0，表示模型的預測結果與真實值接近，預測效果好。\n",
    "殘差數值很大，表示模型的誤差較大，可能需要改進。\n",
    "第四個數值 18229.64 明顯比其他殘差值大，可能代表：\n",
    "\n",
    "有異常值 (Outlier)：某些 y 值遠超出一般範圍。\n",
    "模型的變數不足，沒有完全解釋 y。"
   ]
  },
  {
   "cell_type": "code",
   "execution_count": 73,
   "id": "6bc162f6-2535-4dc6-8c1c-07a157c9eb8e",
   "metadata": {},
   "outputs": [
    {
     "name": "stdout",
     "output_type": "stream",
     "text": [
      "ShapiroResult(statistic=0.8989446056068922, pvalue=8.384716645406418e-29)\n"
     ]
    }
   ],
   "source": [
    "from scipy import stats\n",
    "shapiro_test = stats.shapiro(est2.resid)\n",
    "print(shapiro_test)"
   ]
  },
  {
   "cell_type": "markdown",
   "id": "4285ddba-2652-4a10-91ff-ac8d6c30795d",
   "metadata": {},
   "source": [
    "線性回歸 (OLS) 基本假設中會希望：\n",
    "\n",
    "殘差彼此獨立，不能有系統性的相關性（也就是殘差之間沒有模式）。\n",
    "如果殘差之間存在關聯（例如前一個殘差影響下一個殘差），那麼回歸模型可能不準確。"
   ]
  },
  {
   "cell_type": "markdown",
   "id": "4dcacf29-72db-404a-937d-10bb407c250f",
   "metadata": {},
   "source": [
    "Durbin-Watson 檢定 (durbin_watson()) 是專門用來測試「殘差是否獨立」的統計方法。\n",
    "這個檢定的虛無假設 (H₀) 是：「殘差之間沒有自相關」，也就是說，殘差是獨立的。"
   ]
  },
  {
   "cell_type": "code",
   "execution_count": 79,
   "id": "e88cfb8b-be6f-4590-8af5-e4242d515953",
   "metadata": {},
   "outputs": [
    {
     "name": "stdout",
     "output_type": "stream",
     "text": [
      "2.0884229986673084\n"
     ]
    }
   ],
   "source": [
    "from statsmodels.stats.stattools import durbin_watson\n",
    "dw_stat = durbin_watson(est2.resid)\n",
    "print(dw_stat)"
   ]
  },
  {
   "cell_type": "markdown",
   "id": "839ea07b-4b38-4c12-9f4a-1eedc9668480",
   "metadata": {},
   "source": [
    "以指標準則來看殘差結果是具獨立性的"
   ]
  },
  {
   "cell_type": "markdown",
   "id": "d1824cf7-65ed-49b6-b5e1-222039911342",
   "metadata": {},
   "source": [
    "變異數同質性假設"
   ]
  },
  {
   "cell_type": "markdown",
   "id": "d5d4cae7-ab50-4074-a29a-ef7698201edc",
   "metadata": {},
   "source": [
    "變異數同質性（Homoscedasticity）是指：\n",
    "殘差的變異數應該大致相同，不會隨著 x 變大或變小而改變。\n",
    "如果殘差的變異數隨 x 變大或變小而變化，則稱為「異質性變異數」(Heteroscedasticity)。"
   ]
  },
  {
   "cell_type": "markdown",
   "id": "0401c92c-f22a-49cd-bb9e-7a88c2cf28cb",
   "metadata": {},
   "source": [
    "如果變異數不同質（Heteroscedasticity），可能導致：\n",
    "回歸係數的標準誤 (Standard Error) 可能不準確 → 影響 P 值，影響顯著性檢定\n",
    "影響信賴區間 (Confidence Interval) → 使預測變得不穩定\n",
    "影響回歸模型的假設 → 可能需要對數轉換 (log(y)) 來解決問題"
   ]
  },
  {
   "cell_type": "code",
   "execution_count": 81,
   "id": "25cfbe1b-8d74-4ef1-90b4-026437fb0f27",
   "metadata": {},
   "outputs": [
    {
     "data": {
      "text/plain": [
       "[('Lagrange multiplier statistic', 121.74360137568986),\n",
       " ('p-value', 1.446717553918174e-22),\n",
       " ('f-value', 16.628612027375397),\n",
       " ('f p-value', 1.14560582463403e-23)]"
      ]
     },
     "execution_count": 81,
     "metadata": {},
     "output_type": "execute_result"
    }
   ],
   "source": [
    "import statsmodels.stats.api as sms\n",
    "from statsmodels.compat import lzip\n",
    "\n",
    "name = ['Lagrange multiplier statistic', 'p-value', 'f-value', 'f p-value']\n",
    "\n",
    "test = sms.het_breuschpagan(est2.resid, est2.model.exog)\n",
    "\n",
    "lzip(name, test)"
   ]
  },
  {
   "cell_type": "markdown",
   "id": "fdf47f6c-6df9-425d-98f9-983a94e9eb21",
   "metadata": {},
   "source": [
    "預測"
   ]
  },
  {
   "cell_type": "markdown",
   "id": "8a75c906-980d-4980-92dc-86d88ca45c47",
   "metadata": {},
   "source": [
    "儘管變異數異質性存在，回歸模型可能不太穩定，但因為目標不是建構一個完美的 OLS 模型，而是練習如何建立回歸模型並進行預測，所以接下來主要進行預測部分的學習"
   ]
  },
  {
   "cell_type": "code",
   "execution_count": 83,
   "id": "dcc7414b-8980-47e4-beff-8317934c6518",
   "metadata": {
    "scrolled": true
   },
   "outputs": [
    {
     "data": {
      "text/html": [
       "<div>\n",
       "<style scoped>\n",
       "    .dataframe tbody tr th:only-of-type {\n",
       "        vertical-align: middle;\n",
       "    }\n",
       "\n",
       "    .dataframe tbody tr th {\n",
       "        vertical-align: top;\n",
       "    }\n",
       "\n",
       "    .dataframe thead th {\n",
       "        text-align: right;\n",
       "    }\n",
       "</style>\n",
       "<table border=\"1\" class=\"dataframe\">\n",
       "  <thead>\n",
       "    <tr style=\"text-align: right;\">\n",
       "      <th></th>\n",
       "      <th>const</th>\n",
       "      <th>age</th>\n",
       "      <th>bmi</th>\n",
       "      <th>children</th>\n",
       "      <th>sex_male</th>\n",
       "      <th>smoker_yes</th>\n",
       "      <th>region_northwest</th>\n",
       "      <th>region_southeast</th>\n",
       "      <th>region_southwest</th>\n",
       "    </tr>\n",
       "  </thead>\n",
       "  <tbody>\n",
       "    <tr>\n",
       "      <th>0</th>\n",
       "      <td>1.0</td>\n",
       "      <td>19.0</td>\n",
       "      <td>27.900</td>\n",
       "      <td>0.0</td>\n",
       "      <td>0.0</td>\n",
       "      <td>1.0</td>\n",
       "      <td>0.0</td>\n",
       "      <td>0.0</td>\n",
       "      <td>1.0</td>\n",
       "    </tr>\n",
       "    <tr>\n",
       "      <th>1</th>\n",
       "      <td>1.0</td>\n",
       "      <td>18.0</td>\n",
       "      <td>33.770</td>\n",
       "      <td>1.0</td>\n",
       "      <td>1.0</td>\n",
       "      <td>0.0</td>\n",
       "      <td>0.0</td>\n",
       "      <td>1.0</td>\n",
       "      <td>0.0</td>\n",
       "    </tr>\n",
       "    <tr>\n",
       "      <th>2</th>\n",
       "      <td>1.0</td>\n",
       "      <td>28.0</td>\n",
       "      <td>33.000</td>\n",
       "      <td>3.0</td>\n",
       "      <td>1.0</td>\n",
       "      <td>0.0</td>\n",
       "      <td>0.0</td>\n",
       "      <td>1.0</td>\n",
       "      <td>0.0</td>\n",
       "    </tr>\n",
       "    <tr>\n",
       "      <th>3</th>\n",
       "      <td>1.0</td>\n",
       "      <td>33.0</td>\n",
       "      <td>22.705</td>\n",
       "      <td>0.0</td>\n",
       "      <td>1.0</td>\n",
       "      <td>0.0</td>\n",
       "      <td>1.0</td>\n",
       "      <td>0.0</td>\n",
       "      <td>0.0</td>\n",
       "    </tr>\n",
       "    <tr>\n",
       "      <th>4</th>\n",
       "      <td>1.0</td>\n",
       "      <td>32.0</td>\n",
       "      <td>28.880</td>\n",
       "      <td>0.0</td>\n",
       "      <td>1.0</td>\n",
       "      <td>0.0</td>\n",
       "      <td>1.0</td>\n",
       "      <td>0.0</td>\n",
       "      <td>0.0</td>\n",
       "    </tr>\n",
       "  </tbody>\n",
       "</table>\n",
       "</div>"
      ],
      "text/plain": [
       "   const   age     bmi  children  sex_male  smoker_yes  region_northwest  \\\n",
       "0    1.0  19.0  27.900       0.0       0.0         1.0               0.0   \n",
       "1    1.0  18.0  33.770       1.0       1.0         0.0               0.0   \n",
       "2    1.0  28.0  33.000       3.0       1.0         0.0               0.0   \n",
       "3    1.0  33.0  22.705       0.0       1.0         0.0               1.0   \n",
       "4    1.0  32.0  28.880       0.0       1.0         0.0               1.0   \n",
       "\n",
       "   region_southeast  region_southwest  \n",
       "0               0.0               1.0  \n",
       "1               1.0               0.0  \n",
       "2               1.0               0.0  \n",
       "3               0.0               0.0  \n",
       "4               0.0               0.0  "
      ]
     },
     "execution_count": 83,
     "metadata": {},
     "output_type": "execute_result"
    }
   ],
   "source": [
    "x.head()"
   ]
  },
  {
   "cell_type": "code",
   "execution_count": 97,
   "id": "a9c9d7f2-aa6a-490e-a870-db68a1800dfa",
   "metadata": {},
   "outputs": [
    {
     "data": {
      "text/plain": [
       "array([25561.31632768])"
      ]
     },
     "execution_count": 97,
     "metadata": {},
     "output_type": "execute_result"
    }
   ],
   "source": [
    "est2.predict([1, 24, 23.5, 0, 1, 1, 1, 0, 0])   #變數的預測 y 值為 25,561.32"
   ]
  },
  {
   "cell_type": "markdown",
   "id": "625c2c75-6f2c-4f75-8077-f6b98bc568f2",
   "metadata": {},
   "source": [
    "變數預測值為25,561.32，這代表：\n",
    "如果某人年齡 24、BMI 23.5、男性、吸菸，住在西北地區，他的健保費用大約是 25,561.32。\n",
    "\n",
    "結論:\n",
    "(1)預測發現吸菸與否好像影響 y（健保費用），但「看起來」不夠，我們要用 One-Way ANOVA 來確認。\n",
    "(2)25,561.32 代表一組特定條件下的預測 y 值，可以拿來跟其他類別的 y 值比較，看是否有明顯的差異。\n",
    "(3)如果 ANOVA 結果顯示不同類別 y 有顯著差異，表示「這些類別確實影響 y」。"
   ]
  },
  {
   "cell_type": "markdown",
   "id": "5e122bc6-d3cc-4111-872a-13d3d59d0db0",
   "metadata": {},
   "source": [
    "4. 變異數分析 (anova)"
   ]
  },
  {
   "cell_type": "markdown",
   "id": "313a8d56-3d42-4ab8-9388-cff1ffab3d38",
   "metadata": {},
   "source": [
    "經過上述步驟，發現不同類別變數健保費用有所差異。\n",
    "25,561.32 代表了在特定條件下（可能是吸菸者等）的預測健保費用水平。\n",
    "如果這個值與其他類別（例如非吸菸者）的預測或實際平均值有顯著差異，ANOVA 就能幫助確認這種差異在統計上是否顯著。\n",
    "因此選用 ANOVA 檢定，用以假設所有類別的平均值相等（H₀）對比至少有一組不相等（H₁）的情況，去檢驗不同類別變數（例如吸菸狀態或地區）對健保費用是否有顯著影響。"
   ]
  },
  {
   "cell_type": "code",
   "execution_count": 101,
   "id": "29258713-56fc-4151-ad64-2ba9a8a3e14a",
   "metadata": {},
   "outputs": [
    {
     "data": {
      "text/html": [
       "<div>\n",
       "<style scoped>\n",
       "    .dataframe tbody tr th:only-of-type {\n",
       "        vertical-align: middle;\n",
       "    }\n",
       "\n",
       "    .dataframe tbody tr th {\n",
       "        vertical-align: top;\n",
       "    }\n",
       "\n",
       "    .dataframe thead th {\n",
       "        text-align: right;\n",
       "    }\n",
       "</style>\n",
       "<table border=\"1\" class=\"dataframe\">\n",
       "  <thead>\n",
       "    <tr style=\"text-align: right;\">\n",
       "      <th></th>\n",
       "      <th>age</th>\n",
       "      <th>sex</th>\n",
       "      <th>bmi</th>\n",
       "      <th>children</th>\n",
       "      <th>smoker</th>\n",
       "      <th>region</th>\n",
       "      <th>charges</th>\n",
       "    </tr>\n",
       "  </thead>\n",
       "  <tbody>\n",
       "    <tr>\n",
       "      <th>0</th>\n",
       "      <td>19</td>\n",
       "      <td>female</td>\n",
       "      <td>27.900</td>\n",
       "      <td>0</td>\n",
       "      <td>yes</td>\n",
       "      <td>southwest</td>\n",
       "      <td>16884.92400</td>\n",
       "    </tr>\n",
       "    <tr>\n",
       "      <th>1</th>\n",
       "      <td>18</td>\n",
       "      <td>male</td>\n",
       "      <td>33.770</td>\n",
       "      <td>1</td>\n",
       "      <td>no</td>\n",
       "      <td>southeast</td>\n",
       "      <td>1725.55230</td>\n",
       "    </tr>\n",
       "    <tr>\n",
       "      <th>2</th>\n",
       "      <td>28</td>\n",
       "      <td>male</td>\n",
       "      <td>33.000</td>\n",
       "      <td>3</td>\n",
       "      <td>no</td>\n",
       "      <td>southeast</td>\n",
       "      <td>4449.46200</td>\n",
       "    </tr>\n",
       "    <tr>\n",
       "      <th>3</th>\n",
       "      <td>33</td>\n",
       "      <td>male</td>\n",
       "      <td>22.705</td>\n",
       "      <td>0</td>\n",
       "      <td>no</td>\n",
       "      <td>northwest</td>\n",
       "      <td>21984.47061</td>\n",
       "    </tr>\n",
       "    <tr>\n",
       "      <th>4</th>\n",
       "      <td>32</td>\n",
       "      <td>male</td>\n",
       "      <td>28.880</td>\n",
       "      <td>0</td>\n",
       "      <td>no</td>\n",
       "      <td>northwest</td>\n",
       "      <td>3866.85520</td>\n",
       "    </tr>\n",
       "  </tbody>\n",
       "</table>\n",
       "</div>"
      ],
      "text/plain": [
       "   age     sex     bmi  children smoker     region      charges\n",
       "0   19  female  27.900         0    yes  southwest  16884.92400\n",
       "1   18    male  33.770         1     no  southeast   1725.55230\n",
       "2   28    male  33.000         3     no  southeast   4449.46200\n",
       "3   33    male  22.705         0     no  northwest  21984.47061\n",
       "4   32    male  28.880         0     no  northwest   3866.85520"
      ]
     },
     "execution_count": 101,
     "metadata": {},
     "output_type": "execute_result"
    }
   ],
   "source": [
    "df.head()"
   ]
  },
  {
   "cell_type": "code",
   "execution_count": 103,
   "id": "e0ca1528-d05e-4e8e-bb82-a64289f03fe6",
   "metadata": {},
   "outputs": [
    {
     "data": {
      "text/plain": [
       "F_onewayResult(statistic=2177.614868056519, pvalue=8.271435842182967e-283)"
      ]
     },
     "execution_count": 103,
     "metadata": {},
     "output_type": "execute_result"
    }
   ],
   "source": [
    "stats.f_oneway(df.loc[df[\"smoker\"] == \"yes\", \"charges\"],\n",
    "               df.loc[df[\"smoker\"] == \"no\", \"charges\"])"
   ]
  },
  {
   "cell_type": "markdown",
   "id": "065ab00c-3fbe-4b30-a9a1-d7c40f30f1ab",
   "metadata": {},
   "source": [
    "這行使用 scipy.stats.f_oneway() 來執行單因子變異數分析（One-Way ANOVA）。\n",
    "它的目的是 比較兩組數據的平均數是否顯著不同。\n",
    "這裡的 兩組數據 是：\n",
    "第一組 → 吸菸者 (smoker = \"yes\") 的 charges\n",
    "第二組 → 非吸菸者 (smoker = \"no\") 的 charges\n",
    "\n",
    "ANOVA 的統計檢定假設：\n",
    "H₀（虛無假設）：吸菸者和非吸菸者的 健保費用 (charges) 平均值相等。\n",
    "H₁（對立假設）：吸菸者和非吸菸者的 健保費用 (charges) 平均值不相等。"
   ]
  },
  {
   "cell_type": "markdown",
   "id": "95dc51bf-e15e-41d4-bd32-9d65d258d33f",
   "metadata": {},
   "source": [
    "我們可以將結果解讀為：\n",
    "statistic=2177.61\n",
    "F 統計量 (F-statistic) = 2177.61\n",
    "F 值越大，表示兩組的差異越大。\n",
    "在這裡，F 值非常大，說明吸菸者和非吸菸者的健保費用差異很大。"
   ]
  },
  {
   "cell_type": "code",
   "execution_count": 106,
   "id": "275e3ab8-dcea-417d-9eb1-caeeeb24b1e5",
   "metadata": {},
   "outputs": [
    {
     "data": {
      "text/plain": [
       "F_onewayResult(statistic=4.3997016974374565, pvalue=0.03613272100596256)"
      ]
     },
     "execution_count": 106,
     "metadata": {},
     "output_type": "execute_result"
    }
   ],
   "source": [
    "stats.f_oneway(df.loc[df[\"sex\"] == \"male\", \"charges\"],\n",
    "               df.loc[df[\"sex\"] == \"female\", \"charges\"])"
   ]
  },
  {
   "cell_type": "markdown",
   "id": "0f7034cf-2287-47c5-b9a5-1ede046ce445",
   "metadata": {},
   "source": [
    "上面主要是比較男性 (male) 和女性 (female) 的健保費用平均值是否顯著不同。\n",
    "可以看到 p-value < 0.05，表示「性別」對健保費用有顯著影響。"
   ]
  }
 ],
 "metadata": {
  "kernelspec": {
   "display_name": "Python [conda env:base] *",
   "language": "python",
   "name": "conda-base-py"
  },
  "language_info": {
   "codemirror_mode": {
    "name": "ipython",
    "version": 3
   },
   "file_extension": ".py",
   "mimetype": "text/x-python",
   "name": "python",
   "nbconvert_exporter": "python",
   "pygments_lexer": "ipython3",
   "version": "3.12.7"
  }
 },
 "nbformat": 4,
 "nbformat_minor": 5
}
