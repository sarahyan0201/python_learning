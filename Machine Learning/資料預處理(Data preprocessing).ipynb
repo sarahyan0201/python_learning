{
 "cells": [
  {
   "cell_type": "markdown",
   "id": "a751856a",
   "metadata": {},
   "source": [
    "目錄\n",
    "0. 資料初步認識 Data Understanding\n",
    "1. 資料擷取 Data Access\n",
    "2. 資料合併 Data Mergeing\n",
    "3. 離群值偵測 Outlier Detection\n",
    "4. 缺失值填補 Data Imputation\n",
    "5. 資料視覺化 Data Visualization\n",
    "6. 特徵工程 Feature Engineering\n",
    "透過特徵工程，著重資料重要的部分，本處筆資料是透過圖片的特徵工程而得到的\n",
    "7. 特徵選擇 Feature Selecction\n",
    "利用相關係數/模型/預測評估去選擇重要特徵"
   ]
  },
  {
   "cell_type": "markdown",
   "id": "2fb80fbd",
   "metadata": {},
   "source": [
    "0. 資料說明 Data Drscribing(from kaggle)\n",
    "This dataset comes from research by Semeion who was commissioned by the Centro Sviluppo Materiali (Italy) for this task.\n",
    "\n",
    "The original aim of the research was to correctly classify the type of surface defects in stainless steel plates, with six types of possible defects (plus \"other\"). The Input vector was made up of 27 indicators that approximately describe the geometric shape of the defect and its outline.                                                                                                     URL: https://www.kaggle.com/datasets/uciml/faulty-steel-plates"
   ]
  },
  {
   "cell_type": "code",
   "execution_count": 4,
   "id": "2de49626",
   "metadata": {},
   "outputs": [],
   "source": [
    "%matplotlib inline\n",
    "import matplotlib.pyplot as plt\n",
    "import numpy as np\n",
    "import pandas as pd\n",
    "import seaborn as sns"
   ]
  },
  {
   "cell_type": "code",
   "execution_count": 5,
   "id": "1774033d",
   "metadata": {},
   "outputs": [
    {
     "data": {
      "text/html": [
       "<div>\n",
       "<style scoped>\n",
       "    .dataframe tbody tr th:only-of-type {\n",
       "        vertical-align: middle;\n",
       "    }\n",
       "\n",
       "    .dataframe tbody tr th {\n",
       "        vertical-align: top;\n",
       "    }\n",
       "\n",
       "    .dataframe thead th {\n",
       "        text-align: right;\n",
       "    }\n",
       "</style>\n",
       "<table border=\"1\" class=\"dataframe\">\n",
       "  <thead>\n",
       "    <tr style=\"text-align: right;\">\n",
       "      <th></th>\n",
       "      <th>X_Minimum</th>\n",
       "      <th>X_Maximum</th>\n",
       "      <th>Y_Minimum</th>\n",
       "      <th>Y_Maximum</th>\n",
       "      <th>Pixels_Areas</th>\n",
       "      <th>X_Perimeter</th>\n",
       "      <th>Y_Perimeter</th>\n",
       "      <th>Sum_of_Luminosity</th>\n",
       "      <th>Minimum_of_Luminosity</th>\n",
       "      <th>Maximum_of_Luminosity</th>\n",
       "      <th>...</th>\n",
       "      <th>Orientation_Index</th>\n",
       "      <th>Luminosity_Index</th>\n",
       "      <th>SigmoidOfAreas</th>\n",
       "      <th>Pastry</th>\n",
       "      <th>Z_Scratch</th>\n",
       "      <th>K_Scatch</th>\n",
       "      <th>Stains</th>\n",
       "      <th>Dirtiness</th>\n",
       "      <th>Bumps</th>\n",
       "      <th>Other_Faults</th>\n",
       "    </tr>\n",
       "  </thead>\n",
       "  <tbody>\n",
       "    <tr>\n",
       "      <th>0</th>\n",
       "      <td>42</td>\n",
       "      <td>50</td>\n",
       "      <td>270900</td>\n",
       "      <td>270944</td>\n",
       "      <td>267</td>\n",
       "      <td>17</td>\n",
       "      <td>44</td>\n",
       "      <td>24220</td>\n",
       "      <td>76</td>\n",
       "      <td>108</td>\n",
       "      <td>...</td>\n",
       "      <td>0.8182</td>\n",
       "      <td>-0.2913</td>\n",
       "      <td>0.5822</td>\n",
       "      <td>1</td>\n",
       "      <td>0</td>\n",
       "      <td>0</td>\n",
       "      <td>0</td>\n",
       "      <td>0</td>\n",
       "      <td>0</td>\n",
       "      <td>0</td>\n",
       "    </tr>\n",
       "    <tr>\n",
       "      <th>1</th>\n",
       "      <td>645</td>\n",
       "      <td>651</td>\n",
       "      <td>2538079</td>\n",
       "      <td>2538108</td>\n",
       "      <td>108</td>\n",
       "      <td>10</td>\n",
       "      <td>30</td>\n",
       "      <td>11397</td>\n",
       "      <td>84</td>\n",
       "      <td>123</td>\n",
       "      <td>...</td>\n",
       "      <td>0.7931</td>\n",
       "      <td>-0.1756</td>\n",
       "      <td>0.2984</td>\n",
       "      <td>1</td>\n",
       "      <td>0</td>\n",
       "      <td>0</td>\n",
       "      <td>0</td>\n",
       "      <td>0</td>\n",
       "      <td>0</td>\n",
       "      <td>0</td>\n",
       "    </tr>\n",
       "    <tr>\n",
       "      <th>2</th>\n",
       "      <td>829</td>\n",
       "      <td>835</td>\n",
       "      <td>1553913</td>\n",
       "      <td>1553931</td>\n",
       "      <td>71</td>\n",
       "      <td>8</td>\n",
       "      <td>19</td>\n",
       "      <td>7972</td>\n",
       "      <td>99</td>\n",
       "      <td>125</td>\n",
       "      <td>...</td>\n",
       "      <td>0.6667</td>\n",
       "      <td>-0.1228</td>\n",
       "      <td>0.2150</td>\n",
       "      <td>1</td>\n",
       "      <td>0</td>\n",
       "      <td>0</td>\n",
       "      <td>0</td>\n",
       "      <td>0</td>\n",
       "      <td>0</td>\n",
       "      <td>0</td>\n",
       "    </tr>\n",
       "    <tr>\n",
       "      <th>3</th>\n",
       "      <td>853</td>\n",
       "      <td>860</td>\n",
       "      <td>369370</td>\n",
       "      <td>369415</td>\n",
       "      <td>176</td>\n",
       "      <td>13</td>\n",
       "      <td>45</td>\n",
       "      <td>18996</td>\n",
       "      <td>99</td>\n",
       "      <td>126</td>\n",
       "      <td>...</td>\n",
       "      <td>0.8444</td>\n",
       "      <td>-0.1568</td>\n",
       "      <td>0.5212</td>\n",
       "      <td>1</td>\n",
       "      <td>0</td>\n",
       "      <td>0</td>\n",
       "      <td>0</td>\n",
       "      <td>0</td>\n",
       "      <td>0</td>\n",
       "      <td>0</td>\n",
       "    </tr>\n",
       "    <tr>\n",
       "      <th>4</th>\n",
       "      <td>1289</td>\n",
       "      <td>1306</td>\n",
       "      <td>498078</td>\n",
       "      <td>498335</td>\n",
       "      <td>2409</td>\n",
       "      <td>60</td>\n",
       "      <td>260</td>\n",
       "      <td>246930</td>\n",
       "      <td>37</td>\n",
       "      <td>126</td>\n",
       "      <td>...</td>\n",
       "      <td>0.9338</td>\n",
       "      <td>-0.1992</td>\n",
       "      <td>1.0000</td>\n",
       "      <td>1</td>\n",
       "      <td>0</td>\n",
       "      <td>0</td>\n",
       "      <td>0</td>\n",
       "      <td>0</td>\n",
       "      <td>0</td>\n",
       "      <td>0</td>\n",
       "    </tr>\n",
       "  </tbody>\n",
       "</table>\n",
       "<p>5 rows × 34 columns</p>\n",
       "</div>"
      ],
      "text/plain": [
       "   X_Minimum  X_Maximum  Y_Minimum  Y_Maximum  Pixels_Areas  X_Perimeter  \\\n",
       "0         42         50     270900     270944           267           17   \n",
       "1        645        651    2538079    2538108           108           10   \n",
       "2        829        835    1553913    1553931            71            8   \n",
       "3        853        860     369370     369415           176           13   \n",
       "4       1289       1306     498078     498335          2409           60   \n",
       "\n",
       "   Y_Perimeter  Sum_of_Luminosity  Minimum_of_Luminosity  \\\n",
       "0           44              24220                     76   \n",
       "1           30              11397                     84   \n",
       "2           19               7972                     99   \n",
       "3           45              18996                     99   \n",
       "4          260             246930                     37   \n",
       "\n",
       "   Maximum_of_Luminosity  ...  Orientation_Index  Luminosity_Index  \\\n",
       "0                    108  ...             0.8182           -0.2913   \n",
       "1                    123  ...             0.7931           -0.1756   \n",
       "2                    125  ...             0.6667           -0.1228   \n",
       "3                    126  ...             0.8444           -0.1568   \n",
       "4                    126  ...             0.9338           -0.1992   \n",
       "\n",
       "   SigmoidOfAreas  Pastry  Z_Scratch  K_Scatch  Stains  Dirtiness  Bumps  \\\n",
       "0          0.5822       1          0         0       0          0      0   \n",
       "1          0.2984       1          0         0       0          0      0   \n",
       "2          0.2150       1          0         0       0          0      0   \n",
       "3          0.5212       1          0         0       0          0      0   \n",
       "4          1.0000       1          0         0       0          0      0   \n",
       "\n",
       "   Other_Faults  \n",
       "0             0  \n",
       "1             0  \n",
       "2             0  \n",
       "3             0  \n",
       "4             0  \n",
       "\n",
       "[5 rows x 34 columns]"
      ]
     },
     "execution_count": 5,
     "metadata": {},
     "output_type": "execute_result"
    }
   ],
   "source": [
    "df = pd.read_csv(r\"C:\\Users\\sarah\\My Python Stuff\\Machine Learning\\faults.csv\")\n",
    "df.head()"
   ]
  },
  {
   "cell_type": "markdown",
   "id": "fe97b7a3",
   "metadata": {},
   "source": [
    "1. 資料擷取\n",
    "1.1 column 及 row 的基本擷取\n",
    "選取特定的行(column)"
   ]
  },
  {
   "cell_type": "code",
   "execution_count": 6,
   "id": "283693e5",
   "metadata": {},
   "outputs": [
    {
     "data": {
      "text/plain": [
       "0         42\n",
       "1        645\n",
       "2        829\n",
       "3        853\n",
       "4       1289\n",
       "        ... \n",
       "1936     249\n",
       "1937     144\n",
       "1938     145\n",
       "1939     137\n",
       "1940    1261\n",
       "Name: X_Minimum, Length: 1941, dtype: int64"
      ]
     },
     "execution_count": 6,
     "metadata": {},
     "output_type": "execute_result"
    }
   ],
   "source": [
    "df['X_Minimum']"
   ]
  },
  {
   "cell_type": "markdown",
   "id": "b4d8393a",
   "metadata": {},
   "source": [
    "3. 離群值偵測 Outlier Detection\n",
    "離群值代表對比其他資料下，某些資料的值與大部分資料產生極大差距，對後續分析及建模可能產生影響，需要注意資料的分配情形以利判斷。\n",
    "\n",
    "常見離群值得出現有幾種\n",
    "(1)由於資料輸入錯誤產生特殊值。\n",
    "(2)特殊值可能代表特殊事件或重要的業務情境。例如機器故障、個人消費習慣，需要多方判斷。\n",
    "\n",
    "以下利用兩種基本的方式介紹如何偵測離群值，本資料不太服從常態分配，導致 outlier 的狀況較多，如要保留這些被判斷是 outlier 的資料可以先進行資料轉換(取 log /開根號等等方式)讓資料較接近常態分配。"
   ]
  },
  {
   "cell_type": "markdown",
   "id": "f7103caf",
   "metadata": {},
   "source": [
    "3.1 以標準化分數判斷\n",
    "將資料轉成標準化分數或Z分數進行判斷，根據常態分配特性：\n",
    "\n",
    "約 68% 的數據在平均值 ± 1 標準差內。\n",
    "約 95% 的數據在平均值 ± 2 標準差內。\n",
    "約 99.7% 的數據在平均值 ± 3 標準差內。\n",
    "\n",
    "判斷離群值：Z 分數超過 ±3（或其他定義的閾值）的數據通常被視為離群值。\n",
    "\n",
    "<!-- # 在進行轉換前，先將類別行變數移除再做標準化的動作，因為類別型變數通常是字串或編碼值，標準化這些欄位沒有意義（例如，將 0 和 1 作為數字進行計算可能導致誤差 -->\n"
   ]
  },
  {
   "cell_type": "code",
   "execution_count": 7,
   "id": "10ef94e4",
   "metadata": {},
   "outputs": [
    {
     "name": "stdout",
     "output_type": "stream",
     "text": [
      "Index(['X_Minimum', 'X_Maximum', 'Y_Minimum', 'Y_Maximum', 'Pixels_Areas',\n",
      "       'X_Perimeter', 'Y_Perimeter', 'Sum_of_Luminosity',\n",
      "       'Minimum_of_Luminosity', 'Maximum_of_Luminosity', 'Length_of_Conveyer',\n",
      "       'TypeOfSteel_A300', 'TypeOfSteel_A400', 'Steel_Plate_Thickness',\n",
      "       'Edges_Index', 'Empty_Index', 'Square_Index', 'Outside_X_Index',\n",
      "       'Edges_X_Index', 'Edges_Y_Index', 'Outside_Global_Index', 'LogOfAreas',\n",
      "       'Log_X_Index', 'Log_Y_Index', 'Orientation_Index', 'Luminosity_Index',\n",
      "       'SigmoidOfAreas', 'Pastry', 'Z_Scratch', 'K_Scatch', 'Stains',\n",
      "       'Dirtiness', 'Bumps', 'Other_Faults'],\n",
      "      dtype='object')\n"
     ]
    }
   ],
   "source": [
    "print(df.columns)"
   ]
  },
  {
   "cell_type": "code",
   "execution_count": 8,
   "id": "d846fad2",
   "metadata": {},
   "outputs": [],
   "source": [
    "x = df.drop([\"TypeOfSteel_A300\", \"TypeOfSteel_A400\"],axis = 1)\n",
    "\n",
    "from sklearn.preprocessing import StandardScaler\n",
    "ss = StandardScaler()\n",
    "scaled_df = ss.fit_transform(x)\n",
    "scaled_df = pd.DataFrame(scaled_df, columns = x.columns)"
   ]
  },
  {
   "cell_type": "markdown",
   "id": "ebc1bff5",
   "metadata": {},
   "source": [
    "【用布林判斷是否為outlier⬇️】\n",
    "\n",
    "(1)計算 DataFrame scaled_df 中每個數值的絕對值\n",
    "(2)用布林值顯示每個數值的絕對值是否大於 3（Z 分數超過 ±3 的閾值）"
   ]
  },
  {
   "cell_type": "code",
   "execution_count": 9,
   "id": "367255e3",
   "metadata": {
    "scrolled": true
   },
   "outputs": [
    {
     "name": "stdout",
     "output_type": "stream",
     "text": [
      "      X_Minimum  X_Maximum  Y_Minimum  Y_Maximum  Pixels_Areas  X_Perimeter  \\\n",
      "0         False      False      False      False         False        False   \n",
      "1         False      False      False      False         False        False   \n",
      "2         False      False      False      False         False        False   \n",
      "3         False      False      False      False         False        False   \n",
      "4         False      False      False      False         False        False   \n",
      "...         ...        ...        ...        ...           ...          ...   \n",
      "1936      False      False      False      False         False        False   \n",
      "1937      False      False      False      False         False        False   \n",
      "1938      False      False      False      False         False        False   \n",
      "1939      False      False      False      False         False        False   \n",
      "1940      False      False      False      False         False        False   \n",
      "\n",
      "      Y_Perimeter  Sum_of_Luminosity  Minimum_of_Luminosity  \\\n",
      "0           False              False                  False   \n",
      "1           False              False                  False   \n",
      "2           False              False                  False   \n",
      "3           False              False                  False   \n",
      "4           False              False                  False   \n",
      "...           ...                ...                    ...   \n",
      "1936        False              False                  False   \n",
      "1937        False              False                  False   \n",
      "1938        False              False                  False   \n",
      "1939        False              False                  False   \n",
      "1940        False              False                  False   \n",
      "\n",
      "      Maximum_of_Luminosity  ...  Orientation_Index  Luminosity_Index  \\\n",
      "0                     False  ...              False             False   \n",
      "1                     False  ...              False             False   \n",
      "2                     False  ...              False             False   \n",
      "3                     False  ...              False             False   \n",
      "4                     False  ...              False             False   \n",
      "...                     ...  ...                ...               ...   \n",
      "1936                  False  ...              False             False   \n",
      "1937                  False  ...              False             False   \n",
      "1938                  False  ...              False             False   \n",
      "1939                  False  ...              False             False   \n",
      "1940                  False  ...              False             False   \n",
      "\n",
      "      SigmoidOfAreas  Pastry  Z_Scratch  K_Scatch  Stains  Dirtiness  Bumps  \\\n",
      "0              False    True      False     False   False      False  False   \n",
      "1              False    True      False     False   False      False  False   \n",
      "2              False    True      False     False   False      False  False   \n",
      "3              False    True      False     False   False      False  False   \n",
      "4              False    True      False     False   False      False  False   \n",
      "...              ...     ...        ...       ...     ...        ...    ...   \n",
      "1936           False   False      False     False   False      False  False   \n",
      "1937           False   False      False     False   False      False  False   \n",
      "1938           False   False      False     False   False      False  False   \n",
      "1939           False   False      False     False   False      False  False   \n",
      "1940           False   False      False     False   False      False  False   \n",
      "\n",
      "      Other_Faults  \n",
      "0            False  \n",
      "1            False  \n",
      "2            False  \n",
      "3            False  \n",
      "4            False  \n",
      "...            ...  \n",
      "1936         False  \n",
      "1937         False  \n",
      "1938         False  \n",
      "1939         False  \n",
      "1940         False  \n",
      "\n",
      "[1941 rows x 32 columns]\n"
     ]
    }
   ],
   "source": [
    "abs_scaled_df = (abs(scaled_df)>3)\n",
    "print(abs_scaled_df)"
   ]
  },
  {
   "cell_type": "markdown",
   "id": "15434d3c",
   "metadata": {},
   "source": [
    "【將「離群值檢測」彙總到「行的層級」，快速篩選包含離群值的數據行⬇️】"
   ]
  },
  {
   "cell_type": "code",
   "execution_count": 10,
   "id": "532ad7d1",
   "metadata": {},
   "outputs": [
    {
     "name": "stdout",
     "output_type": "stream",
     "text": [
      "0        True\n",
      "1        True\n",
      "2        True\n",
      "3        True\n",
      "4        True\n",
      "        ...  \n",
      "1936    False\n",
      "1937    False\n",
      "1938    False\n",
      "1939    False\n",
      "1940    False\n",
      "Length: 1941, dtype: bool\n"
     ]
    }
   ],
   "source": [
    "all_abs_scaled = abs_scaled_df.any(axis = 1)\n",
    "print(all_abs_scaled)"
   ]
  },
  {
   "cell_type": "code",
   "execution_count": 13,
   "id": "5b032a10",
   "metadata": {},
   "outputs": [
    {
     "name": "stdout",
     "output_type": "stream",
     "text": [
      "0       True\n",
      "1       True\n",
      "2       True\n",
      "3       True\n",
      "4       True\n",
      "        ... \n",
      "1846    True\n",
      "1858    True\n",
      "1863    True\n",
      "1868    True\n",
      "1876    True\n",
      "Length: 671, dtype: bool\n"
     ]
    }
   ],
   "source": [
    "outliar_index = all_abs_scaled[all_abs_scaled == True]\n",
    "print(outliar_index)"
   ]
  },
  {
   "cell_type": "markdown",
   "id": "78ac86d4",
   "metadata": {},
   "source": [
    "【找出離群值的索引、檢查特定行的離群值⬇️】"
   ]
  },
  {
   "cell_type": "code",
   "execution_count": 15,
   "id": "d2395fd0",
   "metadata": {},
   "outputs": [
    {
     "name": "stdout",
     "output_type": "stream",
     "text": [
      "Index([   0,    1,    2,    3,    4,    5,    6,    7,    8,    9,\n",
      "       ...\n",
      "       1836, 1838, 1839, 1841, 1843, 1846, 1858, 1863, 1868, 1876],\n",
      "      dtype='int64', length=671)\n"
     ]
    }
   ],
   "source": [
    "get_outliar_index = outliar_index.index\n",
    "print(get_outliar_index)"
   ]
  },
  {
   "cell_type": "markdown",
   "id": "f69c5906",
   "metadata": {},
   "source": [
    "【將有 outlier 的資料刪除(原始資料行數1941)⬇️】"
   ]
  },
  {
   "cell_type": "code",
   "execution_count": 17,
   "id": "e3386b22",
   "metadata": {},
   "outputs": [
    {
     "name": "stdout",
     "output_type": "stream",
     "text": [
      "1270\n"
     ]
    }
   ],
   "source": [
    "df_no_outliar = df.drop(outliar_index.index)\n",
    "print(df_no_outliar.shape[0])"
   ]
  }
 ],
 "metadata": {
  "kernelspec": {
   "display_name": "Python 3 (ipykernel)",
   "language": "python",
   "name": "python3"
  },
  "language_info": {
   "codemirror_mode": {
    "name": "ipython",
    "version": 3
   },
   "file_extension": ".py",
   "mimetype": "text/x-python",
   "name": "python",
   "nbconvert_exporter": "python",
   "pygments_lexer": "ipython3",
   "version": "3.11.5"
  }
 },
 "nbformat": 4,
 "nbformat_minor": 5
}
