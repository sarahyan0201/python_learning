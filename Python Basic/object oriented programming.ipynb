{
 "cells": [
  {
   "cell_type": "code",
   "execution_count": 16,
   "id": "30f6dc80",
   "metadata": {},
   "outputs": [],
   "source": [
    "class Cylinder:\n",
    "    \n",
    "    pi = 3.14\n",
    "    \n",
    "    def __init__(self,height=1,radius=1):\n",
    "        self.height = height\n",
    "        self.radius = radius\n",
    "        \n",
    "    def volume(self):\n",
    "        return  self.pi * self.radius**2 * self.height\n",
    "    \n",
    "    def surface_area(self):\n",
    "        return (2 * self.pi * self.radius * self.height) + (2 * self.pi* self.radius**2)\n",
    "\n"
   ]
  },
  {
   "cell_type": "code",
   "execution_count": 19,
   "id": "7b0769ec",
   "metadata": {},
   "outputs": [
    {
     "name": "stdout",
     "output_type": "stream",
     "text": [
      "56.52\n",
      "94.2\n"
     ]
    }
   ],
   "source": [
    "c = Cylinder(2,3)\n",
    "print(c.volume())\n",
    "print(c.surface_area())"
   ]
  },
  {
   "cell_type": "code",
   "execution_count": 34,
   "id": "adecc258",
   "metadata": {},
   "outputs": [
    {
     "name": "stdout",
     "output_type": "stream",
     "text": [
      "9.433981132056603\n",
      "1.6\n"
     ]
    }
   ],
   "source": [
    "import math\n",
    "\n",
    "class Line:\n",
    "    def __init__(self,coor1,coor2):\n",
    "        self.coordinate1 = coor1\n",
    "        self.coordinate2 = coor2\n",
    "    \n",
    "    def distance(self):\n",
    "        x1, y1 = self.coordinate1\n",
    "        x2, y2 = self.coordinate2\n",
    "    \n",
    "        dist = math.sqrt((x2 - x1)**2 + (y2 - y1)**2)\n",
    "        return dist\n",
    "    \n",
    "    def slope(self):\n",
    "        x1, y1 = self.coordinate1\n",
    "        x2, y2 = self.coordinate2\n",
    "        \n",
    "        if x2 - x1 == 0:\n",
    "            return \"斜率無窮大\"\n",
    "        \n",
    "        slo = (y2 - y1) / (x2 - x1)\n",
    "        return slo\n",
    "    \n",
    "coordinate1 = (3, 2)\n",
    "coordinate2 = (8, 10)\n",
    "\n",
    "li = Line(coordinate1, coordinate2)\n",
    "print(li.distance())\n",
    "print(li.slope())\n",
    "        \n",
    "\n",
    "# slope test2\n",
    "# line2 = Line((1,2), (3,6))\n",
    "# print(line2.slope())\n",
    "        \n",
    "# slope test1\n",
    "# line = Line((1,2), (1,5))\n",
    "# print(line.slope())\n",
    "        \n",
    "\n",
    "# distance test\n",
    "# line = Line((0,0), (3,4))\n",
    "# print(line.distance())    \n",
    "        \n",
    "# formula\n",
    "# d=√((x₂ - x₁)²+(y₂ - y₁)²) \n",
    "# slope =(y₂ - y₁)/(x₂ - x₁)\n",
    "\n"
   ]
  },
  {
   "cell_type": "code",
   "execution_count": 4,
   "id": "6d47bb1a",
   "metadata": {},
   "outputs": [
    {
     "name": "stdout",
     "output_type": "stream",
     "text": [
      "we just add 1000000 to your value.\n",
      "1300000\n"
     ]
    }
   ],
   "source": [
    "class Simple:\n",
    "    def __init__(self, value):\n",
    "        self.value = value\n",
    "        \n",
    "    def add_to_value(self, amount):\n",
    "        self.value = self.value + amount\n",
    "        print('we just add {} to your value.'.format(amount))\n",
    "    \n",
    "myobj = Simple(300000)\n",
    "myobj.add_to_value(1000000)\n",
    "print(myobj.value)"
   ]
  },
  {
   "cell_type": "code",
   "execution_count": 23,
   "id": "1221e3e0",
   "metadata": {},
   "outputs": [
    {
     "name": "stdout",
     "output_type": "stream",
     "text": [
      "withdraw accept\n",
      "Account ower:Jose\n",
      "Account balance:$130\n"
     ]
    }
   ],
   "source": [
    "class Account:\n",
    "    \n",
    "    def __init__(self, owner, balance=0):\n",
    "        self.owner = owner\n",
    "        self.balance = balance\n",
    "        \n",
    "    def __str__(self):\n",
    "        return f\"Account ower:{self.owner}\\nAccount balance:${self.balance}\"\n",
    "    \n",
    "    def deposit(self, dep_amt):\n",
    "        self.balance = self.balance + dep_amt\n",
    "        \n",
    "    def withdraw(self, wt_amt):\n",
    "        if self.balance >= wt_amt:\n",
    "            self.balance = self.balance - wt_amt\n",
    "            print('withdraw accept')\n",
    "        else:\n",
    "            print('found avalible')\n",
    "\n",
    "\n",
    "# test3 : withdrwa(取款)\n",
    "acct1.withdraw(20)\n",
    "print(acct1)\n",
    "\n",
    "# test2 : deposit(存款)\n",
    "# acct1.deposit(50)\n",
    "# print(acct1)\n",
    "\n",
    "# test1\n",
    "# acct1 = Account('Jose', 100)\n",
    "# print(acct1)\n",
    "        "
   ]
  },
  {
   "cell_type": "code",
   "execution_count": null,
   "id": "11b84008",
   "metadata": {},
   "outputs": [],
   "source": []
  },
  {
   "cell_type": "code",
   "execution_count": null,
   "id": "e672fd03",
   "metadata": {},
   "outputs": [],
   "source": []
  }
 ],
 "metadata": {
  "kernelspec": {
   "display_name": "Python 3 (ipykernel)",
   "language": "python",
   "name": "python3"
  },
  "language_info": {
   "codemirror_mode": {
    "name": "ipython",
    "version": 3
   },
   "file_extension": ".py",
   "mimetype": "text/x-python",
   "name": "python",
   "nbconvert_exporter": "python",
   "pygments_lexer": "ipython3",
   "version": "3.11.5"
  }
 },
 "nbformat": 4,
 "nbformat_minor": 5
}
