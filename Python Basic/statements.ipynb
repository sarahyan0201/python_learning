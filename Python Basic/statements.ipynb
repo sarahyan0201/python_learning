{
 "cells": [
  {
   "cell_type": "code",
   "execution_count": 1,
   "id": "0edf6a18",
   "metadata": {},
   "outputs": [
    {
     "name": "stdout",
     "output_type": "stream",
     "text": [
      "start\n",
      "s\n",
      "sentence\n"
     ]
    }
   ],
   "source": [
    "st = 'print only the words that start with s in this sentence'\n",
    "for word in st.split():\n",
    "    if word[0] == 's':\n",
    "        print(word)"
   ]
  },
  {
   "cell_type": "code",
   "execution_count": 5,
   "id": "0c239cdf",
   "metadata": {},
   "outputs": [
    {
     "name": "stdout",
     "output_type": "stream",
     "text": [
      "2\n",
      "4\n",
      "6\n",
      "8\n",
      "10\n"
     ]
    }
   ],
   "source": [
    "num = [1,2,3,4,5,6,7,8,9,10]\n",
    "for i in range(1,11):\n",
    "    if i % 2 == 0:\n",
    "        print(i)"
   ]
  },
  {
   "cell_type": "code",
   "execution_count": 9,
   "id": "dead4168",
   "metadata": {},
   "outputs": [
    {
     "name": "stdout",
     "output_type": "stream",
     "text": [
      "3\n",
      "6\n",
      "9\n",
      "12\n",
      "15\n",
      "18\n",
      "21\n",
      "24\n",
      "27\n",
      "30\n",
      "33\n",
      "36\n",
      "39\n",
      "42\n",
      "45\n",
      "48\n"
     ]
    }
   ],
   "source": [
    "nums = list(range(1,51))\n",
    "\n",
    "for i in range(1,51):\n",
    "    if i % 3 == 0:\n",
    "        print(i)"
   ]
  },
  {
   "cell_type": "code",
   "execution_count": 14,
   "id": "9065b456",
   "metadata": {},
   "outputs": [
    {
     "name": "stdout",
     "output_type": "stream",
     "text": [
      "word <-- has an even length!\n",
      "in <-- has an even length!\n",
      "this <-- has an even length!\n",
      "sentence <-- has an even length!\n",
      "that <-- has an even length!\n",
      "an <-- has an even length!\n",
      "even <-- has an even length!\n",
      "number <-- has an even length!\n",
      "of <-- has an even length!\n"
     ]
    }
   ],
   "source": [
    "st = 'print every word in this sentence that has an even number of letters'\n",
    "for word in st.split():\n",
    "    if len(word) % 2 == 0:\n",
    "        print(word+\" <-- has an even length!\")"
   ]
  },
  {
   "cell_type": "code",
   "execution_count": 21,
   "id": "1b58c3c9",
   "metadata": {},
   "outputs": [
    {
     "name": "stdout",
     "output_type": "stream",
     "text": [
      "1\n",
      "2\n",
      "Fizz\n",
      "4\n",
      "Buzz\n",
      "Fizz\n",
      "7\n",
      "8\n",
      "Fizz\n",
      "Buzz\n",
      "11\n",
      "Fizz\n",
      "13\n",
      "14\n",
      "Fizz Buzz\n",
      "16\n",
      "17\n",
      "Fizz\n",
      "19\n",
      "Buzz\n",
      "Fizz\n",
      "22\n",
      "23\n",
      "Fizz\n",
      "Buzz\n",
      "26\n",
      "Fizz\n",
      "28\n",
      "29\n",
      "Fizz Buzz\n",
      "31\n",
      "32\n",
      "Fizz\n",
      "34\n",
      "Buzz\n",
      "Fizz\n",
      "37\n",
      "38\n",
      "Fizz\n",
      "Buzz\n",
      "41\n",
      "Fizz\n",
      "43\n",
      "44\n",
      "Fizz Buzz\n",
      "46\n",
      "47\n",
      "Fizz\n",
      "49\n",
      "Buzz\n",
      "Fizz\n",
      "52\n",
      "53\n",
      "Fizz\n",
      "Buzz\n",
      "56\n",
      "Fizz\n",
      "58\n",
      "59\n",
      "Fizz Buzz\n",
      "61\n",
      "62\n",
      "Fizz\n",
      "64\n",
      "Buzz\n",
      "Fizz\n",
      "67\n",
      "68\n",
      "Fizz\n",
      "Buzz\n",
      "71\n",
      "Fizz\n",
      "73\n",
      "74\n",
      "Fizz Buzz\n",
      "76\n",
      "77\n",
      "Fizz\n",
      "79\n",
      "Buzz\n",
      "Fizz\n",
      "82\n",
      "83\n",
      "Fizz\n",
      "Buzz\n",
      "86\n",
      "Fizz\n",
      "88\n",
      "89\n",
      "Fizz Buzz\n",
      "91\n",
      "92\n",
      "Fizz\n",
      "94\n",
      "Buzz\n",
      "Fizz\n",
      "97\n",
      "98\n",
      "Fizz\n",
      "Buzz\n"
     ]
    }
   ],
   "source": [
    "nums = list(range(1,101))\n",
    "for num in nums:\n",
    "    if  num % 3 == 0 and num % 5 == 0:\n",
    "        print(\"Fizz Buzz\")\n",
    "    elif num % 3 == 0:\n",
    "        print(\"Fizz\")\n",
    "    elif num % 5 == 0:\n",
    "        print(\"Buzz\")\n",
    "    else:\n",
    "        print(num)"
   ]
  },
  {
   "cell_type": "code",
   "execution_count": 22,
   "id": "dacb12ef",
   "metadata": {},
   "outputs": [
    {
     "name": "stdout",
     "output_type": "stream",
     "text": [
      "c\n",
      "a\n",
      "l\n",
      "o\n",
      "t\n",
      "f\n",
      "l\n",
      "o\n",
      "e\n",
      "w\n",
      "i\n",
      "t\n",
      "s\n"
     ]
    }
   ],
   "source": [
    "st = \"create a list of the first letters of every word in this string\"\n",
    "for word in st.split():\n",
    "    print(word[0])"
   ]
  },
  {
   "cell_type": "code",
   "execution_count": 26,
   "id": "9c3918ef",
   "metadata": {},
   "outputs": [
    {
     "name": "stdout",
     "output_type": "stream",
     "text": [
      "請輸入成績:80\n",
      "90\n"
     ]
    }
   ],
   "source": [
    "score = input(\"請輸入成績:\")\n",
    "print(int(score)+10)\n"
   ]
  },
  {
   "cell_type": "code",
   "execution_count": 29,
   "id": "6cb84dc3",
   "metadata": {},
   "outputs": [
    {
     "name": "stdout",
     "output_type": "stream",
     "text": [
      "請輸入國文成績:90\n",
      "請輸入英文成績:80\n",
      "請輸入數學成績:85\n",
      "該生成績為255\n"
     ]
    }
   ],
   "source": [
    "c_score = int(input(\"請輸入國文成績:\"))\n",
    "e_score = int(input(\"請輸入英文成績:\"))\n",
    "m_score = int(input(\"請輸入數學成績:\"))\n",
    "total_score = c_score + e_score + m_score\n",
    "print(f\"該生成績為{total_score}\")"
   ]
  },
  {
   "cell_type": "code",
   "execution_count": 30,
   "id": "3d1f2303",
   "metadata": {},
   "outputs": [
    {
     "name": "stdout",
     "output_type": "stream",
     "text": [
      "請輸入薪資50000\n",
      "請輸入獎金50000\n",
      "請輸入加班費1000\n",
      "你的本月實領金額為:薪資50000,獎金50000,加班費1000 共計101000元\n"
     ]
    }
   ],
   "source": [
    "salary = int(input(\"請輸入薪資\"))\n",
    "bonas = int(input(\"請輸入獎金\"))\n",
    "ovt_payment = int(input(\"請輸入加班費\"))\n",
    "total_pay = salary + bonas + ovt_payment\n",
    "print(f\"你的本月實領金額為:薪資{salary},獎金{bonas},加班費{ovt_payment} 共計{total_pay}元\")"
   ]
  },
  {
   "cell_type": "code",
   "execution_count": 38,
   "id": "aebec233",
   "metadata": {},
   "outputs": [
    {
     "name": "stdout",
     "output_type": "stream",
     "text": [
      "enter the length of the upper bottom12\n",
      "enter the length of the bottom20\n",
      "enter the height14\n",
      "the trapezodial area is224.0\n"
     ]
    }
   ],
   "source": [
    "top = float(input(\"enter the length of the upper bottom\"))\n",
    "bottom = float(input(\"enter the length of the bottom\"))\n",
    "height = float(input(\"enter the height\"))\n",
    "\n",
    "area = (top + bottom)* height / 2\n",
    "\n",
    "print(f\"the trapezodial area is{area}\")\n"
   ]
  },
  {
   "cell_type": "code",
   "execution_count": 48,
   "id": "cecbf87e",
   "metadata": {},
   "outputs": [
    {
     "name": "stdout",
     "output_type": "stream",
     "text": [
      "enter your deposit10000\n",
      "enter years in storage8\n",
      "The principal + interest after six years is: 11716.593810022658\n"
     ]
    }
   ],
   "source": [
    "deposit = int(input(\"enter your deposit\"))\n",
    "year = int(input(\"enter years in storage\"))\n",
    "interest = 1.02 ** (year)\n",
    "deposit *= interest\n",
    "print(f\"The principal + interest after six years is: {deposit}\")"
   ]
  },
  {
   "cell_type": "code",
   "execution_count": 50,
   "id": "4c8850a4",
   "metadata": {},
   "outputs": [
    {
     "name": "stdout",
     "output_type": "stream",
     "text": [
      "enter cell phone price:12000\n",
      "38000\n"
     ]
    }
   ],
   "source": [
    "phone_price = int(input(\"enter cell phone price:\"))\n",
    "total_amout = 50000\n",
    "pocket = total_amout - phone_price\n",
    "print(pocket)"
   ]
  },
  {
   "cell_type": "code",
   "execution_count": 55,
   "id": "1dc2c8e2",
   "metadata": {},
   "outputs": [
    {
     "name": "stdout",
     "output_type": "stream",
     "text": [
      "number of kilometers8\n",
      "the total amount of your car is $225\n"
     ]
    }
   ],
   "source": [
    "km = int(input(\"number of kilometers\"))\n",
    "cost = 85 + (km-1)*20\n",
    "print(f\"the total amount of your car is ${cost}\")"
   ]
  },
  {
   "cell_type": "code",
   "execution_count": 60,
   "id": "30108369",
   "metadata": {},
   "outputs": [
    {
     "name": "stdout",
     "output_type": "stream",
     "text": [
      "please enter the radies \n",
      "6\n",
      "the radies is 6, and the area is 113.04 the circuference is 37.68\n"
     ]
    }
   ],
   "source": [
    "radies = int(input(\"please enter the radies \\n\"))\n",
    "area = radies * radies * 3.14\n",
    "circumference = (radies) * 2 *3.14\n",
    "print(f\"the radies is {radies}, and the area is {area} the circuference is {circumference}\")"
   ]
  },
  {
   "cell_type": "code",
   "execution_count": 67,
   "id": "89ebe1a0",
   "metadata": {},
   "outputs": [
    {
     "name": "stdout",
     "output_type": "stream",
     "text": [
      "please enter your height183\n",
      "please enter your weight78\n",
      "your bmi is 23.29, you have normal weight\n"
     ]
    }
   ],
   "source": [
    "cm = int(input(\"please enter your height\"))\n",
    "kg = int(input(\"please enter your weight\"))\n",
    "\n",
    "bmi = round(kg / (cm /100) ** 2, 2)\n",
    "\n",
    "if bmi < 18.5:\n",
    "    print(f\"your bmi is {bmi}, you're underweight\")\n",
    "elif 18.5 <= bmi < 25:\n",
    "    print(f\"your bmi is {bmi}, you have normal weight\")\n",
    "elif 25 < bmi < 30:\n",
    "    print(f\"your bmi is {bmi}, you're slightly overweight\")\n",
    "elif 30 <  bmi < 35:\n",
    "    print(f\"your bmi is {bmi}, you're obese.\")\n",
    "elif bmi >= 35:\n",
    "    print(f\"your bmi is {bmi}, you're clinically obese.\")\n",
    "else:\n",
    "    pass\n"
   ]
  },
  {
   "cell_type": "code",
   "execution_count": 2,
   "id": "7212f738",
   "metadata": {},
   "outputs": [
    {
     "name": "stdout",
     "output_type": "stream",
     "text": [
      "5\n"
     ]
    }
   ],
   "source": [
    "def cpmpute_pow(x,  y, z):\n",
    "    result = pow(x, y, z)\n",
    "    return result\n",
    "\n",
    "result = pow(5, 5, 10)\n",
    "print(result)"
   ]
  },
  {
   "cell_type": "code",
   "execution_count": 5,
   "id": "d1186e13",
   "metadata": {},
   "outputs": [
    {
     "name": "stdout",
     "output_type": "stream",
     "text": [
      "6 0\n"
     ]
    }
   ],
   "source": [
    "\n",
    "ret = divmod(60, 10)\n",
    "print(ret[0], ret[1])"
   ]
  },
  {
   "cell_type": "code",
   "execution_count": 5,
   "id": "41e964be",
   "metadata": {
    "scrolled": true
   },
   "outputs": [
    {
     "name": "stdout",
     "output_type": "stream",
     "text": [
      "enter your code1456+\n",
      "The password is wrong\n"
     ]
    }
   ],
   "source": [
    "pw = input(\"enter your code\")\n",
    "if pw == \"1234\":\n",
    "    print(\"Welcome\")\n",
    "else:\n",
    "    print(\"The password is wrong\")"
   ]
  },
  {
   "cell_type": "code",
   "execution_count": 13,
   "id": "d600f49e",
   "metadata": {},
   "outputs": [
    {
     "name": "stdout",
     "output_type": "stream",
     "text": [
      "enter the grade86\n",
      "Good\n"
     ]
    }
   ],
   "source": [
    "score = int(input(\"enter the grade\"))\n",
    "\n",
    "if score >= 90:\n",
    "    print(\"Excellent\")\n",
    "elif 80 <= score < 90: \n",
    "    print(\"Good\")\n",
    "elif 70 <= score < 80:  \n",
    "    print(\"Average\")\n",
    "elif 60 <= score < 70:  \n",
    "    print(\"Below Average\")\n",
    "else:\n",
    "    print(\"Not Good\")\n"
   ]
  },
  {
   "cell_type": "code",
   "execution_count": 18,
   "id": "f3f1d0ce",
   "metadata": {},
   "outputs": [
    {
     "name": "stdout",
     "output_type": "stream",
     "text": [
      "enter your age!15\n",
      "You are of the appropriate age to watch PG-13(Parents Strongly Cautioned)content.\n"
     ]
    }
   ],
   "source": [
    "age = int(input(\"enter your age!\"))\n",
    "if (int(age) <= 6):\n",
    "    print(\"You are of the appropriate age to watch G(General Audience)content.\")\n",
    "elif(int(age) <= 12):\n",
    "    print(\"You are of the appropriate age to watch PG(Parents Guidance)content.\")\n",
    "elif(int(age) <= 18):\n",
    "    print(\"You are of the appropriate age to watch PG-13(Parents Strongly Cautioned)content.\")\n",
    "else:\n",
    "    print(\"You are an adult and can watch all movie ratings, including restricted ones.\")"
   ]
  },
  {
   "cell_type": "code",
   "execution_count": 20,
   "id": "e44af727",
   "metadata": {},
   "outputs": [
    {
     "name": "stdout",
     "output_type": "stream",
     "text": [
      "enter three number and saperate with comma1,15,100\n",
      "the biggest number is: 100\n"
     ]
    }
   ],
   "source": [
    "def comparing_numbers(a, b, c):\n",
    "    print(f\"the biggest number is: {max(a, b, c)}\")\n",
    "\n",
    "a, b, c = map(int, input(\"enter three number and saperate with comma:\").split(','))\n",
    "    \n",
    "comparing_numbers(a, b, c) "
   ]
  },
  {
   "cell_type": "code",
   "execution_count": 21,
   "id": "2942214a",
   "metadata": {},
   "outputs": [
    {
     "name": "stdout",
     "output_type": "stream",
     "text": [
      "enter how many minutes you were late50\n",
      "you are more than 20 minutes late, there will be a $10 fine.\n"
     ]
    }
   ],
   "source": [
    "min_late = int(input(\"enter how many minutes you were late\"))\n",
    "if min_late < 20:\n",
    "    print(\"you're late by less than 20 minutes, please be on time next time and don't be late again.\")\n",
    "else:\n",
    "    print(\"you are more than 20 minutes late, there will be a $10 fine.\")"
   ]
  },
  {
   "cell_type": "code",
   "execution_count": 31,
   "id": "06882907",
   "metadata": {},
   "outputs": [
    {
     "name": "stdout",
     "output_type": "stream",
     "text": [
      "choose two numbers to calculate, and seperate with comma45, 25\n",
      "choose + - * / to calculate+\n",
      "the total is: 70\n"
     ]
    }
   ],
   "source": [
    "def calculator_nums(a, b):\n",
    "\n",
    "    operation = input(\"choose + - * / to calculate\")\n",
    "    \n",
    "    if operation == '+':\n",
    "        result = a + b\n",
    "    elif operation == '-':\n",
    "        result = a - b\n",
    "    elif operation == '*':\n",
    "        result = a * b\n",
    "    elif operation == '/':\n",
    "        if a and b != 0:\n",
    "            result = a / b\n",
    "        else:\n",
    "            return \"Division by zero is undefined.\"\n",
    "    else:\n",
    "        return \"Invalid operation.\"\n",
    "\n",
    "    return result  \n",
    "\n",
    "a, b = map(int, input(\"choose two numbers to calculate and seperatewith comma\").split(','))    \n",
    "\n",
    "print(f\"the total is: {calculator_nums(a, b)}\")"
   ]
  },
  {
   "cell_type": "code",
   "execution_count": 32,
   "id": "d844bcab",
   "metadata": {},
   "outputs": [
    {
     "name": "stdout",
     "output_type": "stream",
     "text": [
      "enter a number10\n",
      "1 2 3 4 5 6 7 8 9 10 "
     ]
    }
   ],
   "source": [
    "n = int(input(\"enter a number\"))\n",
    "for i in range(1, n+1):\n",
    "    print(i, end=\" \")"
   ]
  },
  {
   "cell_type": "code",
   "execution_count": 35,
   "id": "42322348",
   "metadata": {},
   "outputs": [
    {
     "name": "stdout",
     "output_type": "stream",
     "text": [
      "plesde enter a positive integer10\n",
      "the total is: 55\n"
     ]
    }
   ],
   "source": [
    "sum = 0\n",
    "n = int(input(\"please enter a positive integer\"))\n",
    "for i in range(1, n+1):\n",
    "    sum += i\n",
    "print(f\"the total is: {sum}\")"
   ]
  },
  {
   "cell_type": "code",
   "execution_count": 47,
   "id": "1581dcff",
   "metadata": {},
   "outputs": [
    {
     "name": "stdout",
     "output_type": "stream",
     "text": [
      "外部第 1 次迴圈,內部執行 1 次迴圈:#\n",
      "外部第 2 次迴圈,內部執行 2 次迴圈:##\n",
      "外部第 3 次迴圈,內部執行 3 次迴圈:###\n",
      "外部第 4 次迴圈,內部執行 4 次迴圈:####\n",
      "外部第 5 次迴圈,內部執行 5 次迴圈:#####\n"
     ]
    }
   ],
   "source": [
    "for i in range(1, 6):#外部\n",
    "    print(\"外部第\",i,\"次迴圈,內部執行\",i,\"次迴圈:\",end=\"\")\n",
    "    for j in range(1, i+1):#內部\n",
    "        print(\"#\", end=\"\")\n",
    "    print()"
   ]
  },
  {
   "cell_type": "code",
   "execution_count": 51,
   "id": "97475976",
   "metadata": {},
   "outputs": [
    {
     "name": "stdout",
     "output_type": "stream",
     "text": [
      "1*1= 1\n",
      "1*2= 2\n",
      "1*3= 3\n",
      "1*4= 4\n",
      "1*5= 5\n",
      "1*6= 6\n",
      "1*7= 7\n",
      "1*8= 8\n",
      "1*9= 9\n",
      "\n",
      "2*1= 2\n",
      "2*2= 4\n",
      "2*3= 6\n",
      "2*4= 8\n",
      "2*5=10\n",
      "2*6=12\n",
      "2*7=14\n",
      "2*8=16\n",
      "2*9=18\n",
      "\n",
      "3*1= 3\n",
      "3*2= 6\n",
      "3*3= 9\n",
      "3*4=12\n",
      "3*5=15\n",
      "3*6=18\n",
      "3*7=21\n",
      "3*8=24\n",
      "3*9=27\n",
      "\n",
      "4*1= 4\n",
      "4*2= 8\n",
      "4*3=12\n",
      "4*4=16\n",
      "4*5=20\n",
      "4*6=24\n",
      "4*7=28\n",
      "4*8=32\n",
      "4*9=36\n",
      "\n",
      "5*1= 5\n",
      "5*2=10\n",
      "5*3=15\n",
      "5*4=20\n",
      "5*5=25\n",
      "5*6=30\n",
      "5*7=35\n",
      "5*8=40\n",
      "5*9=45\n",
      "\n",
      "6*1= 6\n",
      "6*2=12\n",
      "6*3=18\n",
      "6*4=24\n",
      "6*5=30\n",
      "6*6=36\n",
      "6*7=42\n",
      "6*8=48\n",
      "6*9=54\n",
      "\n",
      "7*1= 7\n",
      "7*2=14\n",
      "7*3=21\n",
      "7*4=28\n",
      "7*5=35\n",
      "7*6=42\n",
      "7*7=49\n",
      "7*8=56\n",
      "7*9=63\n",
      "\n",
      "8*1= 8\n",
      "8*2=16\n",
      "8*3=24\n",
      "8*4=32\n",
      "8*5=40\n",
      "8*6=48\n",
      "8*7=56\n",
      "8*8=64\n",
      "8*9=72\n",
      "\n",
      "9*1= 9\n",
      "9*2=18\n",
      "9*3=27\n",
      "9*4=36\n",
      "9*5=45\n",
      "9*6=54\n",
      "9*7=63\n",
      "9*8=72\n",
      "9*9=81\n",
      "\n"
     ]
    }
   ],
   "source": [
    "for i in range(1, 10):\n",
    "    for j in range(1, 10):\n",
    "        product = i * j\n",
    "        print(f\"{i}*{j}={product:2d}\")\n",
    "    print()"
   ]
  },
  {
   "cell_type": "code",
   "execution_count": 56,
   "id": "4c8be05e",
   "metadata": {},
   "outputs": [
    {
     "name": "stdout",
     "output_type": "stream",
     "text": [
      "enter a integer number5\n",
      "1\n",
      "12\n",
      "123\n",
      "1234\n",
      "12345\n"
     ]
    }
   ],
   "source": [
    "num = int(input(\"enter a integer number\"))\n",
    "for i in range (1, num+1):\n",
    "    for j in range(1, i+1):\n",
    "        print(j, end=\"\")\n",
    "    print()"
   ]
  },
  {
   "cell_type": "code",
   "execution_count": 58,
   "id": "e95e9602",
   "metadata": {},
   "outputs": [
    {
     "name": "stdout",
     "output_type": "stream",
     "text": [
      "1,2,3,4,5,6,8,9,10,11,12,13,14,15,16,17,18,19,"
     ]
    }
   ],
   "source": [
    "for i in range(1,20):\n",
    "    if i == 7:\n",
    "        continue\n",
    "    print(i, end=\",\")"
   ]
  },
  {
   "cell_type": "code",
   "execution_count": 64,
   "id": "12cab15c",
   "metadata": {},
   "outputs": [
    {
     "name": "stdout",
     "output_type": "stream",
     "text": [
      "entter the building floor10\n",
      "1,2,3,5,6,7,8,9,10,"
     ]
    }
   ],
   "source": [
    "floor = int(input(\"entter the building floor\"))\n",
    "for i in range(1, floor+1):\n",
    "    if i == 4:\n",
    "        continue\n",
    "    print(i, end=\",\")\n",
    "    "
   ]
  },
  {
   "cell_type": "code",
   "execution_count": 68,
   "id": "0a0dde1b",
   "metadata": {},
   "outputs": [
    {
     "name": "stdout",
     "output_type": "stream",
     "text": [
      "enter a number25\n",
      "2 4 6 8 10 12 14 16 18 20 22 24 "
     ]
    }
   ],
   "source": [
    "i = int(input(\"enter a number\"))\n",
    "multiple = m = 2\n",
    "while m <= i :\n",
    "    print(m , end=\" \")\n",
    "    m += 2 "
   ]
  },
  {
   "cell_type": "code",
   "execution_count": 74,
   "id": "20dff93e",
   "metadata": {},
   "outputs": [
    {
     "name": "stdout",
     "output_type": "stream",
     "text": [
      "2\n",
      "6\n",
      "12\n",
      "20\n",
      "30\n",
      "42\n",
      "56\n",
      "72\n",
      "90\n",
      "110\n",
      "132\n",
      "156\n",
      "182\n",
      "210\n",
      "240\n",
      "272\n",
      "306\n",
      "342\n",
      "380\n",
      "420\n",
      "462\n",
      "506\n",
      "552\n",
      "600\n",
      "650\n",
      "702\n",
      "756\n",
      "812\n",
      "870\n",
      "930\n",
      "992\n",
      "1056\n",
      "1122\n",
      "1190\n",
      "1260\n",
      "1332\n",
      "1406\n",
      "1482\n",
      "1560\n",
      "1640\n",
      "1722\n",
      "1806\n",
      "1892\n",
      "1980\n",
      "2070\n",
      "2162\n",
      "2256\n",
      "2352\n",
      "2450\n",
      "2550\n"
     ]
    }
   ],
   "source": [
    "sum = 0\n",
    "for i in range(2, 101, 2):\n",
    "    sum += i\n",
    "    print(sum)"
   ]
  },
  {
   "cell_type": "code",
   "execution_count": 77,
   "id": "56f6ece9",
   "metadata": {},
   "outputs": [
    {
     "name": "stdout",
     "output_type": "stream",
     "text": [
      "the sum of muitiple of 3 & 7:2208\n"
     ]
    }
   ],
   "source": [
    "sum = 0\n",
    "for i in range(1, 101):\n",
    "    if i % 3 == 0 or i % 7 == 0:\n",
    "        sum += i\n",
    "print(f\"the sum of muitiple of 3 & 7:{sum}\")"
   ]
  },
  {
   "cell_type": "code",
   "execution_count": 11,
   "id": "3459c874",
   "metadata": {},
   "outputs": [
    {
     "name": "stdout",
     "output_type": "stream",
     "text": [
      "enter the number of students100\n",
      "enter the number of apples100\n",
      "number of apples each student can get:1\n",
      "apples remaining:0 \n"
     ]
    }
   ],
   "source": [
    "stu_input = int(input(\"enter the number of students\"))\n",
    "apple = int(input(\"enter the number of apples\"))\n",
    "\n",
    "assigned = divmod(apple, stu_input)\n",
    "\n",
    "apple_per_p = assigned[0]\n",
    "remainding = assigned[1]\n",
    "print(f\"number of apples each student can get:{apple_per_p}\")\n",
    "print(f\"apples remaining:{remainding} \")"
   ]
  },
  {
   "cell_type": "code",
   "execution_count": 21,
   "id": "5e63775a",
   "metadata": {},
   "outputs": [
    {
     "name": "stdout",
     "output_type": "stream",
     "text": [
      "please enter the expenditure for the 1st month:10000\n",
      "please enter the expenditure for the 2nd month:20000\n",
      "please enter the expenditure for the 3rd month:30000\n",
      "please enter the expenditure for the 4th month:40000\n",
      "the highest expenditure ampunt is:40000\n",
      "The lowest expenditure amount is:10000\n",
      "the total expenditure of four month amount is:100000\n",
      "the expenditure amounts sorted drom lowest to highest are: [10000, 20000, 30000, 40000]\n"
     ]
    }
   ],
   "source": [
    "expenses_1 = int(input(\"please enter the expenditure for the 1st month:\"))\n",
    "expenses_2 = int(input(\"please enter the expenditure for the 2nd month:\"))\n",
    "expenses_3 = int(input(\"please enter the expenditure for the 3rd month:\"))\n",
    "expenses_4 = int(input(\"please enter the expenditure for the 4th month:\"))\n",
    "\n",
    "\n",
    "list_1 = [expenses_1, expenses_2, expenses_3, expenses_4]\n",
    "sum_s = 0\n",
    "for i in list_1:\n",
    "    if i != 0:\n",
    "        sum_s += i\n",
    "        \n",
    "print(f\"the highest expenditure ampunt is:{max(list_1)}\")\n",
    "print(f\"The lowest expenditure amount is:{min(list_1)}\")\n",
    "print(f\"the total expenditure of four month amount is:{sum_s}\")\n",
    "print(f\"the expenditure amounts sorted drom lowest to highest are: {sorted(list_1)}\")"
   ]
  },
  {
   "cell_type": "code",
   "execution_count": null,
   "id": "fc9cde16",
   "metadata": {},
   "outputs": [],
   "source": [
    "list1 = [\"this\", \"is\", \"a\", \"book.\"]\n",
    "print(\" \".join(list1))"
   ]
  },
  {
   "cell_type": "code",
   "execution_count": 22,
   "id": "457a259f",
   "metadata": {},
   "outputs": [
    {
     "name": "stdout",
     "output_type": "stream",
     "text": [
      "['this', 'is', 'a', 'book']\n"
     ]
    }
   ],
   "source": [
    "str1 = \"thiszzziszzzazzzbook\"\n",
    "print(str1.split('zzz'))"
   ]
  },
  {
   "cell_type": "code",
   "execution_count": 30,
   "id": "219d5008",
   "metadata": {},
   "outputs": [
    {
     "name": "stdout",
     "output_type": "stream",
     "text": [
      "enter the URL: https://www.twse.com.tw\n",
      "The URL ends with 'tw': True\n",
      "The URL ends with 'cn': False\n"
     ]
    }
   ],
   "source": [
    "web = input(\"enter the URL: \")\n",
    "print(f\"The URL ends with 'tw': {web.endswith('tw')}\")\n",
    "print(f\"The URL ends with 'cn': {web.endswith('cn')}\")"
   ]
  },
  {
   "cell_type": "code",
   "execution_count": 42,
   "id": "ed89256d",
   "metadata": {},
   "outputs": [
    {
     "name": "stdout",
     "output_type": "stream",
     "text": [
      "python*********\n",
      "****python\n",
      "***python***\n",
      "   python   \n",
      "15\n",
      "two cute toucan on the  screen\n",
      "tw cute nazca bby n the  screen\n"
     ]
    }
   ],
   "source": [
    "str1 = \"python\"\n",
    "print(str1.ljust(15, \"*\"))\n",
    "\n",
    "str2 = \"python\"\n",
    "print(str2.rjust(10, \"*\"))\n",
    "\n",
    "str3 = \"python\"\n",
    "print(str3.center(12, \"*\"))\n",
    "print(str3.center(12))\n",
    "\n",
    "str4 = \"two cute nazca booby on the  screen\"\n",
    "print(str4.find(\"booby\"))\n",
    "\n",
    "str5 = \"two cute nazca booby on the  screen\"\n",
    "print(str5.replace(\"nazca booby\", \"toucan\"))\n",
    "print(str5.replace(\"o\", \"\"))"
   ]
  },
  {
   "cell_type": "code",
   "execution_count": 16,
   "id": "867dfa79",
   "metadata": {},
   "outputs": [
    {
     "name": "stdout",
     "output_type": "stream",
     "text": [
      "這是一段中文內容\n"
     ]
    }
   ],
   "source": [
    "# 用\"w\"模式創建並寫入文件\n",
    "file = open(\"my_file.txt\", \"w\", encoding =\"utf-8\")\n",
    "# 寫入\"這是一段中文內容。\"\n",
    "content = file.write(\"這是一段中文內容\")\n",
    "# 關閉檔案\n",
    "file.close()\n",
    "\n",
    "# 重新打開文件並讀取內容\n",
    "file = open(\"my_file.txt\", \"r\", encoding =\"utf-8\")\n",
    "content = file.read()\n",
    "# 輸出查看\n",
    "print(content)\n",
    "# 關閉檔案\n",
    "file.close()"
   ]
  },
  {
   "cell_type": "code",
   "execution_count": 21,
   "id": "28526658",
   "metadata": {},
   "outputs": [
    {
     "name": "stdout",
     "output_type": "stream",
     "text": [
      "這是一段中文內容"
     ]
    },
    {
     "data": {
      "text/plain": [
       "<function TextIOWrapper.close()>"
      ]
     },
     "execution_count": 21,
     "metadata": {},
     "output_type": "execute_result"
    }
   ],
   "source": [
    "f = open(\"my_file.txt\", \"r\" , encoding =\"utf-8\")\n",
    "for line in f:\n",
    "    print(line, end =\"\")\n",
    "f.close"
   ]
  },
  {
   "cell_type": "code",
   "execution_count": 23,
   "id": "e9cb46ec",
   "metadata": {},
   "outputs": [
    {
     "name": "stdout",
     "output_type": "stream",
     "text": [
      "這是一段中文內容"
     ]
    }
   ],
   "source": [
    "# 用with as 取代 close\n",
    "with open(\"my_file.txt\", \"r\", encoding =\"utf-8\")as f:\n",
    "    for line in f:\n",
    "        print(line, end=\"\")"
   ]
  },
  {
   "cell_type": "code",
   "execution_count": 28,
   "id": "742d782c",
   "metadata": {},
   "outputs": [
    {
     "name": "stdout",
     "output_type": "stream",
     "text": [
      "[\"The future of artificial intelligence (AI) will be open. New and innovative capabilities in areas like generative AI will come from all corners of the technology ecosystem and from companies distributed around the globe — from early stage startups to cloud-native AI platforms to large, global enterprises. The momentum in this space is incredible. In fact, we've seen a significant acceleration in the number of AI startups that have joined the Google for Startups Cloud Program in 2023.\"]\n"
     ]
    }
   ],
   "source": [
    "# 輸入文本並用readlines()轉為串列\n",
    "with open(\"my_file.txt\", \"r+\", encoding = \"utf-8\" ) as f:\n",
    "    content = f.write(\"The future of artificial intelligence (AI) will be open. New and innovative capabilities in areas like generative AI will come from all corners of the technology ecosystem and from companies distributed around the globe — from early stage startups to cloud-native AI platforms to large, global enterprises. The momentum in this space is incredible. In fact, we've seen a significant acceleration in the number of AI startups that have joined the Google for Startups Cloud Program in 2023.\")\n",
    "    f.seek(0)\n",
    "    print(f.readlines())"
   ]
  },
  {
   "cell_type": "code",
   "execution_count": 34,
   "id": "b8a11c75",
   "metadata": {},
   "outputs": [
    {
     "data": {
      "text/plain": [
       "True"
      ]
     },
     "execution_count": 34,
     "metadata": {},
     "output_type": "execute_result"
    }
   ],
   "source": [
    "# os.path.exists檢查檔案或資料夾是否存在\n",
    "import os\n",
    "os.path.exists(\"my_file.txt\")"
   ]
  },
  {
   "cell_type": "code",
   "execution_count": 38,
   "id": "da79d218",
   "metadata": {},
   "outputs": [
    {
     "name": "stdout",
     "output_type": "stream",
     "text": [
      "please check if file is exist:my_file.txt\n",
      "file is exist\n"
     ]
    }
   ],
   "source": [
    "# 用try except finally 檢查檔案是否存在然後關閉\n",
    "try:\n",
    "    filename = input(\"please check if file is exist:\").lower()\n",
    "    \n",
    "    if os.path.exists(filename):\n",
    "        print(\"file is exist\")\n",
    "    else:\n",
    "        print(\"file dosen't exist\")\n",
    "        \n",
    "except Exception as e:\n",
    "    print(\"an errot accord:\", e)\n",
    "\n",
    "finally:\n",
    "    filename.close() "
   ]
  },
  {
   "cell_type": "code",
   "execution_count": 45,
   "id": "afb3fd98",
   "metadata": {},
   "outputs": [
    {
     "name": "stderr",
     "output_type": "stream",
     "text": [
      ".F\n",
      "======================================================================\n",
      "FAIL: test_plus (__main__.CalcTest.test_plus)\n",
      "----------------------------------------------------------------------\n",
      "Traceback (most recent call last):\n",
      "  File \"C:\\Users\\sarah\\AppData\\Local\\Temp\\ipykernel_15612\\3334026962.py\", line 7, in test_plus\n",
      "    self.assertEqual(result, expected, \"錯誤{}不等於{}\".format(result, expected))\n",
      "AssertionError: 5 != 1 : 錯誤5不等於1\n",
      "\n",
      "----------------------------------------------------------------------\n",
      "Ran 2 tests in 0.002s\n",
      "\n",
      "FAILED (failures=1)\n"
     ]
    },
    {
     "data": {
      "text/plain": [
       "<unittest.runner.TextTestResult run=2 errors=0 failures=1>"
      ]
     },
     "execution_count": 45,
     "metadata": {},
     "output_type": "execute_result"
    }
   ],
   "source": [
    "import unittest\n",
    "\n",
    "class CalcTest(unittest.TestCase):\n",
    "    def test_plus(self):\n",
    "        expected = 1  \n",
    "        result = plus(3, 2)\n",
    "        self.assertEqual(result, expected, \"錯誤{}不等於{}\".format(result, expected))\n",
    "\n",
    "    def test_minus(self):\n",
    "        expected = 1\n",
    "        result = minus(3, 2)\n",
    "        self.assertEqual(result, expected)\n",
    "\n",
    "def plus(a, b):\n",
    "    return a + b\n",
    "\n",
    "def minus(a, b):\n",
    "    return a - b\n",
    "\n",
    "unittest.TextTestRunner().run(unittest.TestLoader().loadTestsFromTestCase(CalcTest))\n",
    "\n"
   ]
  },
  {
   "cell_type": "code",
   "execution_count": null,
   "id": "c03643d2",
   "metadata": {},
   "outputs": [],
   "source": []
  }
 ],
 "metadata": {
  "kernelspec": {
   "display_name": "Python 3 (ipykernel)",
   "language": "python",
   "name": "python3"
  },
  "language_info": {
   "codemirror_mode": {
    "name": "ipython",
    "version": 3
   },
   "file_extension": ".py",
   "mimetype": "text/x-python",
   "name": "python",
   "nbconvert_exporter": "python",
   "pygments_lexer": "ipython3",
   "version": "3.11.5"
  }
 },
 "nbformat": 4,
 "nbformat_minor": 5
}
