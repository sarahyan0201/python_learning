{
 "cells": [
  {
   "cell_type": "code",
   "execution_count": 7,
   "id": "5d0aa5de",
   "metadata": {},
   "outputs": [
    {
     "name": "stdout",
     "output_type": "stream",
     "text": [
      "Counter({2: 8, 3: 6, 1: 3, 12: 3, 123: 1, 1123: 1})\n",
      "[(2, 8), (3, 6), (1, 3), (12, 3), (123, 1)]\n",
      "{1: 3, 2: 8, 3: 6, 12: 3, 123: 1, 1123: 1}\n",
      "Counter({1: 3, 2: 3, 3: 2, 4: 1, 5: 1, 6: 1})\n",
      "Counter({4: 1, 5: 1, 6: 1})\n"
     ]
    }
   ],
   "source": [
    "#1. Counter\n",
    "\n",
    "from collections import Counter\n",
    "\n",
    "# Use Counter to count how many times each element appears in the list.\n",
    "lst = [1,2,2,2,2,2,3,3,3,3,3,3,12,123,12,1123,1,1,12,2,2,2]\n",
    "print(Counter(lst))\n",
    "\n",
    "# Use 'most_common(n)' to return the n most frequent elements along with their counts.\n",
    "print(Counter(lst).most_common(5))\n",
    "\n",
    "# Use dict() to convert a Counter object back into a regular dictionary.\n",
    "counter_dict = dict(Counter(lst))\n",
    "print(counter_dict)\n",
    "\n",
    "# Perform addition or subtraction operations on two Counter objects.\n",
    "a1 = Counter([1, 2, 3, 2, 1])\n",
    "a2 = Counter([1, 2, 3, 4, 5, 6])\n",
    "print(a1 + a2)\n",
    "print(a2 - a1)\n"
   ]
  },
  {
   "cell_type": "code",
   "execution_count": 15,
   "id": "af98cbee",
   "metadata": {},
   "outputs": [
    {
     "name": "stdout",
     "output_type": "stream",
     "text": [
      "defaultdict(<class 'list'>, {'fruits': ['apple', 'orange', 'guava']})\n",
      "defaultdict(<class 'int'>, {1: 1, 2: 2, 3: 3, 5: 2, 6: 2})\n"
     ]
    }
   ],
   "source": [
    "#2. defaultdict\n",
    "\n",
    "from collections import defaultdict\n",
    "\n",
    "# Create a defaultdict\n",
    "d = defaultdict(list)\n",
    "\n",
    "d['fruits'].append('apple')\n",
    "d['fruits'].append('orange')\n",
    "d['fruits'].append('guava')\n",
    "\n",
    "print(d)\n",
    "\n",
    "\n",
    "# challenge\n",
    "nums = [1, 2, 2, 3, 3, 3, 5, 5, 6, 6]\n",
    "d = defaultdict(int)\n",
    "for num in nums:\n",
    "    d[num] += 1 \n",
    "print(d)"
   ]
  },
  {
   "cell_type": "code",
   "execution_count": 21,
   "id": "17fff0be",
   "metadata": {},
   "outputs": [
    {
     "name": "stdout",
     "output_type": "stream",
     "text": [
      "Person(name='Alice', age=30, city='New York')\n"
     ]
    }
   ],
   "source": [
    "#3. namedtuple\n",
    "\n",
    "from collections import namedtuple\n",
    "\n",
    "# Create a namedtuple class.\n",
    "person = namedtuple('Person',['name', 'age', 'city'])\n",
    "\n",
    "# Create an instance of the namedtuple.\n",
    "p = person(name = 'Alice', age = 30, city = 'New York')\n",
    "\n",
    "# Access its attributes.\n",
    "print(p)\n"
   ]
  },
  {
   "cell_type": "code",
   "execution_count": 38,
   "id": "db52a37b",
   "metadata": {},
   "outputs": [
    {
     "name": "stdout",
     "output_type": "stream",
     "text": [
      "Current Working Directory: C:\\Users\\sarah\\My Python Stuff\n",
      "\n",
      " Current looking folder: .\n",
      "The subfolders are:\n",
      "\t.ipynb_checkpoints\n",
      "The files are:\n",
      "\tdictionary.ipynb\n",
      "\tfunction_module.ipynb\n",
      "\tgenerator.ipynb\n",
      "\tITS Python Certification.ipynb\n",
      "\tList.ipynb\n",
      "\tMilestone 2 - Black Jack.ipynb\n",
      "\tMilestone 2.ipynb\n",
      "\tmilestone practice.ipynb\n",
      "\tMilestone1.ipynb\n",
      "\tmodule.ipynb\n",
      "\tmore python modules.ipynb\n",
      "\tMyFirstNotebook.ipynb\n",
      "\tmy_file.txt\n",
      "\tNumbers.ipynb\n",
      "\tobject oriented programming.ipynb\n",
      "\tpractice.txt\n",
      "\tstatements.ipynb\n",
      "\tString.ipynb\n",
      "\tVariable Assignments.ipynb\n",
      "\n",
      "\n",
      "\n",
      " Current looking folder: .\\.ipynb_checkpoints\n",
      "The subfolders are:\n",
      "The files are:\n",
      "\tdictionary-checkpoint.ipynb\n",
      "\tfunction_module-checkpoint.ipynb\n",
      "\tgenerator-checkpoint.ipynb\n",
      "\tITS Python Certification-checkpoint.ipynb\n",
      "\tList-checkpoint.ipynb\n",
      "\tMilestone 2 - Black Jack-checkpoint.ipynb\n",
      "\tMilestone 2-checkpoint.ipynb\n",
      "\tmilestone practice-checkpoint.ipynb\n",
      "\tMilestone1-checkpoint.ipynb\n",
      "\tmodule-checkpoint.ipynb\n",
      "\tmore python modules-checkpoint.ipynb\n",
      "\tMyFirstNotebook-checkpoint.ipynb\n",
      "\tNumbers-checkpoint.ipynb\n",
      "\tobject oriented programming-checkpoint.ipynb\n",
      "\tstatements-checkpoint.ipynb\n",
      "\tString-checkpoint.ipynb\n",
      "\tVariable Assignments-checkpoint.ipynb\n",
      "\n",
      "\n"
     ]
    }
   ],
   "source": [
    "#4. Opening and Reading Files\n",
    "\n",
    "# Open a file, or create it if it doesn't exist.\n",
    "f = open('practice.txt', 'w+')\n",
    "\n",
    "# Write content to the file.\n",
    "f.write('test')\n",
    "\n",
    "# Close the file.\n",
    "f.close()\n",
    "\n",
    "# List the contents of a directory.\n",
    "import os \n",
    "print(\"Currently Directory:\", os.getcwd())\n",
    "directory_contents = os.listdir()\n",
    "print(directory_contents)\n",
    "for item in directory_content:\n",
    "    print(f\"\\n{item}\")\n",
    "\n",
    "# Check a specific directory.\n",
    "specific_diretory = r\"C:\\Users\\sarah\\My Python Stuff\"\n",
    "cotents = os.listdir(specific_diretory)\n",
    "for i in cotents:\n",
    "    print(i)\n",
    "\n",
    "# Check the current directory.\n",
    "print(\"Current Working Directory:\", os.getcwd())\n",
    "\n",
    "# Using os.walk\n",
    "path = \".\"\n",
    "for foldername, subfolders, filenames in os.walk(path):\n",
    "    print(f\"\\n Current looking folder: {foldername}\")\n",
    "    print(\"The subfolders are:\")\n",
    "    for sunfolder in subfolders:\n",
    "        print(f\"\\t{sunfolder}\")\n",
    "    print(\"The files are:\")\n",
    "    for filename in filenames:\n",
    "        print(f\"\\t{filename}\")\n",
    "    print(\"\\n\")"
   ]
  },
  {
   "cell_type": "code",
   "execution_count": 59,
   "id": "9ade35a3",
   "metadata": {},
   "outputs": [
    {
     "name": "stdout",
     "output_type": "stream",
     "text": [
      "hour:     3\n",
      "minute:   40\n",
      "second:   45\n",
      "earliest time: 00:00:00\n",
      "latest time:   23:59:59.999999\n",
      "today is:  2024-11-21\n",
      "this year is:        2024\n",
      "this month is:       11\n",
      "What’s today’s date? 21\n",
      "show today's year, month, day in the Gregorian Calender time.struct_time(tm_year=2024, tm_mon=11, tm_mday=21, tm_hour=0, tm_min=0, tm_sec=0, tm_wday=3, tm_yday=326, tm_isdst=-1)\n"
     ]
    }
   ],
   "source": [
    "#5. datetime \n",
    "\n",
    "#5.1 Basic operations with time.\n",
    "import datetime\n",
    "\n",
    "t = datetime.time(3,40,45)\n",
    "print('hour:    ', t.hour)\n",
    "print('minute:  ', t.minute)\n",
    "print('second:  ',t.second)\n",
    "\n",
    "# check the minimum and maximum values of the time.\n",
    "print('earliest time:',t.min)\n",
    "print('latest time:  ',t.max)\n",
    "\n",
    "#5.2 check the current time\n",
    "td = datetime.date.today()\n",
    "print('today is: ',td)\n",
    "\n",
    "# Extract the attributes of a date.\n",
    "print('this year is:       ',td.year)\n",
    "print('this month is:      ',td.month)\n",
    "print('What’s today’s date?',td.day)\n",
    "\n",
    "tt = td.timetuple()\n",
    "print(\"show today's year, month, day in the Gregorian Calender\",tt)\n"
   ]
  },
  {
   "cell_type": "code",
   "execution_count": 69,
   "id": "85d160d8",
   "metadata": {},
   "outputs": [
    {
     "name": "stdout",
     "output_type": "stream",
     "text": [
      "square root of 16 is: 4.0\n",
      "square root of 2 is : 1.4142135623730951\n",
      "ceiling of 3.5 is: 4\n",
      "ceiling of 4.5 is: 5\n",
      "floor of 5.5 is: 5\n",
      "floor of 6.5 is: 6\n",
      "area of circle with radius 5: 78.53981633974483\n"
     ]
    }
   ],
   "source": [
    "# 6. math\n",
    "\n",
    "\n",
    "#6.1 List the functions available in the math module.\n",
    "import math \n",
    "# help(math)\n",
    "\n",
    "#6.2 Calculate the square root.\n",
    "print('square root of 16 is:', math.sqrt(16))\n",
    "print('square root of 2 is :',math.sqrt(2))\n",
    "\n",
    "# 6.3 Round up and round down.\n",
    "print('ceiling of 3.5 is:', math.ceil(3.5))\n",
    "print('ceiling of 4.5 is:', math.ceil(4.5))\n",
    "print('floor of 5.5 is:', math.floor(5.5))\n",
    "print('floor of 6.5 is:', math.floor(6.5))\n",
    "\n",
    "# 6.4 \"The constants math.pi and math.e.\n",
    "radius = 5\n",
    "area = math.pi * radius** 2\n",
    "print('area of circle with radius 5:',area)\n"
   ]
  },
  {
   "cell_type": "code",
   "execution_count": 91,
   "id": "4871d850",
   "metadata": {},
   "outputs": [
    {
     "name": "stdout",
     "output_type": "stream",
     "text": [
      "generate random int: 18\n",
      "generate random float: 50.62530779437262\n",
      "random chioce cherry\n",
      "random simple ['apple', 'orange']\n",
      "shuffle items: ['banana', 'apple', 'guava', 'orange', 'cherry']\n"
     ]
    }
   ],
   "source": [
    "# 7. random\n",
    "\n",
    "#7.1 Generate random integers and decimals.\n",
    "import random\n",
    "print('generate random int:',random.randint(1,100))\n",
    "print('generate random float:', random.uniform(1.5,55.6))\n",
    "\n",
    "# 7.2 Randomly select and shuffle the order.\n",
    "items = ['apple', 'banana', 'cherry', 'guava', 'orange']\n",
    "print('random chioce', random.choice(items))\n",
    "print('random simple', random.sample(items, 2))\n",
    "\n",
    "random.shuffle(items)\n",
    "print('shuffle items:', items)"
   ]
  },
  {
   "cell_type": "code",
   "execution_count": 92,
   "id": "915a2d9c",
   "metadata": {},
   "outputs": [
    {
     "name": "stdout",
     "output_type": "stream",
     "text": [
      "9\n",
      "--Return--\n",
      "None\n",
      "> \u001b[1;32mc:\\users\\sarah\\appdata\\local\\temp\\ipykernel_26104\\671907239.py\u001b[0m(10)\u001b[0;36m<module>\u001b[1;34m()\u001b[0m\n",
      "\n",
      "ipdb> px\n",
      "*** NameError: name 'px' is not defined\n",
      "ipdb> p x\n",
      "[1, 2, 3]\n",
      "ipdb> q\n"
     ]
    }
   ],
   "source": [
    "# 8. debugger : pdb\n",
    "\n",
    "import pdb\n",
    "x = [1,2,3]\n",
    "y = 4\n",
    "z = 5\n",
    "\n",
    "result = y + z\n",
    "print(result)\n",
    "pdb.set_trace()\n",
    "\n",
    "result2 = y + x\n",
    "print(result2)\n"
   ]
  },
  {
   "cell_type": "code",
   "execution_count": 107,
   "id": "72593191",
   "metadata": {},
   "outputs": [
    {
     "name": "stdout",
     "output_type": "stream",
     "text": [
      "['0912-123-456', '650-555-5678']\n",
      "full match 0912-123-456\n",
      "group 1: 0912\n",
      "group 2: 123\n",
      "group 3: 456\n"
     ]
    }
   ],
   "source": [
    "#9.Regular Expressions\n",
    "\n",
    "#9.1 The basic structure of a regular expression\n",
    "import re\n",
    "# text = \"the person's phone number is 0912-123-456. call soon!\"\n",
    "# pattern = \"phone\"\n",
    "\n",
    "# match = re.search(pattern, text)\n",
    "# print(match)\n",
    "\n",
    "# if match:\n",
    "#     print(f\"match found at:{match.span()}\")\n",
    "# else:\n",
    "#     print(\"no match found\")\n",
    "    \n",
    "#9.2 chanllenge:find the number\n",
    "text = \"Call me at 0912-123-456 or 650-555-5678\"\n",
    "pattern = \"\\\\d{3,4}-\\\\d{3}-\\\\d{3,4}\"\n",
    "match = re.findall(pattern, text)\n",
    "print(match)\n",
    "\n",
    "# 9.3 Grouping and Capturing\n",
    "text = \"Call me at 0912-123-456 or 650-555-5678\"\n",
    "pattern = r\"(\\d{3,4})-(\\d{3})-(\\d{3,4})\"\n",
    "\n",
    "matches = re.search(pattern, text)\n",
    "\n",
    "if matches:\n",
    "    print(\"full match\", matches.group(0))\n",
    "    print(\"group 1:\", matches.group(1))\n",
    "    print(\"group 2:\", matches.group(2))\n",
    "    print(\"group 3:\", matches.group(3))\n",
    "\n",
    "else:\n",
    "    print(\"no match found\")"
   ]
  }
 ],
 "metadata": {
  "kernelspec": {
   "display_name": "Python 3 (ipykernel)",
   "language": "python",
   "name": "python3"
  },
  "language_info": {
   "codemirror_mode": {
    "name": "ipython",
    "version": 3
   },
   "file_extension": ".py",
   "mimetype": "text/x-python",
   "name": "python",
   "nbconvert_exporter": "python",
   "pygments_lexer": "ipython3",
   "version": "3.11.5"
  }
 },
 "nbformat": 4,
 "nbformat_minor": 5
}
