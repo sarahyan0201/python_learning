{
 "cells": [
  {
   "cell_type": "code",
   "execution_count": null,
   "id": "c6ad2f42",
   "metadata": {},
   "outputs": [],
   "source": [
    "# 一 使用資料類型和運算子執行操作 Perform operations using data types and operators.\n",
    "list1 = [1, 2, 3]\n",
    "list2 = [4, 5, 6]\n",
    "list3 = list1 + list2\n",
    "list4 = list3 * 2\n",
    "\n",
    "\n",
    "\n",
    "\n",
    "\n",
    "\n",
    "\n",
    "\n",
    "\n",
    "\n",
    "\n",
    "print(list4)"
   ]
  },
  {
   "cell_type": "code",
   "execution_count": 8,
   "id": "cc9bb2f1",
   "metadata": {},
   "outputs": [
    {
     "name": "stdout",
     "output_type": "stream",
     "text": [
      "enter the distance traveled in meters100\n",
      "enter the time elapsed in minutes200\n",
      "enter the time elapsed in seconds50\n",
      "time average velcity is 2008.020.0 seconds\n"
     ]
    }
   ],
   "source": [
    "# 請回答\n",
    "# distance 為何要用float?不能用int嗎?\n",
    "# time_min和 time_sec 為何不能用float?\n",
    "# 2.str((pace//60))為什麼要有兩個()?\n",
    "# pace//60 和 pace%60 的功能是為了完成什麼目的?\n",
    "\n",
    "distance = float(input(\"enter the distance traveled in meters\"))\n",
    "distance_kms = distance / 1000\n",
    "time_min = int(input(\"enter the time elapsed in minutes\"))\n",
    "time_sec = int(input(\"enter the time elapsed in seconds\"))\n",
    "\n",
    "time = time_min * 60 + time_sec\n",
    "pace = time / distance_kms\n",
    "\n",
    "print(\"time average velcity is\", str((pace//60)) + str((pace%60)) , \"seconds\")"
   ]
  },
  {
   "cell_type": "code",
   "execution_count": 11,
   "id": "533270c7",
   "metadata": {},
   "outputs": [
    {
     "name": "stdout",
     "output_type": "stream",
     "text": [
      "30.0\n"
     ]
    }
   ],
   "source": [
    "%、//、/各自代表什麼意思?\n",
    "\n",
    "\n",
    "\n",
    "a = 24\n",
    "b = 7\n",
    "ans = (a % b * 100) // 2.0 ** 3.0 - b\n",
    "print(ans)\n",
    "\n",
    "运算符\t名称        \t描述                                            \t示例         \t结果\n",
    "%\t取余运算符\t返回两数相除的余数。\t                                 10 % 3\t1    （10除以3余1）\n",
    "//\t整除运算符\t返回两数相除的整数部分，忽略小数部分（向下取整）。     \t10 // 3\t3   （3.333取整为3）\n",
    "/\t除法运算符\t返回两数相除的结果，包括小数部分。                     \t10 / 3     (3.3333333333333335)"
   ]
  },
  {
   "cell_type": "code",
   "execution_count": null,
   "id": "10ef962e",
   "metadata": {},
   "outputs": [],
   "source": [
    "# 浮點數常見形式\n",
    "1.小數形式：3.14\n",
    "2.整數後加小數點：5.0\n",
    "3.科學記數法：1E6, 1E-3\n",
    "4.無限值：float('inf'), float('-inf')\n",
    "5.NaN：float('nan')\n",
    "6. float() 函數轉換：float(10), float('3.14')\n",
    "7.負數浮點數：-7.5, -1E2\n",
    "8.零的浮點表示：0.0"
   ]
  },
  {
   "cell_type": "code",
   "execution_count": 13,
   "id": "1b39b1e1",
   "metadata": {},
   "outputs": [
    {
     "name": "stdout",
     "output_type": "stream",
     "text": [
      "5555\n"
     ]
    },
    {
     "data": {
      "text/plain": [
       "str"
      ]
     },
     "execution_count": 13,
     "metadata": {},
     "output_type": "execute_result"
    }
   ],
   "source": [
    "x1 = \"5\"\n",
    "y1 = 4\n",
    "\n",
    "a = x1 * y1\n",
    "print(a)\n",
    "type(a)\n"
   ]
  },
  {
   "cell_type": "code",
   "execution_count": null,
   "id": "a0a8e092",
   "metadata": {},
   "outputs": [],
   "source": [
    "# 哪一個印出是對的?\n",
    "print(\"you have work for\" + str(int(end) - int(start)) + \"hours\")\n",
    "print(\"you have work for\" + str(end) - (start) + \"hours\"))\n",
    "print(\"you have work for\" + int(end) - (start) + \"hours\"))\n",
    "\n",
    "\n",
    "\n",
    "\n",
    "\n",
    "# 1. print(\"you have work for\" + str(int(end) - int(start)) + \"hours\")這行代碼是正確的，因為：\n",
    "# int(end) - int(start)：這部分先將 end 和 start 轉換為整數並進行相減運算。\n",
    "# str(...)：再將結果轉換為字串。\n",
    "# + \"hours\"：最後將結果與字串 \"you have work for\" 和 \"hours\" 進行字串串接。"
   ]
  },
  {
   "cell_type": "code",
   "execution_count": null,
   "id": "e28746dc",
   "metadata": {},
   "outputs": [],
   "source": [
    "# 在bool中會被視為 False 的值：\n",
    "\n",
    "0（數字零）\n",
    "None\n",
    "空的字串 \"\"\n",
    "空的列表 []\n",
    "空的字典 {}\n",
    "False"
   ]
  },
  {
   "cell_type": "code",
   "execution_count": null,
   "id": "8ea6df07",
   "metadata": {},
   "outputs": [],
   "source": [
    "# 關於 None is None是 True 還是 False?\n",
    "# (a is b)這題print出的是True 還是 False?\n",
    "\n",
    "a = None\n",
    "b = None\n",
    "print(a == b) \n",
    "print(a is b)  \n",
    "\n",
    "\n",
    "# ==是比「值」，is是比「是不是同一個物件」（即它們的內存地址是否相同）\n",
    "\n",
    "# 總結\n",
    "=：賦值運算符，用來將值賦給變數。\n",
    "==：相等比較運算符，用來比較兩個變數的值是否相等。\n",
    "is：身份比較運算符，用來比較兩個變數是否指向同一個物件（記憶體位置是否相同）。\n",
    "None：表示無值或空值，檢查一個變數是否為 None 時，應使用 is。\n"
   ]
  },
  {
   "cell_type": "code",
   "execution_count": 14,
   "id": "21fc4f90",
   "metadata": {},
   "outputs": [
    {
     "name": "stdout",
     "output_type": "stream",
     "text": [
      "party\n",
      "cake\n",
      "birthday\n",
      "birthday\n"
     ]
    }
   ],
   "source": [
    "# print結果是?\n",
    "#  while 迴圈會不斷執行，直到 x 的值不再小於 4。每次迴圈執行後，x 的值都會自增 1（x = x + 1），然後進行條件檢查\n",
    "# 另外，2 % 4的餘數是?\n",
    "\n",
    "\n",
    "x = 0\n",
    "while x < 4:\n",
    "    if x % 4 == 0:\n",
    "        print(\"party\")\n",
    "    elif x - 2 < 0:\n",
    "        print(\"cake\")\n",
    "    elif x / 3 == 0:\n",
    "        print(\"greeting\")\n",
    "    else:\n",
    "        print(\"birthday\")\n",
    "    x = x + 1\n"
   ]
  },
  {
   "cell_type": "code",
   "execution_count": null,
   "id": "5e111ad3",
   "metadata": {},
   "outputs": [],
   "source": [
    "# 下面會print出什麼?\n",
    "alist = [1, 2, 3, 4]\n",
    "print(4 in alist)"
   ]
  },
  {
   "cell_type": "code",
   "execution_count": 26,
   "id": "d3cd9da7",
   "metadata": {},
   "outputs": [
    {
     "name": "stdout",
     "output_type": "stream",
     "text": [
      "milk\n"
     ]
    }
   ],
   "source": [
    "# 這一行在說什麼    for index in range(len(backwards_pname)-1, -1, -1):\n",
    "# 為什麼forward_pname = \"\" 是\"\"而不是建立[]?\n",
    "\n",
    "def reverse_pname(backwards_pname):\n",
    "    forward_pname = \"\"\n",
    "    for index in range(len(backwards_pname)-1, -1, -1):\n",
    "        forward_pname += backwards_pname[index]\n",
    "    return forward_pname\n",
    "print(reverse_pname(\"klim\"))\n",
    "\n",
    "\n",
    "\n",
    "\n",
    "\n",
    "len(backwards_pname)-1 是起始值（從字串的最後一個字符開始）。\n",
    "-1 是終止值（因為 range 函數在終止值之前停止，所以這裡實際上會遍歷到索引 0）。\n",
    "-1 是步長，這表示每次迴圈執行時索引減少 1，也就是從字串的結尾開始向前遍歷。"
   ]
  },
  {
   "cell_type": "code",
   "execution_count": 1,
   "id": "80f01173",
   "metadata": {},
   "outputs": [],
   "source": [
    "# 二 控制帶有決策迴圈的流程Control flow with decision loops\n",
    "\n",
    "\n",
    "# 請回答:為何第一行是寫 age == None:ranting = \"未知\"?而不是寫其他條件?這樣設計有什麼用意?\n",
    "def get_rating(age):\n",
    "    ranting = \"\"\n",
    "    if age == None:\n",
    "        ranting = \"未知\"\n",
    "    elif age < 13:\n",
    "        ranting = \"普通級\"\n",
    "    elif age < 18:\n",
    "        ranting = \"輔導級\"\n",
    "    else:\n",
    "        ranting = \"限制級\"\n",
    "        \n",
    "    return ranting\n",
    "\n",
    "\n",
    "\n",
    "1.age == None 檢查是否提供了年齡，若年齡未提供（即 None），會設置為 \"未知\"，這樣能避免空值帶來的錯誤，並保持程式穩定性。\n",
    "2.這樣的設計使得程式在處理「年齡未知」的情況下，仍然能夠返回合理的分級。"
   ]
  },
  {
   "cell_type": "code",
   "execution_count": null,
   "id": "763e9139",
   "metadata": {},
   "outputs": [],
   "source": [
    "# 2.說明這裡為何要continue，不寫會怎樣?\n",
    "for index in range(len(salary_list)):\n",
    "    if salaryList[index] >= 500000:\n",
    "        continue\n",
    "    salaryList[index] = (salaryList[index] * 1.05) + 10000"
   ]
  },
  {
   "cell_type": "code",
   "execution_count": null,
   "id": "b1037349",
   "metadata": {},
   "outputs": [],
   "source": [
    "# 請說明這四個選項的不同，以及他們代表的意思，以及用法有無錯誤\n",
    "\n",
    "for col in range(9)\n",
    "for col in range(2, 10)\n",
    "for col in range(2, 9, 1 )\n",
    "for col in range(10)"
   ]
  },
  {
   "cell_type": "code",
   "execution_count": 3,
   "id": "e342fb48",
   "metadata": {},
   "outputs": [
    {
     "name": "stdout",
     "output_type": "stream",
     "text": [
      "2\n",
      "3\n",
      "5\n",
      "7\n",
      "11\n",
      "13\n",
      "17\n",
      "19\n",
      "23\n",
      "29\n",
      "31\n",
      "37\n",
      "41\n",
      "43\n",
      "47\n",
      "53\n",
      "59\n",
      "61\n",
      "67\n",
      "71\n",
      "73\n",
      "79\n",
      "83\n",
      "89\n",
      "97\n"
     ]
    }
   ],
   "source": [
    "n = 2\n",
    "while n <= 100:\n",
    "    is_prime = True\n",
    "    for i in range(2, n):\n",
    "        if n % i == 0:\n",
    "            is_prime = False\n",
    "            break  # 只有當找到非質數時才跳出迴圈\n",
    "    if is_prime == True:\n",
    "        print(n)\n",
    "    n += 1\n"
   ]
  },
  {
   "cell_type": "code",
   "execution_count": null,
   "id": "48e01060",
   "metadata": {},
   "outputs": [],
   "source": [
    "# break：提前跳出整個迴圈，適用當某條件滿足時，不需繼續執行迴圈的情況。\n",
    "# continue：跳過當次迴圈剩餘部分，進入下一次迴圈，略過當次迴圈某些操作，進入下一次的迴圈執行。\n",
    "# pass：佔位符，不執行任何操作，適合用於還沒確定具體邏輯的情況下。"
   ]
  },
  {
   "cell_type": "code",
   "execution_count": null,
   "id": "e8439600",
   "metadata": {},
   "outputs": [],
   "source": [
    "pdt_no = 'sentinel' \n",
    "parts = \"\" \n",
    "\n",
    "while pdt_no != \"\":  \n",
    "    valid = False  \n",
    "    pdt_no = input(\"enter pdt number (dd-dddd): \")\n",
    "    parts = pdt_no.split('-')  \n",
    "\n",
    "    if len(parts) == 2:  \n",
    "        if len(parts[0]) == 2 and len(parts[1]) == 4:\n",
    "            if parts[0].isdigit() and parts[1].isdigit():  # 檢查兩部分是否都是數字\n",
    "                valid = True  # 如果條件都符合，則這個編號是有效的\n",
    "\n",
    "    print(valid)  # 顯示編號有效性 (True/False)\n",
    "    \n",
    "    if valid:\n",
    "    print(f\"Valid product number: {pdt_no}\")"
   ]
  },
  {
   "cell_type": "code",
   "execution_count": null,
   "id": "cd50d394",
   "metadata": {},
   "outputs": [],
   "source": [
    "for row in range(1, 6):\n",
    "    star_str = \"\"  # 初始化每一行的 star_str\n",
    "    for colum in range(1, 5): #迴圈星星數量\n",
    "        if row % 2 != 0:  # 如果行數的星星是奇數\n",
    "            star_str += \"*\"  # 累加星號\n",
    "        else:  # 如果行數是偶數\n",
    "            star_str = \"*\"  # 單個星號覆蓋\n",
    "    print(star_str)  # 打印這一行的結果"
   ]
  },
  {
   "cell_type": "code",
   "execution_count": null,
   "id": "7c8922e7",
   "metadata": {},
   "outputs": [],
   "source": [
    "nlist = [0, 1, 2, 3, 4, 5, 6, 7, 8, 9]\n",
    "index = 0\n",
    "while index < 10:\n",
    "    print(nlist[index])\n",
    "    if nlist[index] == 4:\n",
    "        break\n",
    "    index += 1"
   ]
  },
  {
   "cell_type": "code",
   "execution_count": 8,
   "id": "88551bd8",
   "metadata": {},
   "outputs": [
    {
     "name": "stdout",
     "output_type": "stream",
     "text": [
      "enter your namejepgjep\n",
      "enter your score99\n",
      "enter your score-1\n",
      "jepgjep             , your average is  99.00\n"
     ]
    }
   ],
   "source": [
    "# 三、執行輸出和輸入操作\n",
    "\n",
    "name = input(\"enter your name\")\n",
    "score = count = sum = 0\n",
    "while (score != -1):\n",
    "    score = int(input(\"enter your score\"))\n",
    "    if score == -1:\n",
    "        break\n",
    "    sum += score\n",
    "    count += 1\n",
    "average = sum / count\n",
    "print(\"%-20s, your average is %6.2f\"%(name, average))\n",
    "# print(f\"{name:<20}, your average is {average:6.2f}\") fstring寫法"
   ]
  },
  {
   "cell_type": "code",
   "execution_count": 9,
   "id": "77246456",
   "metadata": {},
   "outputs": [],
   "source": [
    "def print_table(file):\n",
    "    data = open(file, 'r')\n",
    "    for record in data:\n",
    "        fields = record.split(\",\")\n",
    "print(\"{0:10} {1:10} {2:7.2f}\".format(fields[0], eval(fields[1]), eval(fields[2])))\n",
    "\n",
    "\n",
    "\n",
    "1. **`{0:10}`**：將 `fields[0]` 的字串放入寬度 10 的欄位中。\n",
    "2. **`{1:10}`**：將 `eval(fields[1])` 的數值放入寬度 10 的欄位中。\n",
    "3. **`{2:7.2f}`**：將 `eval(fields[2])` 的浮點數值放入寬度 7 的欄位中，並保留 2 位小數。\n",
    "4. **`eval()`**：用來將字串表示的數字轉換為可計算的數字，並在格式化時使用。\n",
    "\n",
    "這段程式碼主要用於格式化輸出數據，根據每個欄位的值調整輸出格式。"
   ]
  },
  {
   "cell_type": "code",
   "execution_count": null,
   "id": "cf95ba48",
   "metadata": {},
   "outputs": [],
   "source": [
    "import os\n",
    "if os.path.isfile('theFile.txt')\n",
    "    file = open('theFile.txt')\n",
    "    print(file.read())\n",
    "    file.close\n",
    "file = open('theFile.txt', 'a')\n",
    "file.write(\"end of file\")\n",
    "file.close()"
   ]
  },
  {
   "cell_type": "code",
   "execution_count": 10,
   "id": "d5d52afa",
   "metadata": {},
   "outputs": [
    {
     "name": "stdout",
     "output_type": "stream",
     "text": [
      "10\n",
      "40\n",
      "120\n"
     ]
    }
   ],
   "source": [
    "p = 2\n",
    "n = 5\n",
    "while n != 0:\n",
    "    p *= n\n",
    "    print(p)\n",
    "    n -= 1\n",
    "    if n == 2 :break"
   ]
  },
  {
   "cell_type": "code",
   "execution_count": 12,
   "id": "d6b41ca7",
   "metadata": {},
   "outputs": [
    {
     "name": "stdout",
     "output_type": "stream",
     "text": [
      "how many kms you run this week1000\n",
      "what's your name?hihi\n",
      "hihi you burn out 80000 calories\n"
     ]
    }
   ],
   "source": [
    "# 四、文件和結構代碼\n",
    "def get_name():\n",
    "    name = input(\"what's your name?\")\n",
    "    return name\n",
    "\n",
    "def calc_calories(kms, calories_per_km):\n",
    "    calories = kms * calories_per_km\n",
    "    return calories\n",
    "\n",
    "distance = int(input(\"how many kms you run this week\"))\n",
    "burn_rate = 80\n",
    "runner = get_name()\n",
    "calories_burned = calc_calories(distance, burn_rate)\n",
    "print(runner, \"you burn out\", calories_burned, \"calories\")"
   ]
  },
  {
   "cell_type": "code",
   "execution_count": null,
   "id": "b4c907c5",
   "metadata": {},
   "outputs": [],
   "source": [
    "def add_score(score, plus, points):\n",
    "    if plus == True:\n",
    "        points = points*2\n",
    "    score = score + points\n",
    "    return score\n",
    "\n",
    "points = 5\n",
    "score = 10\n",
    "new_score = add_score(score, True, points)"
   ]
  },
  {
   "cell_type": "code",
   "execution_count": null,
   "id": "14a7fdd6",
   "metadata": {},
   "outputs": [],
   "source": [
    "# 這裡的%6.2f代表什麼意思?\n",
    "\n",
    "name = input(\"please input your name\")\n",
    "score = count = 0\n",
    "while (score != -1):\n",
    "    score = int(input(\"enter your score, -1 for done\"))\n",
    "    if score == -1:\n",
    "        break\n",
    "    sum += score\n",
    "    count += 1\n",
    "    average = sum / count\n",
    "    print(\"%-20s, your average is %6.2f\"%(name, average))\n",
    "    \n",
    "    \n",
    "    \n",
    "# \"%6.2f\" 可以確保浮點數 average 在顯示時總是保留兩位元小數，並且佔據至少6個字元的寬度"
   ]
  },
  {
   "cell_type": "code",
   "execution_count": 2,
   "id": "134fcc77",
   "metadata": {},
   "outputs": [],
   "source": [
    "# {0:10}代表什麼意思?\n",
    "print(\"{0:10}{1:5.1f}{2:8.2f}\".format(fields[0], eval(fields[1]), eval(fields[2])))\n",
    "\n",
    "\n",
    "\n",
    "# 。0 是參數的索引，表示第一個參數。\n",
    "# 。10 是格式化字串的最小寬度，這意味著內容將佔用至少10個字元的寬度，右對齊。\n",
    "# 。{} 是字串格式化的預留位置，用於表示要插入的變數的位置和格式。"
   ]
  },
  {
   "cell_type": "code",
   "execution_count": null,
   "id": "7e720910",
   "metadata": {},
   "outputs": [],
   "source": [
    "# print('\"' +product + '\", ' + qty)為什麼寫'\"'?代表意思是?\n",
    "\n",
    "product = input(\"enter1232\")\n",
    "qty = input(\"enter1232\")\n",
    "print('\"' +product + '\", ' + qty)\n",
    "\n",
    "\n",
    "\n",
    "\n",
    "'\"'：這是字元 \"，用來在輸出中顯示雙引號，包圍 product 的內容。\n",
    "+ product +：將變數 product 的值與其他部分進行連接。\n",
    "'\", '：這是逗號和空格，連接在 product 之後，用來將兩個變數分開。\n",
    "+ qty：將變數 qty 的值添加到最終的輸出結果中。"
   ]
  },
  {
   "cell_type": "code",
   "execution_count": null,
   "id": "bfb89c61",
   "metadata": {},
   "outputs": [],
   "source": [
    "sum = count = 0\n",
    "average = 0.0\n",
    "\n",
    "while True:\n",
    "#     rating = float(input(\"enter next rating (1-5), -1 for done: \"))  為何這裡要用float?\n",
    "    if rating == -1:\n",
    "        break\n",
    "    sum += rating\n",
    "    count += 1\n",
    "    average = float(sum / count)\n",
    "    print(\"Current average: \", format(average, '.2f')) \n",
    "\n",
    "print(\"Final average rating: \", format(average, '.2f')) "
   ]
  },
  {
   "cell_type": "code",
   "execution_count": null,
   "id": "b649a3a9",
   "metadata": {},
   "outputs": [],
   "source": [
    "python中的註解符號有哪幾種?\n",
    "# \n",
    "\n",
    "***  \n",
    "***"
   ]
  },
  {
   "cell_type": "code",
   "execution_count": null,
   "id": "2c3d5e53",
   "metadata": {},
   "outputs": [],
   "source": [
    "模式\t描述\t文件不存在时\t           指针初始位置\t文件存在时的行为\t主要用途\n",
    "r\t只读模式\t报错\t                开头\t       读取现有内容    \t仅读取文件\n",
    "r+\t读写模式\t报错\t                开头\t       读写现有内容   \t读取和覆盖现有内容\n",
    "w\t只写模式\t创建新文件\t         开头\t            清空内容    \t 写新内容，覆盖原内容\n",
    "w+\t读写模式，清空文件\t创建新文件\t 开头\t        清空并写读新内容    \t写新内容并读取，覆盖原内容\n",
    "a\t追加模式\t创建新文件\t         末尾\t        添加到现有内容末尾    \t在文件末尾追加内容\n",
    "a+\t追加和读取模式\t创建新文件\t       末尾        \t添加并读取现有内容   \t在文件末尾追加内容并读取文件\n",
    "\n"
   ]
  },
  {
   "cell_type": "code",
   "execution_count": null,
   "id": "6d801ee1",
   "metadata": {},
   "outputs": [],
   "source": [
    "# 請解釋下行意思\n",
    "open('theFile.txt', 'a')"
   ]
  },
  {
   "cell_type": "code",
   "execution_count": 17,
   "id": "1f2cf97d",
   "metadata": {},
   "outputs": [
    {
     "name": "stdout",
     "output_type": "stream",
     "text": [
      "enter the first number5\n",
      "enter the second number 5\n",
      "the peoduct is:25\n"
     ]
    }
   ],
   "source": [
    "# 五 執行疑難排解和錯誤處理\n",
    "def calc_prdt(a, b):\n",
    "    return a * b\n",
    "num1 = int(input(\"enter the first number\"))\n",
    "num2 = int(input(\"enter the second number \"))\n",
    "result = calc_prdt(num1, num2)\n",
    "print(\"the peoduct is: \" + str(result))"
   ]
  },
  {
   "cell_type": "code",
   "execution_count": null,
   "id": "f6efeebd",
   "metadata": {},
   "outputs": [],
   "source": [
    "# 六 使用模組和工具執行操作\n",
    "請介紹range、randrange和randiant、random.choice和random.shuffle\n",
    "並說明random.randrange(11, 21, 1)和random.randiant(11, 20)結果相同?\n",
    "\n",
    "range()\n",
    "range(start, stop, step)\n",
    "start: 序列開始的數字（包含）。\n",
    "stop: 序列結束的數字（不包含）。\n",
    "step: 每次遞增或遞減的步長。\n",
    "\n",
    "random.randrange\n",
    "random.randrange(start, stop, step)\n",
    "start: 選取的開始數字（包含）。\n",
    "stop: 選取的結束數字（不包含）。\n",
    "step: 每次跳過的數量。\n",
    "    \n",
    "random.randint()\n",
    "a: 隨機數的最小值（包含）。\n",
    "b: 隨機數的最大值（包含）。\n",
    "\n",
    "\n",
    "\n",
    "\n",
    "\n",
    "以下涵式在做些什麼?\n",
    "math.fabs(x)\n",
    "math.floor(x)\n",
    "math.fmod(x)\n",
    "math.ceil(x)\n",
    "math.frexp(x)\n",
    "\n",
    "\n",
    "函数\t描述\t示例结果\n",
    "math.fabs(x)\t返回x的绝对值，始终为浮点数。\tmath.fabs(-10.5) -> 10.5\n",
    "math.floor(x)\t返回不大于x的最大整数，即向下取整。\tmath.floor(3.7) -> 3\n",
    "math.fmod(x, y)\t返回x除以y的余数，餘數等於多少就是多少比%更精確。\tmath.fmod(20.5, 4.2) -> 3.7\n",
    "math.ceil(x)\t返回不小于x的最小整数，即向上取整。\tmath.ceil(3.2) -> 4\n",
    "math.frexp(x)\t用来将一个浮点数分解成一个二进制的尾数和一个指数的方法。将x分解成m * 2**e，m在[0.5, 1)之间，e为整数指数。\tmath.frexp(8.0) -> 0.5, 4"
   ]
  },
  {
   "cell_type": "code",
   "execution_count": 19,
   "id": "5307267e",
   "metadata": {},
   "outputs": [
    {
     "name": "stdout",
     "output_type": "stream",
     "text": [
      "fitness class schedul\n",
      "today's classes: \n",
      "yoga\n",
      "pilates\n",
      "cardio\n",
      "strength training\n"
     ]
    }
   ],
   "source": [
    "import datetime\n",
    "daily_schedule = [\"yoga\", \"pilates\", \"cardio\", \"strength training\"]\n",
    "weekend_schedule = [\"hiking\", \"swimming\", \"cycling\"]\n",
    "now = datetime.datetime.now()\n",
    "today = now.strftime(\"%A\")\n",
    "print(\"Fitness class schedule\")\n",
    "\n",
    "if today in [\"Saturday\", \"Sunday\"]:\n",
    "    print(\"Today's weekend class: \")\n",
    "    for i in weekend_schedule:\n",
    "        print(i)\n",
    "else:\n",
    "    print(\"Today's classes: \")\n",
    "    for i in daily_schedule:\n",
    "        print(i)\n",
    "    daysLeft = 6 - now.weekday()  # 計算到星期天還有幾天\n"
   ]
  },
  {
   "cell_type": "code",
   "execution_count": null,
   "id": "9e4235db",
   "metadata": {},
   "outputs": [],
   "source": [
    "在 Python 中，strftime() 函數用於將 datetime 物件格式化為字串，通過使用格式化符號（如 \"%A\"）來表示特定的日期或時間元素。\n",
    "這些符號可以控制輸出的格式。這裡我列出了一些常用的格式符號，以及它們對應的日期或時間部分：\n",
    "\n",
    "常見的 strftime 格式符號\n",
    "\n",
    "格式符號\t描述\t範例輸出\n",
    "%A\t星期的全名\tSunday\n",
    "%a\t星期的簡寫名\tSun\n",
    "%B\t月份的全名\tSeptember\n",
    "%b\t月份的簡寫名\tSep\n",
    "%d\t月中的某一天，兩位數字（01-31）\t24\n",
    "%m\t月份（01-12）\t09\n",
    "%Y\t年份，四位數\t2024\n",
    "%y\t年份，兩位數（00-99）\t24\n",
    "%H\t24小時制中的小時（00-23）\t14\n",
    "%I\t12小時制中的小時（01-12）\t02\n",
    "%p\tAM 或 PM\tPM\n",
    "%M\t分鐘（00-59）\t30\n",
    "%S\t秒數（00-59）\t45"
   ]
  },
  {
   "cell_type": "code",
   "execution_count": null,
   "id": "ec649857",
   "metadata": {},
   "outputs": [],
   "source": [
    "os.path.exists(path) 用來檢查路徑是否存在，無論該路徑指向的是檔案還是目錄。\n",
    "os.path.isfile(path) 用來檢查路徑是否存在並且是檔案。"
   ]
  },
  {
   "cell_type": "code",
   "execution_count": 8,
   "id": "a6507bc8",
   "metadata": {},
   "outputs": [
    {
     "name": "stdout",
     "output_type": "stream",
     "text": [
      "enter a interger5\n",
      "thank you, your number squard is: 25\n"
     ]
    }
   ],
   "source": [
    "# Errors and Exceptions1.1\n",
    "try: \n",
    "    for i in ['a', 'b', 'c']:\n",
    "        print(i**2)\n",
    "except:\n",
    "    print(\"error occurred!\")\n",
    "\n",
    "# Errors and Exceptions1.2\n",
    "x = 5\n",
    "y = 0\n",
    "try:\n",
    "    z = x/y\n",
    "except ZeroDivisionError:\n",
    "    print(\"division by zero!\")\n",
    "finally:\n",
    "    print(\"all done\")\n",
    "\n",
    "    \n",
    "# Errors and Exceptions1.3\n",
    "def ask():\n",
    "    while True:\n",
    "        try:\n",
    "            num = int(input(\"enter a interger\"))\n",
    "        except:\n",
    "            print(\"an error occurd please try again!\")\n",
    "            continue\n",
    "        else:\n",
    "            break\n",
    "        \n",
    "    print(\"thank you, your number squard is:\", num**2)\n",
    "\n",
    "ask()\n",
    "        "
   ]
  },
  {
   "cell_type": "code",
   "execution_count": null,
   "id": "77f94a44",
   "metadata": {},
   "outputs": [],
   "source": [
    "# 其他\n",
    "\n",
    "if __name__ == \"__main__\": 就是用來區分「我是直接執行這個檔案」還是「我是從其他檔案被導入」。這樣做有幾個好處：\n",
    "\n",
    "1.避免副作用：當這個檔案被其他檔案導入時，只有 if __name__ == \"__main__\": 之外的程式碼會被執行，這樣可以避免在導入時無意間執行一些程式碼。\n",
    "2.寫測試程式碼：你可以在 if __name__ == \"__main__\": 裡面放一些測試程式碼，只有在你直接執行這個檔案時才會執行它們。\n",
    "3. 最後的簡單理解\n",
    "3.1直接執行程式：__name__ 是 \"__main__\"，if 裡的程式碼會執行。\n",
    "3.2當作模組導入：__name__ 是模組名字，if 裡的程式碼不會執行。\n"
   ]
  },
  {
   "cell_type": "code",
   "execution_count": null,
   "id": "677685c3",
   "metadata": {},
   "outputs": [],
   "source": []
  }
 ],
 "metadata": {
  "kernelspec": {
   "display_name": "Python 3 (ipykernel)",
   "language": "python",
   "name": "python3"
  },
  "language_info": {
   "codemirror_mode": {
    "name": "ipython",
    "version": 3
   },
   "file_extension": ".py",
   "mimetype": "text/x-python",
   "name": "python",
   "nbconvert_exporter": "python",
   "pygments_lexer": "ipython3",
   "version": "3.11.5"
  }
 },
 "nbformat": 4,
 "nbformat_minor": 5
}
