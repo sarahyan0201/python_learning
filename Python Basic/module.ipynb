{
 "cells": [
  {
   "cell_type": "code",
   "execution_count": null,
   "id": "37cdadda",
   "metadata": {},
   "outputs": [],
   "source": [
    "import random as r\n",
    "# python 裡面有很多module(模組)，此模組(random)常見函式(function)如randint、choice\n",
    "# 覺得模組太長可以改名，書寫時變成r.randint(參數)\n",
    "\n",
    "from random import*\n",
    "# 利用*將模組內可用的函式全部下載\n",
    "# 一旦下載完，使用函式就可以直接randint()，無須random.randint()\n",
    "\n",
    "from random import randiant as rt\n",
    "# 模組與旗下函式可以合併別名，變成rt(參數)"
   ]
  },
  {
   "cell_type": "code",
   "execution_count": 38,
   "id": "bfa07226",
   "metadata": {},
   "outputs": [
    {
     "name": "stdout",
     "output_type": "stream",
     "text": [
      "2\n",
      "0.4807608583116404\n",
      "6.994203397400886\n",
      "2\n",
      "2\n",
      "['ab', 'bc', 'cd']\n"
     ]
    },
    {
     "data": {
      "text/plain": [
       "['3', '6', '2']"
      ]
     },
     "execution_count": 38,
     "metadata": {},
     "output_type": "execute_result"
    }
   ],
   "source": [
    "import random as r \n",
    "from random import randint \n",
    "\n",
    "num1 = randint(1, 10)\n",
    "print(num1)\n",
    "# 從1-10間隨機找一個整數\n",
    "\n",
    "f1_num = r.random()\n",
    "print(f1_num)\n",
    "# 從0到1間找隨機浮點數\n",
    "\n",
    "f2_num = r.uniform(1, 10)\n",
    "print(f2_num)\n",
    "# 從1到10間找隨機浮點數\n",
    "\n",
    "num_1 = r.randrange(0, 11, 2)\n",
    "print(num1)\n",
    "# 從0到11間以2為間隔隨機出現一個數字\n",
    "\n",
    "str1 = \"123456\"\n",
    "a_str = r.choice(str1)\n",
    "print(a_str)\n",
    "# 從字串中隨機取得一個字元\n",
    "\n",
    "list1 = [\"ab\", \"bc\", \"cd\"]\n",
    "r.shuffle(list1)\n",
    "print(list1)\n",
    "# 幫陣列洗牌\n",
    "\n",
    "str2 = \"123456\"\n",
    "r.sample(str2, 3)\n",
    "# 從字串中隨機取得n個字元"
   ]
  },
  {
   "cell_type": "code",
   "execution_count": 7,
   "id": "d7abe7ca",
   "metadata": {},
   "outputs": [
    {
     "name": "stdout",
     "output_type": "stream",
     "text": [
      "choose a number from 1 tp 100:52\n",
      "computer is 57, you lose\n",
      "choose a number from 1 tp 100:55\n",
      "computer is 92, you lose\n",
      "choose a number from 1 tp 100:98\n",
      "computer is 6, you win\n"
     ]
    }
   ],
   "source": [
    "import random as r\n",
    "from random import*\n",
    "\n",
    "while True:\n",
    "    inkey = int(input(\"choose a number from 1 tp 100:\"))\n",
    "    num = r.randint(1, 101)\n",
    "    \n",
    "    if num > inkey:\n",
    "        print(f\"computer is {num}, you lose\")\n",
    "    elif num == inkey:\n",
    "        print(f\"computer is {num}, it's a tie\")\n",
    "    else:\n",
    "        print(f\"computer is {num}, you win\")\n",
    "        break"
   ]
  },
  {
   "cell_type": "code",
   "execution_count": 2,
   "id": "5c23ba63",
   "metadata": {},
   "outputs": [
    {
     "name": "stdout",
     "output_type": "stream",
     "text": [
      "the winning lottrery numbers for this draw are:[30, 43, 2, 17, 16, 14, 12]\n",
      "the special nunber of this lottery draw is:[30]\n"
     ]
    }
   ],
   "source": [
    "import random as r\n",
    "\n",
    "\n",
    "sample_1 = r.sample(range(1, 50), 7 )\n",
    "print(f\"the winning lottrery numbers for this draw are:{sample_1}\")\n",
    "\n",
    "sample_2 = r.sample(sample_1, 1)\n",
    "print(f\"the special nunber of this lottery draw is:{sample_2}\")\n",
    "\n"
   ]
  },
  {
   "cell_type": "code",
   "execution_count": 9,
   "id": "cf0e7bc5",
   "metadata": {},
   "outputs": [
    {
     "name": "stdout",
     "output_type": "stream",
     "text": [
      "the winning lottery numbers for this draw are:[46, 23, 24, 19, 8, 18]\n",
      "46, 23, 24, 19, 8, 18\n",
      "the special nunber of this lottery draw is:2\n"
     ]
    }
   ],
   "source": [
    "import random as r\n",
    "\n",
    "sample_1 = r.sample(range(1, 50), 7 )\n",
    "special = sample_1.pop()\n",
    "print(f\"the winning lottery numbers for this draw are:{sample_1}\")\n",
    "\n",
    "for i in range(6):\n",
    "    if  i == 5:\n",
    "        print(str(sample_1[i]))\n",
    "    else:\n",
    "        print(str(sample_1[i]), end = \", \")\n",
    "print(\"the special nunber of this lottery draw is:\" + str(special))"
   ]
  },
  {
   "cell_type": "code",
   "execution_count": 17,
   "id": "02bdb685",
   "metadata": {},
   "outputs": [
    {
     "name": "stdout",
     "output_type": "stream",
     "text": [
      "1724385627.4400187\n",
      "2024\n",
      "2024\n",
      "wait for 2 second and then print\n"
     ]
    }
   ],
   "source": [
    "import time as t\n",
    "\n",
    "print(time.time())\n",
    "# python計時從1970/1/1開始，這裡表示從那天開始後過了1724383101.8278735秒\n",
    "\n",
    "time1 = t.localtime(t.time())\n",
    "print(time1.tm_year)\n",
    "print(time1[0])\n",
    "\n",
    "tim2 = t.sleep(3)\n",
    "print(\"wait for 2 second and then print\")\n",
    "\n"
   ]
  },
  {
   "cell_type": "code",
   "execution_count": 21,
   "id": "85c91f5c",
   "metadata": {},
   "outputs": [
    {
     "name": "stdout",
     "output_type": "stream",
     "text": [
      "the time taken to perform one million integer operations.0.11597320000146283sec\n"
     ]
    }
   ],
   "source": [
    "import time as t\n",
    "\n",
    "timestart = t.perf_counter()\n",
    "for i in range(0, 1000):\n",
    "    for j in range(0, 1000):\n",
    "        n = i * j\n",
    "timeend = t.perf_counter()\n",
    "\n",
    "print(\"the time taken to perform one million integer operations.\" + str(timeend-timestart) + \"sec\")"
   ]
  },
  {
   "cell_type": "code",
   "execution_count": null,
   "id": "9c8e193f",
   "metadata": {},
   "outputs": [],
   "source": [
    "import time as t\n",
    "\n",
    "time = t.localtime()"
   ]
  },
  {
   "cell_type": "code",
   "execution_count": null,
   "id": "36dca894",
   "metadata": {},
   "outputs": [],
   "source": [
    "\n",
    "import time as t\n",
    "\n",
    "time1 = t.localtime()\n",
    "\n",
    "# 判斷是上午還是下午，並計算12小時制的小時\n",
    "period = \"上午\" if time1.tm_hour < 12 else \"下午\"\n",
    "hour = time1.tm_hour if time1.tm_hour < 12 else time1.tm_hour - 12\n",
    "\n",
    "# 使用 f-string 組合字串\n",
    "show = f\"現在時刻：{period} {hour} 點 {time1.tm_min} 分 {time1.tm_sec} 秒\"\n",
    "\n",
    "print(show)"
   ]
  },
  {
   "cell_type": "code",
   "execution_count": null,
   "id": "3b37ea8b",
   "metadata": {},
   "outputs": [],
   "source": [
    "import time as t\n",
    "\n",
    "time1 = t.localtime()\n",
    "show = \"現在時刻：\"\n",
    "if time1.tm_hour < 12: \n",
    "    show += \"上午 \"\n",
    "    hour = time1.tm_hour\n",
    "else:\n",
    "    show += \"下午 \"\n",
    "    hour = time1.tm_hour - 12\n",
    "show += str(hour) + \" 點 \" + str(time1.tm_min) + \" 分 \"\n",
    "show += str(time1.tm_sec) + \" 秒\"\n",
    "print(show)"
   ]
  },
  {
   "cell_type": "code",
   "execution_count": 6,
   "id": "aff58339",
   "metadata": {},
   "outputs": [
    {
     "name": "stdout",
     "output_type": "stream",
     "text": [
      "請輸入中獎者編號566\n",
      "中獎者的姓名為 可期\n",
      "共比對 1 次\n"
     ]
    }
   ],
   "source": [
    "num = [256, 731, 955, 389, 142, 645, 829, 956, 375, 566]\n",
    "name = [\"小虎\", \"中森\", \"大同\", \"美麗\", \"來多\", \"來福\", \"水品\", \"小花\", \"未來\", \"可期\"]\n",
    "\n",
    "n = len(num)-1\n",
    "isfound = False\n",
    "min = 0\n",
    "max = n\n",
    "c = 0\n",
    "\n",
    "for i in range(0, n):\n",
    "    for j in range(0, n-i):\n",
    "        if (num[j] > num[j+1]):\n",
    "            num[j], num[j+1] = num[j+1], num[j]\n",
    "            name[j], name[j+1] = name[j+1], name[j]\n",
    "\n",
    "no = int(input(\"請輸入中獎者編號\"))\n",
    "\n",
    "while(min <= max):\n",
    "    mid = int((min+max)/2)\n",
    "    c+=1\n",
    "    if (num[mid]==no):\n",
    "        isfound = True\n",
    "        break\n",
    "    \n",
    "    if (num[mid]>no):\n",
    "        max=mid-1\n",
    "    else:\n",
    "        min=mid+1\n",
    "\n",
    "if(isfound==True):\n",
    "    print(\"中獎者的姓名為\", name[mid])\n",
    "else:\n",
    "    print(\"無此中獎號碼\")\n",
    "print(\"共比對\",c , \"次\")"
   ]
  },
  {
   "cell_type": "code",
   "execution_count": 7,
   "id": "d4aa4294",
   "metadata": {},
   "outputs": [
    {
     "name": "stdout",
     "output_type": "stream",
     "text": [
      "[2, 3, 5, 1]\n"
     ]
    }
   ],
   "source": [
    "datas = [3, 5, 2, 1]\n",
    "n = len(datas)-1\n",
    "for i in range(0, n):\n",
    "    for j in range(0, n-i):\n",
    "        if(datas[j] > datas[j+1]):\n",
    "            datas[j],datas[j+1] = datas[j+1], datas[j]\n",
    "print(datas)"
   ]
  },
  {
   "cell_type": "code",
   "execution_count": 12,
   "id": "4d12ea90",
   "metadata": {},
   "outputs": [
    {
     "name": "stdout",
     "output_type": "stream",
     "text": [
      "請輸入你第1個樂透號碼91\n",
      "請輸入你第2個樂透號碼3\n",
      "請輸入你第3個樂透號碼5\n",
      "您的號碼與開獎號碼有 2 個相同，恭喜中獎\n"
     ]
    }
   ],
   "source": [
    "num = [67, 12, 9, 52, 91, 3]\n",
    "datas = []\n",
    "\n",
    "for i in range(0, 3):\n",
    "    no = int(input(\"請輸入你第\" + str(i+1) + \"個樂透號碼\"))\n",
    "    datas.append(no)\n",
    "\n",
    "n = 0\n",
    "for i in range(0, 3):\n",
    "    for j in range(len(num)):\n",
    "        if (num[j] == datas[i]):\n",
    "            n+=1\n",
    "            break\n",
    "\n",
    "if n > 0:\n",
    "    print(\"您的號碼與開獎號碼有\",n,\"個相同，恭喜中獎\")\n",
    "else:\n",
    "    print(\"下次會中獎，銘謝惠顧\")\n"
   ]
  },
  {
   "cell_type": "code",
   "execution_count": 21,
   "id": "8979b8ec",
   "metadata": {},
   "outputs": [
    {
     "name": "stdout",
     "output_type": "stream",
     "text": [
      "enter the name to check the winner: bear\n",
      "此人為樂透中獎者\n"
     ]
    }
   ],
   "source": [
    "winner = [\"david\", \"lily\", \"chiou\", \"bear\", \"shantel\", \"cynthia\"]\n",
    "enter = []\n",
    "\n",
    "enter_1 = input(\"enter the name to check the winner: \")\n",
    "enter.append(enter_1)\n",
    "\n",
    "n = 0\n",
    "for i in range(len(winner)):\n",
    "        if (winner[i] == enter[0]):\n",
    "            n+=1\n",
    "            break\n",
    "\n",
    "if n > 0:\n",
    "    print(\"此人為樂透中獎者\")\n",
    "else:\n",
    "    print(\"非樂透中獎人\")\n",
    "            "
   ]
  },
  {
   "cell_type": "code",
   "execution_count": null,
   "id": "38a9b629",
   "metadata": {},
   "outputs": [],
   "source": []
  }
 ],
 "metadata": {
  "kernelspec": {
   "display_name": "Python 3 (ipykernel)",
   "language": "python",
   "name": "python3"
  },
  "language_info": {
   "codemirror_mode": {
    "name": "ipython",
    "version": 3
   },
   "file_extension": ".py",
   "mimetype": "text/x-python",
   "name": "python",
   "nbconvert_exporter": "python",
   "pygments_lexer": "ipython3",
   "version": "3.11.5"
  }
 },
 "nbformat": 4,
 "nbformat_minor": 5
}
