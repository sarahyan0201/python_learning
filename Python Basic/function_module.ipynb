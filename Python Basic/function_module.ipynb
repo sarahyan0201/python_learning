{
 "cells": [
  {
   "cell_type": "code",
   "execution_count": 9,
   "id": "db91e134",
   "metadata": {},
   "outputs": [
    {
     "data": {
      "text/plain": [
       "9"
      ]
     },
     "execution_count": 9,
     "metadata": {},
     "output_type": "execute_result"
    }
   ],
   "source": [
    "def lesser_of_two_evens(a, b):\n",
    "    if a % 2 == 0 or b % 2 ==0:\n",
    "        return min(a, b)\n",
    "    else:\n",
    "        return max(a, b)\n",
    "    \n",
    "lesser_of_two_evens(3, 9)"
   ]
  },
  {
   "cell_type": "code",
   "execution_count": 22,
   "id": "c86bf454",
   "metadata": {},
   "outputs": [],
   "source": [
    "def animal_crackers(text):\n",
    "    wordlist = text.split()\n",
    "    return wordlist[0][0] == wordlist[1][0]\n",
    "         "
   ]
  },
  {
   "cell_type": "code",
   "execution_count": 23,
   "id": "048f2f6c",
   "metadata": {},
   "outputs": [
    {
     "data": {
      "text/plain": [
       "True"
      ]
     },
     "execution_count": 23,
     "metadata": {},
     "output_type": "execute_result"
    }
   ],
   "source": [
    "animal_crackers('Levelheaded Llama')"
   ]
  },
  {
   "cell_type": "code",
   "execution_count": 27,
   "id": "2a6b4b2a",
   "metadata": {},
   "outputs": [],
   "source": [
    "def makes_twenty(n1,n2):\n",
    "    if n1+n2 == 20:\n",
    "        return True\n",
    "    else:\n",
    "        return False"
   ]
  },
  {
   "cell_type": "code",
   "execution_count": 30,
   "id": "c5baec41",
   "metadata": {},
   "outputs": [
    {
     "data": {
      "text/plain": [
       "True"
      ]
     },
     "execution_count": 30,
     "metadata": {},
     "output_type": "execute_result"
    }
   ],
   "source": [
    "makes_twenty(20, 0)"
   ]
  },
  {
   "cell_type": "code",
   "execution_count": 45,
   "id": "c3d71cdc",
   "metadata": {},
   "outputs": [],
   "source": [
    "def old_macdonald(name):\n",
    "    if len(name) > 3:\n",
    "        return name[:3].capitalize() + name[3:].capitalize() \n",
    "    else:\n",
    "        return 'name is too short'"
   ]
  },
  {
   "cell_type": "code",
   "execution_count": 46,
   "id": "088577d4",
   "metadata": {},
   "outputs": [
    {
     "data": {
      "text/plain": [
       "'MDonald'"
      ]
     },
     "execution_count": 46,
     "metadata": {},
     "output_type": "execute_result"
    }
   ],
   "source": [
    "old_macdonald('MACDONALD')"
   ]
  },
  {
   "cell_type": "code",
   "execution_count": 52,
   "id": "7127f977",
   "metadata": {},
   "outputs": [],
   "source": [
    "def master_yoda(text):\n",
    "    return ' '.join(text.split()[::-1])"
   ]
  },
  {
   "cell_type": "code",
   "execution_count": 54,
   "id": "c303e9d0",
   "metadata": {},
   "outputs": [
    {
     "data": {
      "text/plain": [
       "'now home am I'"
      ]
     },
     "execution_count": 54,
     "metadata": {},
     "output_type": "execute_result"
    }
   ],
   "source": [
    "master_yoda('I am home now')"
   ]
  },
  {
   "cell_type": "code",
   "execution_count": 55,
   "id": "64f81309",
   "metadata": {},
   "outputs": [],
   "source": [
    "def almost_there(n):\n",
    "    return(abs(100-n) <= 10 ) or (abs(200-n) <= 10)"
   ]
  },
  {
   "cell_type": "code",
   "execution_count": 58,
   "id": "5a6beb5c",
   "metadata": {},
   "outputs": [
    {
     "data": {
      "text/plain": [
       "True"
      ]
     },
     "execution_count": 58,
     "metadata": {},
     "output_type": "execute_result"
    }
   ],
   "source": [
    "almost_there(208)"
   ]
  },
  {
   "cell_type": "code",
   "execution_count": 73,
   "id": "58f7f57c",
   "metadata": {},
   "outputs": [],
   "source": [
    "def has_33(nums):\n",
    "    for i in range(0, len(nums)-1):\n",
    "        if nums[i:i+2] == [3,3]:\n",
    "            return True\n",
    "\n",
    "    return False"
   ]
  },
  {
   "cell_type": "code",
   "execution_count": 74,
   "id": "029b0b11",
   "metadata": {},
   "outputs": [
    {
     "data": {
      "text/plain": [
       "True"
      ]
     },
     "execution_count": 74,
     "metadata": {},
     "output_type": "execute_result"
    }
   ],
   "source": [
    "has_33([1, 2, 3, 3, 5])"
   ]
  },
  {
   "cell_type": "code",
   "execution_count": 80,
   "id": "28a68208",
   "metadata": {},
   "outputs": [],
   "source": [
    "def paper_doll(text):\n",
    "    result = ''\n",
    "    for letter in text:\n",
    "        triple_letter = letter*3\n",
    "        result += triple_letter\n",
    "    return result\n"
   ]
  },
  {
   "cell_type": "code",
   "execution_count": 81,
   "id": "5be130ad",
   "metadata": {},
   "outputs": [
    {
     "data": {
      "text/plain": [
       "'hhheeellllllooo'"
      ]
     },
     "execution_count": 81,
     "metadata": {},
     "output_type": "execute_result"
    }
   ],
   "source": [
    "paper_doll('hello')"
   ]
  },
  {
   "cell_type": "code",
   "execution_count": 82,
   "id": "83d478dd",
   "metadata": {},
   "outputs": [],
   "source": [
    "def blackjack(a,b,c):\n",
    "    if sum((a,b,c)) == 21:\n",
    "        return sum(a,b,c)\n",
    "    elif sum((a,b,c)) > 21 and 11 in (a,b,c):\n",
    "        return sum((a,b,c))-10\n",
    "    else:\n",
    "        return 'BUST'"
   ]
  },
  {
   "cell_type": "code",
   "execution_count": 83,
   "id": "c0de0e49",
   "metadata": {},
   "outputs": [
    {
     "data": {
      "text/plain": [
       "12"
      ]
     },
     "execution_count": 83,
     "metadata": {},
     "output_type": "execute_result"
    }
   ],
   "source": [
    "blackjack(11,1,10)"
   ]
  },
  {
   "cell_type": "code",
   "execution_count": 99,
   "id": "50d78cd0",
   "metadata": {},
   "outputs": [],
   "source": [
    "def summer_69(arr):\n",
    "    total = 0\n",
    "    add = True\n",
    "    for num in arr: \n",
    "        if add:\n",
    "            if num == 6:\n",
    "                add = False\n",
    "            else:\n",
    "                total += num\n",
    "        else:\n",
    "            if num == 9:\n",
    "                add =True\n",
    "    return total"
   ]
  },
  {
   "cell_type": "code",
   "execution_count": 105,
   "id": "1c6babb7",
   "metadata": {},
   "outputs": [
    {
     "data": {
      "text/plain": [
       "5"
      ]
     },
     "execution_count": 105,
     "metadata": {},
     "output_type": "execute_result"
    }
   ],
   "source": [
    "summer_69([2,3,6,8,8,9])"
   ]
  },
  {
   "cell_type": "code",
   "execution_count": 108,
   "id": "d2b12781",
   "metadata": {},
   "outputs": [],
   "source": [
    "def spy_game(nums):\n",
    "    code = [0, 0, 7, 'x']\n",
    "    for num in nums:\n",
    "        if num == code[0]:\n",
    "            code.pop(0)\n",
    "    return len(code) == 1"
   ]
  },
  {
   "cell_type": "code",
   "execution_count": 113,
   "id": "3b16fde0",
   "metadata": {},
   "outputs": [
    {
     "data": {
      "text/plain": [
       "True"
      ]
     },
     "execution_count": 113,
     "metadata": {},
     "output_type": "execute_result"
    }
   ],
   "source": [
    " spy_game([1,0,2,4,0,5,7])\n"
   ]
  },
  {
   "cell_type": "code",
   "execution_count": 118,
   "id": "d8a7894f",
   "metadata": {},
   "outputs": [],
   "source": [
    "def vol(rad):\n",
    "    return (4/3)*(3.14)*(rad**3)"
   ]
  },
  {
   "cell_type": "code",
   "execution_count": 119,
   "id": "2ed1715b",
   "metadata": {},
   "outputs": [
    {
     "data": {
      "text/plain": [
       "33.49333333333333"
      ]
     },
     "execution_count": 119,
     "metadata": {},
     "output_type": "execute_result"
    }
   ],
   "source": [
    "vol(2)"
   ]
  },
  {
   "cell_type": "code",
   "execution_count": 127,
   "id": "bd1bbc92",
   "metadata": {},
   "outputs": [],
   "source": [
    "def print_big(letter):\n",
    "    patterns = {1:'  *  ', 2:' * * ', 3:'*   *', 4:'*****', 5:'**** ', 6:'   * ', 7:' *   ', 8:'*   * ', 9:'*    '}\n",
    "    alphabet = {'A':[1,2,4,3,3], 'B':[5,3,5,3,5], 'C':[4,9,9,9,4], 'D':[5,3,3,3,5], 'E':[4,9,4,9,4]}\n",
    "    for pattern in alphabet[letter.upper()] :\n",
    "        print(patterns[pattern])"
   ]
  },
  {
   "cell_type": "code",
   "execution_count": 128,
   "id": "60732e94",
   "metadata": {},
   "outputs": [
    {
     "name": "stdout",
     "output_type": "stream",
     "text": [
      "  *  \n",
      " * * \n",
      "*****\n",
      "*   *\n",
      "*   *\n"
     ]
    }
   ],
   "source": [
    "print_big('A')"
   ]
  },
  {
   "cell_type": "code",
   "execution_count": 134,
   "id": "c11b1d07",
   "metadata": {},
   "outputs": [],
   "source": [
    "def ran_check(num, low, high):\n",
    "    if num in range(low, high+1):\n",
    "        print(f\"{num}is in the range between {low} and {high}\")\n",
    "    else:\n",
    "        print(\"this is out of range\")"
   ]
  },
  {
   "cell_type": "code",
   "execution_count": 140,
   "id": "7743b190",
   "metadata": {},
   "outputs": [
    {
     "name": "stdout",
     "output_type": "stream",
     "text": [
      "5is in the range between 2 and 9\n"
     ]
    }
   ],
   "source": [
    "ran_check(5,2,9)"
   ]
  },
  {
   "cell_type": "code",
   "execution_count": 150,
   "id": "2e496ffc",
   "metadata": {},
   "outputs": [],
   "source": [
    "def up_low(s):\n",
    "    d = {\"upper\":0, \"lower\":0}\n",
    "    for c in s:\n",
    "        if c.isupper():\n",
    "            d[\"upper\"] += 1\n",
    "            ##上行程式碼的意思是將字典 d 中鍵 \"upper\" 對應的值加 1。這是一種標準的訪問和修改字典值的方式。\n",
    "        elif c.islower():\n",
    "            d[\"lower\"] += 1\n",
    "        else:\n",
    "            pass\n",
    "    print(\"Original String : \", s)\n",
    "    print(\"Upper case characters : \", d[\"upper\"])\n",
    "    print(\"Lower case Characters : \", d[\"lower\"])\n",
    "                \n",
    "        "
   ]
  },
  {
   "cell_type": "code",
   "execution_count": 154,
   "id": "72991838",
   "metadata": {},
   "outputs": [
    {
     "name": "stdout",
     "output_type": "stream",
     "text": [
      "Original String :  Hello Mr. Rogers, how are you this fine Tuesday?\n",
      "Upper case characters :  4\n",
      "Lower case Characters :  33\n"
     ]
    }
   ],
   "source": [
    "s = 'Hello Mr. Rogers, how are you this fine Tuesday?'\n",
    "up_low(s)"
   ]
  },
  {
   "cell_type": "code",
   "execution_count": 163,
   "id": "55207d44",
   "metadata": {},
   "outputs": [],
   "source": [
    "def unique_list(lst):\n",
    "    x = []\n",
    "    for a in lst:\n",
    "        if a not in x:\n",
    "            x.append(a)\n",
    "    return x\n",
    "    "
   ]
  },
  {
   "cell_type": "code",
   "execution_count": 164,
   "id": "ad3abe2d",
   "metadata": {},
   "outputs": [
    {
     "data": {
      "text/plain": [
       "[1, 2, 3, 4, 5]"
      ]
     },
     "execution_count": 164,
     "metadata": {},
     "output_type": "execute_result"
    }
   ],
   "source": [
    "unique_list([1,1,1,1,2,2,3,3,3,3,4,5])"
   ]
  },
  {
   "cell_type": "code",
   "execution_count": 171,
   "id": "945882f5",
   "metadata": {},
   "outputs": [
    {
     "name": "stdout",
     "output_type": "stream",
     "text": [
      "-24\n"
     ]
    }
   ],
   "source": [
    "import math\n",
    "\n",
    "def multiply():\n",
    "    numbers = [1,2,3,-4]\n",
    "    result = math.prod(numbers)\n",
    "    print(result)\n",
    "    \n",
    "multiply()\n"
   ]
  },
  {
   "cell_type": "code",
   "execution_count": 174,
   "id": "610401b7",
   "metadata": {},
   "outputs": [
    {
     "name": "stdout",
     "output_type": "stream",
     "text": [
      "-24\n"
     ]
    }
   ],
   "source": [
    "def multiply(numbers):\n",
    "    p = 1\n",
    "    for i in numbers:\n",
    "        p *= i\n",
    "    return p\n",
    "\n",
    "numbers = [1,2,3,-4]\n",
    "result = multiply(numbers)\n",
    "print(result)\n"
   ]
  },
  {
   "cell_type": "code",
   "execution_count": 2,
   "id": "cd67bfcb",
   "metadata": {},
   "outputs": [
    {
     "name": "stdout",
     "output_type": "stream",
     "text": [
      "yes\n"
     ]
    }
   ],
   "source": [
    "def palindrome(s):\n",
    "    return s == s[::-1]\n",
    "        \n",
    "s = 'helleh'\n",
    "ans = palindrome(s)\n",
    "if ans:\n",
    "    print(\"yes\")\n",
    "else:\n",
    "    print(\"no\")"
   ]
  },
  {
   "cell_type": "code",
   "execution_count": 10,
   "id": "bd62f2c8",
   "metadata": {},
   "outputs": [
    {
     "name": "stdout",
     "output_type": "stream",
     "text": [
      "yes\n"
     ]
    },
    {
     "data": {
      "text/plain": [
       "'helleh'"
      ]
     },
     "execution_count": 10,
     "metadata": {},
     "output_type": "execute_result"
    }
   ],
   "source": [
    "\n",
    "def palidrome(s):\n",
    "    r = \"\"\n",
    "    for i in s:\n",
    "        r = i+r\n",
    "    if (r == s):\n",
    "        print(\"yes\")\n",
    "    else:\n",
    "        print(\"no\")\n",
    "    return s\n",
    "\n",
    "s = 'helleh'\n",
    "palidrome(s)\n",
    "\n"
   ]
  },
  {
   "cell_type": "code",
   "execution_count": 18,
   "id": "4acaca8d",
   "metadata": {},
   "outputs": [
    {
     "name": "stdout",
     "output_type": "stream",
     "text": [
      "['a', 'b', 'c', 'd', 'e', 'f', 'g', 'h', 'i', 'j', 'k', 'l', 'm', 'n', 'o', 'p', 'q', 'r', 's', 't', 'u', 'v', 'w', 'x', 'y', 'z']\n"
     ]
    }
   ],
   "source": [
    "import string\n",
    "s = list(string.ascii_lowercase)\n",
    "print(s)"
   ]
  },
  {
   "cell_type": "code",
   "execution_count": 8,
   "id": "4629fa27",
   "metadata": {},
   "outputs": [],
   "source": [
    "import string\n",
    "def ispangram(strl, alphabet=string.ascii_lowercase):\n",
    "    # 創建一個字母表的集合\n",
    "    alphabet = set(alphabet)\n",
    "    \n",
    "    # 去除字串中的空格\n",
    "    strl = strl.replace(\" \", '')\n",
    "    \n",
    "    # 將字串中的所有字母轉換為小寫\n",
    "    # 假設沒有標點符號\n",
    "    strl = strl.lower()\n",
    "    \n",
    "    # 將字串中的所有唯一字母抓取為集合\n",
    "    strl = set(strl)\n",
    "    \n",
    "    # 檢查字母表集合是否與字串集合相同\n",
    "    return strl == alphabet\n"
   ]
  },
  {
   "cell_type": "code",
   "execution_count": 9,
   "id": "b554ada5",
   "metadata": {},
   "outputs": [
    {
     "data": {
      "text/plain": [
       "True"
      ]
     },
     "execution_count": 9,
     "metadata": {},
     "output_type": "execute_result"
    }
   ],
   "source": [
    "ispangram(\"The quick brown fox jumps over the lazy dog\")\n"
   ]
  },
  {
   "cell_type": "code",
   "execution_count": 6,
   "id": "eb631840",
   "metadata": {},
   "outputs": [
    {
     "name": "stdout",
     "output_type": "stream",
     "text": [
      "The area of the circle with radius 5 is: 78.5\n",
      "The circumference of the circle with radius 5 is: 31.4\n"
     ]
    }
   ],
   "source": [
    "def circle(radius):\n",
    "    area = radius * radius * 3.14\n",
    "    length = round(2 * radius * 3.14, 2)\n",
    "    return area, length\n",
    "    \n",
    "area1, length1  = circle(5)\n",
    " \n",
    "print(f\"The area of the circle with radius 5 is: {area1}\")\n",
    "print(f\"The circumference of the circle with radius 5 is: {length1}\")"
   ]
  },
  {
   "cell_type": "code",
   "execution_count": null,
   "id": "dadf1502",
   "metadata": {},
   "outputs": [],
   "source": [
    "def ctof(c):\n",
    "    f = c * 1.8 + 32\n",
    "    return f\n",
    "\n",
    "input_c = float(input(\"enter the Celsius temperature.\"))\n",
    "pirnt(\"The Fahrenheit temperature is: %5.1f\" ctof(input_c))"
   ]
  },
  {
   "cell_type": "code",
   "execution_count": null,
   "id": "89789bb7",
   "metadata": {},
   "outputs": [],
   "source": [
    "def lbof(l):\n",
    "    kg = l *2.2\n",
    "    return kg\n",
    "\n",
    "inputkg = float(input(\"enter your kg\")\n",
    "print(f\"your {inputkg} = { lbof(inputkg)}\")\n",
    "print(f\"The Fahrenheit temperature is: {ctof(input_c):5.1f}\")\n"
   ]
  },
  {
   "cell_type": "code",
   "execution_count": null,
   "id": "449f9c41",
   "metadata": {},
   "outputs": [],
   "source": []
  }
 ],
 "metadata": {
  "kernelspec": {
   "display_name": "Python 3 (ipykernel)",
   "language": "python",
   "name": "python3"
  },
  "language_info": {
   "codemirror_mode": {
    "name": "ipython",
    "version": 3
   },
   "file_extension": ".py",
   "mimetype": "text/x-python",
   "name": "python",
   "nbconvert_exporter": "python",
   "pygments_lexer": "ipython3",
   "version": "3.11.5"
  }
 },
 "nbformat": 4,
 "nbformat_minor": 5
}
