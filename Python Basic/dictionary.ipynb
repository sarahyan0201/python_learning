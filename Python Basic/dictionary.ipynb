{
 "cells": [
  {
   "cell_type": "code",
   "execution_count": 10,
   "id": "6ee7a872",
   "metadata": {},
   "outputs": [
    {
     "name": "stdout",
     "output_type": "stream",
     "text": [
      "輸入要查詢的血型b\n",
      " B 的血型血漿中有B抗體\n"
     ]
    }
   ],
   "source": [
    "dict1 = {\"A\":\"血漿中有A抗體\",\"B\":\"血漿中有B抗體\",\"AB\":\"血漿中沒有A與B抗體\",\"O\":\"血漿中有A與B抗體\"}\n",
    "\n",
    "blood_type = input(\"輸入要查詢的血型\").upper()\n",
    "\n",
    "blood = dict1.get(blood_type)\n",
    "if blood == None:\n",
    "    print(f\"沒有{blood}血型\")\n",
    "else:\n",
    "    print(f\" {blood_type} 的血型{blood}\")"
   ]
  },
  {
   "cell_type": "code",
   "execution_count": 16,
   "id": "d397e2de",
   "metadata": {},
   "outputs": [
    {
     "name": "stdout",
     "output_type": "stream",
     "text": [
      "type the weather you likeSPRING\n",
      "spring is known for it's: mild\n"
     ]
    }
   ],
   "source": [
    "dict2 = {\"spring\":\"mild\", \"summer\":\"hot\", \"fall\":\"cool\", \"winter\":\"cold\"}\n",
    "\n",
    "season = input(\"type the weather you like:\").lower()\n",
    "\n",
    "seasons = dict2.get(season)\n",
    "if season == None or season == \"\":\n",
    "    print(\"unable to display\")\n",
    "else:\n",
    "    print(f\"{season} is known for it's {seasons}\")"
   ]
  },
  {
   "cell_type": "code",
   "execution_count": 31,
   "id": "4e5db64b",
   "metadata": {},
   "outputs": [
    {
     "name": "stdout",
     "output_type": "stream",
     "text": [
      "enter the student nameroger\n",
      "enter the student's score100\n",
      "the list is: {'JEFF': 85, 'MIKE': 67, 'MAY': 68, 'LINDA': 87, 'ROGER': 100}\n"
     ]
    }
   ],
   "source": [
    "dict3 = {\"JEFF\":85, \"MIKE\":67, \"MAY\":68, \"LINDA\":87,}\n",
    "\n",
    "name = input(\"enter the student name:\").upper()\n",
    "\n",
    "if name in dict3:\n",
    "    print(f\"{name} 's score is: {dict3.get(name)}\")\n",
    "else:\n",
    "    score = int(input(\"enter the student's score\"))\n",
    "    dict3[name] = score\n",
    "    print(f\"the list is: {dict3}\")"
   ]
  },
  {
   "cell_type": "code",
   "execution_count": 29,
   "id": "5e3e1d27",
   "metadata": {},
   "outputs": [
    {
     "name": "stdout",
     "output_type": "stream",
     "text": [
      "enter the appliance name to check the pricecoffee_machine\n",
      "enter the appliance's price8000\n",
      "appiliance list: {'steamer': 2550, 'vacuum_cleaner': 7900, 'dehumidifier': 18800, 'coffee_machine': 8000}\n"
     ]
    }
   ],
   "source": [
    "dict4 = {\"steamer\":2550, \"vacuum_cleaner\":7900, \"dehumidifier\":18800}\n",
    "appliance = input(\"enter the appliance name to check the price\").lower()\n",
    "\n",
    "if appliance in dict4:\n",
    "    print(f\"{appliance}'s price is {dict4.get(appliance)}\")\n",
    "else:\n",
    "    price = int(input(\"enter the appliance's price\"))\n",
    "    dict4[appliance] = price\n",
    "    print(f\"appiliance list: {dict4}\")"
   ]
  },
  {
   "cell_type": "code",
   "execution_count": 4,
   "id": "9202a746",
   "metadata": {},
   "outputs": [
    {
     "name": "stdout",
     "output_type": "stream",
     "text": [
      "得到獎牌數為金牌,26\n",
      "得到獎牌數為銀牌,34\n",
      "得到獎牌數為銅牌,30\n"
     ]
    }
   ],
   "source": [
    "dict5 = {\"金牌\":26, \"銀牌\":34, \"銅牌\":30}\n",
    "list_key = list(dict5.keys())\n",
    "list_value = list(dict5.values())\n",
    "for i in range(len(list_key)):\n",
    "    print(f\"得到獎牌數為{list_key[i]},{list_value[i]}\")"
   ]
  },
  {
   "cell_type": "code",
   "execution_count": 12,
   "id": "36bdd301",
   "metadata": {},
   "outputs": [
    {
     "name": "stdout",
     "output_type": "stream",
     "text": [
      "水瓶座的出生月為: 二月生\n",
      "雙魚座的出生月為: 二月生\n",
      "雙子座的出生月為: 六月生\n",
      "處女座的出生月為: 九月生\n"
     ]
    }
   ],
   "source": [
    "dict6 = {\n",
    "    \"水瓶\":\"二月生\",\n",
    "    \"雙魚\":\"二月生\",\n",
    "    \"雙子\":\"六月生\",\n",
    "    \"處女\":\"九月生\",\n",
    "        }\n",
    "list_key = list(dict6.keys())\n",
    "list_values = list(dict6.values())\n",
    "for i in range(len(list_values)):\n",
    "    print(f\"{list_key[i]}座的出生月為: {list_values[i]}\")\n"
   ]
  },
  {
   "cell_type": "code",
   "execution_count": 25,
   "id": "4383cdb6",
   "metadata": {},
   "outputs": [
    {
     "name": "stdout",
     "output_type": "stream",
     "text": [
      "enter the week number you want to check6\n",
      "the number you querued: 6 corresponds to the english abbreviation: sat\n"
     ]
    }
   ],
   "source": [
    "dict7 = {\n",
    "    \"mon\":1,\n",
    "    \"tus\":2,\n",
    "    \"wed\":3,\n",
    "    \"thu\":4,\n",
    "    \"fri\":5,\n",
    "    \"sat\":6,\n",
    "    \"sun\":7,\n",
    "        }\n",
    "\n",
    "number = int(input(\"enter the week number you want to check\"))\n",
    "value_list = list(dict7.values())\n",
    "if number in value_list:\n",
    "    index = value_list.index(number)\n",
    "    key = list(dict7.keys())[index]\n",
    "    print(f\"the number you querued: {number} corresponds to the english abbreviation: {key}\")\n",
    "else:\n",
    "    print(f\"an error occurred during the query\")"
   ]
  },
  {
   "cell_type": "code",
   "execution_count": 33,
   "id": "c58c25bb",
   "metadata": {},
   "outputs": [
    {
     "name": "stdout",
     "output_type": "stream",
     "text": [
      "enter the number you want to query and we will translate it into chinese uppercase5\n",
      "your enter number is 5 it's chinese writing is 伍 \n"
     ]
    }
   ],
   "source": [
    "dict8 = {\n",
    "    1:\"壹\",\n",
    "    2:\"貳\",\n",
    "    3:\"參\",\n",
    "    4:\"肆\",\n",
    "    5:\"伍\",\n",
    "    6:\"陸\",\n",
    "    7:\"柒\",\n",
    "    8:\"捌\",\n",
    "    9:\"玖\",\n",
    "    0:\"零\",\n",
    "        }\n",
    "num = int(input(\"enter the number you want to query and we will translate it into chinese uppercase\"))\n",
    "if num in dict8:\n",
    "    print(f\"your enter number is {num} it's chinese writing is {dict8[num]} \")\n",
    "else:\n",
    "    print(f\"an error occured during the query\")"
   ]
  },
  {
   "cell_type": "code",
   "execution_count": 40,
   "id": "f6baa51a",
   "metadata": {},
   "outputs": [
    {
     "name": "stdout",
     "output_type": "stream",
     "text": [
      "enter the city to check the data: \n",
      "台北\n",
      "台北's data is 6\n"
     ]
    }
   ],
   "source": [
    "dict9 = {\n",
    "    \"台北\": 6,\n",
    "    \"新北\": 2,\n",
    "    \"桃園\": 5,\n",
    "    \"台中\": 8,\n",
    "    \"台南\": 3,\n",
    "    \"高雄\": 9,\n",
    "        }\n",
    "city_input = input(\"enter the city to check the data: \\n\")\n",
    "city = dict9.setdefault(city_input)\n",
    "if city is not None:\n",
    "    print(f\"{city_input}'s data is {city}\")\n",
    "else:\n",
    "    print(\"the city is not exists.\")"
   ]
  },
  {
   "cell_type": "code",
   "execution_count": 43,
   "id": "6e4fb9b0",
   "metadata": {},
   "outputs": [
    {
     "name": "stdout",
     "output_type": "stream",
     "text": [
      "dict_items([('rat', 1), ('ox', 2), ('tiger', 3), ('rabbit', 4), ('dragon', 5), ('snake', 6), ('horse', 7), ('goat', 8), ('monkey', 9), ('rooster', 10), ('dog', 11), ('pig', 12)])\n"
     ]
    }
   ],
   "source": [
    "dict01 = {\n",
    "    \"rat\":1,\n",
    "    \"ox\":2,\n",
    "    \"tiger\":3,\n",
    "    \"rabbit\":4,\n",
    "    \"dragon\":5,\n",
    "    \"snake\":6,\n",
    "    \"horse\":7,\n",
    "    \"goat\":8,\n",
    "    \"monkey\":9,\n",
    "    \"rooster\":10,\n",
    "    \"dog\":11,\n",
    "    \"pig\":12,\n",
    "        }\n",
    "item1 = dict01.items()\n",
    "print(item1)\n"
   ]
  },
  {
   "cell_type": "code",
   "execution_count": 46,
   "id": "c54cc0c6",
   "metadata": {},
   "outputs": [
    {
     "name": "stdout",
     "output_type": "stream",
     "text": [
      "7\n"
     ]
    }
   ],
   "source": [
    "dict01 = {\n",
    "    \"rat\":1,\n",
    "    \"ox\":2,\n",
    "    \"tiger\":3,\n",
    "    \"rabbit\":4,\n",
    "    \"dragon\":5,\n",
    "    \"snake\":6,\n",
    "    \"horse\":7,\n",
    "    \"goat\":8,\n",
    "    \"monkey\":9,\n",
    "    \"rooster\":10,\n",
    "    \"dog\":11,\n",
    "    \"pig\":12,\n",
    "        }\n",
    "item1 = list(dict01.items())\n",
    "print(item1[6][1])"
   ]
  },
  {
   "cell_type": "code",
   "execution_count": 65,
   "id": "612da861",
   "metadata": {},
   "outputs": [
    {
     "name": "stdout",
     "output_type": "stream",
     "text": [
      "enter the money you want to exange10000\n",
      "your ntd is 10000\n",
      " = USD:356.89\n",
      " = JPY:39793.08\n",
      " = RMB:2358.49\n"
     ]
    }
   ],
   "source": [
    "dict02 = {\n",
    "    \"USD\":28.02,\n",
    "    \"JPY\":0.2513,\n",
    "    \"RMB\":4.24,\n",
    "        }\n",
    "usd = list(dict02.values())[0]\n",
    "jpy = list(dict02.values())[1]\n",
    "rmb = list(dict02.values())[2]\n",
    "\n",
    "ntd = int(input(\"enter the money you want to exange\"))\n",
    "if ntd is not None:\n",
    "    usd_1 = round(float(ntd / usd) ,2)\n",
    "    jpy_1 = round(float(ntd / jpy) ,2)\n",
    "    rmb_1 = round(float(ntd / rmb) ,2)\n",
    "    print(f\"your ntd is {ntd}\\n = USD:{usd_1}\\n = JPY:{jpy_1}\\n = RMB:{rmb_1}\")\n"
   ]
  },
  {
   "cell_type": "code",
   "execution_count": 59,
   "id": "e73ceb9c",
   "metadata": {},
   "outputs": [
    {
     "name": "stdout",
     "output_type": "stream",
     "text": [
      "28.82\n",
      "0.2513\n",
      "4.24\n"
     ]
    }
   ],
   "source": [
    "dict02 = {\n",
    "    \"USD\":28.82,\n",
    "    \"JPY\":0.2513,\n",
    "    \"RMB\":4.24,\n",
    "        }\n",
    "usd = list(dict02.values())[0]\n",
    "jpy = list(dict02.values())[1]\n",
    "rmb = list(dict02.values())[2]\n",
    "\n",
    "print(usd)\n",
    "print(jpy)\n",
    "print(rmb)"
   ]
  },
  {
   "cell_type": "code",
   "execution_count": null,
   "id": "a6966d55",
   "metadata": {},
   "outputs": [],
   "source": []
  }
 ],
 "metadata": {
  "kernelspec": {
   "display_name": "Python 3 (ipykernel)",
   "language": "python",
   "name": "python3"
  },
  "language_info": {
   "codemirror_mode": {
    "name": "ipython",
    "version": 3
   },
   "file_extension": ".py",
   "mimetype": "text/x-python",
   "name": "python",
   "nbconvert_exporter": "python",
   "pygments_lexer": "ipython3",
   "version": "3.11.5"
  }
 },
 "nbformat": 4,
 "nbformat_minor": 5
}
