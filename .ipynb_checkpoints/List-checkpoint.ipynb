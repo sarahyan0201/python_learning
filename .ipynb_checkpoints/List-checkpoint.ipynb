{
 "cells": [
  {
   "cell_type": "code",
   "execution_count": 2,
   "id": "0d26e3d4",
   "metadata": {},
   "outputs": [
    {
     "name": "stdout",
     "output_type": "stream",
     "text": [
      "['one', 'two', 'three', 'four', 'five']\n"
     ]
    },
    {
     "data": {
      "text/plain": [
       "'three'"
      ]
     },
     "execution_count": 2,
     "metadata": {},
     "output_type": "execute_result"
    }
   ],
   "source": [
    "#indexing\n",
    "my_list = ['one','two','three','four','five']\n",
    "print(my_list)\n",
    "my_list[2]"
   ]
  },
  {
   "cell_type": "code",
   "execution_count": 3,
   "id": "90268de2",
   "metadata": {},
   "outputs": [
    {
     "name": "stdout",
     "output_type": "stream",
     "text": [
      "['one', 'two', 'three', 'four', 'five']\n",
      "['six', 'seven', 'eight']\n",
      "['one', 'two', 'three', 'four', 'five', 'six', 'seven', 'eight']\n"
     ]
    }
   ],
   "source": [
    "#slicing、connection\n",
    "my_list = ['one','two','three','four','five']\n",
    "print(my_list)\n",
    "\n",
    "#slicing\n",
    "my_list[1:]\n",
    "\n",
    "#connection\n",
    "another_list = ['six', 'seven', 'eight']\n",
    "print(another_list)\n",
    "\n",
    "new_list = my_list + another_list\n",
    "print(new_list)"
   ]
  },
  {
   "cell_type": "code",
   "execution_count": 4,
   "id": "b637c0dc",
   "metadata": {},
   "outputs": [
    {
     "name": "stdout",
     "output_type": "stream",
     "text": [
      "['one all caps', 'two', 'three', 'four', 'five']\n"
     ]
    }
   ],
   "source": [
    "#改變第0位的內容\n",
    "my_list[0] = 'one all caps' \n",
    "print(my_list)"
   ]
  },
  {
   "cell_type": "code",
   "execution_count": 5,
   "id": "4530b70f",
   "metadata": {},
   "outputs": [
    {
     "name": "stdout",
     "output_type": "stream",
     "text": [
      "['one all caps', 'two', 'three', 'four', 'five', 5.1]\n"
     ]
    }
   ],
   "source": [
    "#append函數(function)列表最後加入一個項目\n",
    "my_list.append(5.1)\n",
    "print(my_list)"
   ]
  },
  {
   "cell_type": "code",
   "execution_count": 6,
   "id": "2879fc94",
   "metadata": {},
   "outputs": [
    {
     "name": "stdout",
     "output_type": "stream",
     "text": [
      "['one all caps', 'two', 'three', 'four', 'five']\n",
      "['one all caps', 'two', 'three', 'five']\n",
      "['two', 'three', 'five']\n"
     ]
    }
   ],
   "source": [
    "#pop(function)是刪除最後一個項目\n",
    "my_list.pop()\n",
    "print(my_list)\n",
    "\n",
    "\n",
    "\n",
    "my_list.pop(3)\n",
    "print(my_list)\n",
    "\n",
    "#用pop刪除列表裡第一個項目\n",
    "my_list.pop(0)\n",
    "print(my_list)"
   ]
  },
  {
   "cell_type": "code",
   "execution_count": 20,
   "id": "95356a20",
   "metadata": {},
   "outputs": [
    {
     "name": "stdout",
     "output_type": "stream",
     "text": [
      "['c', 'b', 'a', 'g', 'f']\n",
      "['a', 'b', 'c', 'f', 'g']\n",
      "[5, 8, 1, 3, 2]\n",
      "[1, 2, 3, 5, 8]\n"
     ]
    }
   ],
   "source": [
    "#sort(function)是將列表內容按照大小排序\n",
    "list_one = ['c', 'b', 'a', 'g', 'f']\n",
    "print(list_one)\n",
    "\n",
    "list_one.sort()\n",
    "print(list_one)\n",
    "\n",
    "\n",
    "list_two = [5, 8, 1, 3, 2]\n",
    "print(list_two)\n",
    "list_two.sort()\n",
    "print(list_two)"
   ]
  },
  {
   "cell_type": "code",
   "execution_count": 21,
   "id": "b15d7dc5",
   "metadata": {},
   "outputs": [
    {
     "name": "stdout",
     "output_type": "stream",
     "text": [
      "['c', 'b', 'a', 'g', 'f']\n",
      "['f', 'g', 'a', 'b', 'c']\n",
      "[5, 8, 1, 3, 2]\n",
      "[2, 3, 1, 8, 5]\n"
     ]
    }
   ],
   "source": [
    "#reverse(function)是將列表排序反向\n",
    "list_one = ['c', 'b', 'a', 'g', 'f']\n",
    "print(list_one)\n",
    "\n",
    "list_one.reverse()\n",
    "print(list_one)\n",
    "\n",
    "\n",
    "list_two = [5, 8, 1, 3, 2]\n",
    "print(list_two)\n",
    "list_two.reverse()\n",
    "print(list_two)"
   ]
  },
  {
   "cell_type": "code",
   "execution_count": 7,
   "id": "5a5356c2",
   "metadata": {},
   "outputs": [
    {
     "name": "stdout",
     "output_type": "stream",
     "text": [
      "科目:國文-成績:85\n",
      "科目:數學-成績:79\n",
      "科目:英文-成績:93\n"
     ]
    }
   ],
   "source": [
    "subject = [\"國文\", \"數學\", \"英文\"]\n",
    "scores = [85, 79, 93]\n",
    "for i in range(len(scores)):\n",
    "        print(f\"科目:{subject[i]}-成績:{scores[i]}\")"
   ]
  },
  {
   "cell_type": "code",
   "execution_count": 10,
   "id": "2a26d961",
   "metadata": {},
   "outputs": [
    {
     "name": "stdout",
     "output_type": "stream",
     "text": [
      "['Hermione', 'Ronald']\n"
     ]
    }
   ],
   "source": [
    "name = [\"Harry\", \"Hermione\", \"Ronald\"]\n",
    "print(name[-2:])"
   ]
  },
  {
   "cell_type": "code",
   "execution_count": 14,
   "id": "a9c748db",
   "metadata": {},
   "outputs": [
    {
     "name": "stdout",
     "output_type": "stream",
     "text": [
      "編號：1  姓名：林小虎\n",
      "編號：2  姓名：王中森\n",
      "編號：3  姓名：邵木淼\n"
     ]
    }
   ],
   "source": [
    "names=[\"林小虎\",\"王中森\",\"邵木淼\"]\n",
    "i=1\n",
    "for item in names:\n",
    "    print(\"編號：%d  姓名：%s\" %(i,item))\n",
    "    i+=1"
   ]
  },
  {
   "cell_type": "code",
   "execution_count": null,
   "id": "76cc3241",
   "metadata": {},
   "outputs": [],
   "source": [
    "scores = []\n",
    "t = total = 0\n",
    "while True:\n",
    "    total = int(input(\"請輸入學生成績（輸入 -1 結束輸入）: \"))\n",
    "    if total == -1:\n",
    "        break \n",
    "    else:\n",
    "        scores.append(total)\n",
    "        print(\"共有 %d 位學生\" % (len(scores)))\n",
    "\n",
    "# 計算總成績\n",
    "for score in scores:\n",
    "    t += score\n",
    "\n",
    "# 計算平均成績\n",
    "if len(scores) > 0:  # 確保至少有一個成績才計算平均\n",
    "    average = t / len(scores)\n",
    "    print(\"本班總成績: %d 分，平均成績: %.2f 分\" % (t, average))\n",
    "else:\n",
    "    print(\"沒有輸入有效的成績。\")\n"
   ]
  },
  {
   "cell_type": "code",
   "execution_count": 13,
   "id": "347c3108",
   "metadata": {},
   "outputs": [
    {
     "name": "stdout",
     "output_type": "stream",
     "text": [
      "the1day, enter your deposit56563\n",
      "the2day, enter your deposit45469\n",
      "the3day, enter your deposit8986635\n",
      "the4day, enter your deposit4254\n",
      "the5day, enter your deposit563\n",
      "the6day, enter your deposit5563\n",
      "the7day, enter your deposit25656\n",
      "存款總額 9124703 元\n"
     ]
    }
   ],
   "source": [
    "moneys = []\n",
    "total = cash = 0\n",
    "for i in range(1, 8):\n",
    "    cash = int(input(\"the\" + str(i) + \"day, enter your deposit\"))\n",
    "    moneys.append(cash)\n",
    "                   \n",
    "for cash in moneys:\n",
    "    total += cash\n",
    "print(\"存款總額 %d 元\" % (total))  "
   ]
  },
  {
   "cell_type": "code",
   "execution_count": 24,
   "id": "1281e687",
   "metadata": {},
   "outputs": [
    {
     "name": "stdout",
     "output_type": "stream",
     "text": [
      "fruits list: ['pomelo', 'mulberry', 'cantaloupe', 'honeydew', 'starfruit', 'plum', 'wax apple', 'sugar apple']\n",
      "enter the fruit you want to deletecantaloupe\n",
      "fruits list: ['pomelo', 'mulberry', 'honeydew', 'starfruit', 'plum', 'wax apple', 'sugar apple']\n",
      "enter the fruit you want to deletestarfruit\n",
      "fruits list: ['pomelo', 'mulberry', 'honeydew', 'plum', 'wax apple', 'sugar apple']\n",
      "enter the fruit you want to deletewax apple\n",
      "fruits list: ['pomelo', 'mulberry', 'honeydew', 'plum', 'sugar apple']\n",
      "enter the fruit you want to deleteplum\n",
      "fruits list: ['pomelo', 'mulberry', 'honeydew', 'sugar apple']\n",
      "enter the fruit you want to deletesugar apple\n",
      "fruits list: ['pomelo', 'mulberry', 'honeydew']\n",
      "enter the fruit you want to delete\n"
     ]
    }
   ],
   "source": [
    "fruits = [\n",
    "    \"pomelo\", \n",
    "    \"mulberry\", \n",
    "    \"cantaloupe\", \n",
    "    \"honeydew\", \n",
    "    \"starfruit\", \n",
    "    \"plum\", \n",
    "    \"wax apple\", \n",
    "    \"sugar apple\"\n",
    "    ]\n",
    "\n",
    "while True:\n",
    "    print(\"fruits list:\", fruits)\n",
    "    fruit = input(\"enter the fruit you want to delete\")\n",
    "    if (fruit == \"\"):\n",
    "        break\n",
    "\n",
    "    n = fruits.count(fruit)\n",
    "    if (n > 0):\n",
    "        fruits.remove(fruit)\n",
    "    else:\n",
    "        print(fruit, \"is no longer in the list\")"
   ]
  },
  {
   "cell_type": "code",
   "execution_count": 29,
   "id": "2a426ed3",
   "metadata": {},
   "outputs": [
    {
     "name": "stdout",
     "output_type": "stream",
     "text": [
      "the color list: ['red', 'green', 'yellow']\n",
      "choose a color you want to deletered\n",
      "the color list: ['green', 'yellow']\n",
      "choose a color you want to deleteyellow\n",
      "the color list: ['green']\n",
      "choose a color you want to deletegreen\n",
      "the color list: []\n",
      "choose a color you want to delete\n"
     ]
    }
   ],
   "source": [
    "colors = [\"red\", \"green\", \"yellow\"]\n",
    "\n",
    "while True:\n",
    "    print(\"the color list:\", colors)\n",
    "    color = input(\"choose a color you want to delete\")\n",
    "    if (color == \"\"):\n",
    "        break\n",
    "    n = colors.count(color)\n",
    "    if n > 0 :\n",
    "        colors.remove(color)\n",
    "    else:\n",
    "        print(color, \"is no longer in the list\")"
   ]
  },
  {
   "cell_type": "code",
   "execution_count": 35,
   "id": "c157b547",
   "metadata": {},
   "outputs": [
    {
     "name": "stdout",
     "output_type": "stream",
     "text": [
      "[3, 5, 6, 7, 9, 10, 11]\n"
     ]
    }
   ],
   "source": [
    "list1 = [5, 3, 6, 7, 9, 11, 10]\n",
    "list2 = sorted(list1, reverse=False)\n",
    "print(list2)"
   ]
  },
  {
   "cell_type": "code",
   "execution_count": 43,
   "id": "e38e01b2",
   "metadata": {},
   "outputs": [
    {
     "name": "stdout",
     "output_type": "stream",
     "text": [
      "enter your score85\n",
      "enter your score56\n",
      "enter your score95\n",
      "enter your score\n",
      "count is over\n",
      "the total score is: 236\n"
     ]
    }
   ],
   "source": [
    "scores = []\n",
    "\n",
    "while True:\n",
    "    score1 = input(\"enter your score\")\n",
    "    if (score1 == \"\"):\n",
    "        print(\"count is over\")\n",
    "        break\n",
    "    else:\n",
    "        scores.append(int(score1))\n",
    "\n",
    "        total_score = 0\n",
    "for i in scores:\n",
    "        total_score += i\n",
    "print(\"the total score is:\", total_score)\n",
    "    "
   ]
  },
  {
   "cell_type": "code",
   "execution_count": 45,
   "id": "8c5a68fb",
   "metadata": {},
   "outputs": [
    {
     "name": "stdout",
     "output_type": "stream",
     "text": [
      "enter your score89\n",
      "enter your score65\n",
      "enter your score75\n",
      "enter your score68\n",
      "enter your score95\n",
      "enter your score\n",
      "count is over\n",
      "[95, 89, 75, 68, 65]\n"
     ]
    }
   ],
   "source": [
    "scores = []\n",
    "\n",
    "while True:\n",
    "    score1 = input(\"enter your score\")\n",
    "    if (score1 == \"\"):\n",
    "        print(\"count is over\")\n",
    "        break\n",
    "    else:\n",
    "        scores.append(int(score1))\n",
    "\n",
    "score2 = print(sorted(scores, reverse=True))"
   ]
  },
  {
   "cell_type": "code",
   "execution_count": 50,
   "id": "3bda7a49",
   "metadata": {},
   "outputs": [
    {
     "name": "stdout",
     "output_type": "stream",
     "text": [
      "[21, 4, 35, 1, 8, 7, 3, 6, 9]\n"
     ]
    }
   ],
   "source": [
    "nums = [21, 4, 35, 1, 8, 7, 3, 6, 9]\n",
    "even_numbers = []\n",
    "total_even = 0\n",
    "\n",
    "for i in nums:\n",
    "    if i > total_even:\n",
    "        even_numbers.append(i)\n",
    "print(even_numbers)"
   ]
  },
  {
   "cell_type": "code",
   "execution_count": 58,
   "id": "471ee0ae",
   "metadata": {},
   "outputs": [
    {
     "name": "stdout",
     "output_type": "stream",
     "text": [
      "enter a fruit you like: plum\n",
      "plum is in the 3 item \n"
     ]
    }
   ],
   "source": [
    "fruits = [\n",
    "    \"cantaloupe\",\n",
    "    \"honeydew\",\n",
    "    \"starfruit\",\n",
    "    \"plum\",\n",
    "    \"wax apple\",\n",
    "    \"sugar apple\",\n",
    "        ]\n",
    "\n",
    "user_input = input(\"enter a fruit you like: \")\n",
    "\n",
    "for fruit in fruits:\n",
    "    if fruit == user_input:\n",
    "        print(f\"{fruit} is in the {fruits.index(fruit)} item \")\n",
    "        break\n",
    "else:\n",
    "    print(f\"The fruit is not in the list.\")\n"
   ]
  },
  {
   "cell_type": "code",
   "execution_count": 61,
   "id": "6d61f401",
   "metadata": {},
   "outputs": [
    {
     "name": "stdout",
     "output_type": "stream",
     "text": [
      "輸入你的出生西元年數字:1988\n",
      "你的生肖是: 龍\n"
     ]
    }
   ],
   "source": [
    "cn_zodiac = [\"鼠\", \"牛\", \"虎\", \"兔\", \"龍\", \"蛇\", \"馬\", \"羊\", \"猴\", \"雞\", \"狗\", \"豬\",]\n",
    "years = list(range(1912, 3000))\n",
    "\n",
    "year_to_zodiac = {}\n",
    "\n",
    "for year in years:\n",
    "    zodiac_index = (year - 1912) % 12\n",
    "    year_to_zodiac[year] = cn_zodiac[zodiac_index]\n",
    "\n",
    "user_year = int(input(\"輸入你的出生西元年數字:\"))\n",
    "\n",
    "if user_year in year_to_zodiac:\n",
    "    print(f\"你的生肖是: {year_to_zodiac[user_year]}\")\n",
    "else:\n",
    "    print(\"輸入的年份不在可查詢範圍內。請輸入 1912 到 2999 之間的年份。\")\n",
    "           "
   ]
  }
 ],
 "metadata": {
  "kernelspec": {
   "display_name": "Python 3 (ipykernel)",
   "language": "python",
   "name": "python3"
  },
  "language_info": {
   "codemirror_mode": {
    "name": "ipython",
    "version": 3
   },
   "file_extension": ".py",
   "mimetype": "text/x-python",
   "name": "python",
   "nbconvert_exporter": "python",
   "pygments_lexer": "ipython3",
   "version": "3.11.5"
  }
 },
 "nbformat": 4,
 "nbformat_minor": 5
}
