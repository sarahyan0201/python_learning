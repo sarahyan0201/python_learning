{
 "cells": [
  {
   "cell_type": "code",
   "execution_count": 7,
   "id": "4e49051f",
   "metadata": {},
   "outputs": [],
   "source": [
    "import random\n",
    "suits = ('Hearts', 'Dimonds', 'spades', 'clubs')\n",
    "ranks = ('Two', 'Three', 'Four', 'Five', 'Six', 'Seven', 'Eight',\n",
    "         'Night', 'Ten', 'Jack', 'Queen', 'King', 'Ace')\n",
    "values = {'Two':2, 'Three':3, 'Four':3, 'Five':5, 'Six':6, 'Seven':7, 'Eight':8,\n",
    "         'Night':9, 'Ten':10, 'Jack':11, 'Queen':12, 'King':13, 'Ace':14}\n",
    "\n",
    "playing = True\n"
   ]
  },
  {
   "cell_type": "code",
   "execution_count": 8,
   "id": "88114fd1",
   "metadata": {},
   "outputs": [],
   "source": [
    "class Card():\n",
    "    def __init__(self, suit, rank):\n",
    "        self.suit = suit \n",
    "        self.rank = rank \n",
    "    \n",
    "    def __str__(self):\n",
    "        return f\"yor card is {self.rank} of {self.suit}\"\n",
    "\n",
    "# test 1 :check if the enter card suit and number are correct.\n",
    "# card = Card(\"two\", \"spades\")\n",
    "# print(card)"
   ]
  },
  {
   "cell_type": "code",
   "execution_count": 18,
   "id": "7cdcc4c3",
   "metadata": {},
   "outputs": [
    {
     "name": "stdout",
     "output_type": "stream",
     "text": [
      "Dealt card: yor card is Seven of spades\n",
      "remining cards in deck 51\n"
     ]
    }
   ],
   "source": [
    "import random\n",
    "\n",
    "class Deck():\n",
    "    \n",
    "    def __init__(self):\n",
    "        self.all_cards =[]\n",
    "        for suit in suits:\n",
    "            for rank in ranks:\n",
    "                self.all_cards.append(Card(suit, rank))\n",
    "    \n",
    "    def shuffle(self):\n",
    "        random.shuffle(self.all_cards)\n",
    "\n",
    "# test 2 :Check if all the cards have been shuffled.\n",
    "# deck = Deck()\n",
    "# print(\"before shuffle\",deck.all_cards[:5])\n",
    "  \n",
    "    \n",
    "# deck.shuffle()\n",
    "\n",
    "# print(\"after shuffle\",deck.all_cards[:5])\n",
    "\n",
    "\n",
    "    def deal_one(self):\n",
    "        return self.all_cards.pop()\n",
    "    \n",
    "# test 3:deal one card and display it\n",
    "# deck = Deck()\n",
    "# deck.shuffle()\n",
    "\n",
    "# dealt_card = deck.deal_one()\n",
    "# print(\"Dealt card:\", dealt_card)\n",
    "\n",
    "# # test 4:show the remaining numbers of cards\n",
    "# print(\"remining cards in deck\", len(deck.all_cards) )\n",
    "            "
   ]
  },
  {
   "cell_type": "code",
   "execution_count": null,
   "id": "d9ac33a6",
   "metadata": {},
   "outputs": [],
   "source": [
    "class Hand():\n",
    "    def __init__(self):\n",
    "        self.cards = []\n",
    "        self.value = 0\n",
    "        self.aces = 0"
   ]
  },
  {
   "cell_type": "code",
   "execution_count": null,
   "id": "9dde383e",
   "metadata": {},
   "outputs": [],
   "source": []
  },
  {
   "cell_type": "code",
   "execution_count": null,
   "id": "decfc152",
   "metadata": {},
   "outputs": [],
   "source": []
  }
 ],
 "metadata": {
  "kernelspec": {
   "display_name": "Python 3 (ipykernel)",
   "language": "python",
   "name": "python3"
  },
  "language_info": {
   "codemirror_mode": {
    "name": "ipython",
    "version": 3
   },
   "file_extension": ".py",
   "mimetype": "text/x-python",
   "name": "python",
   "nbconvert_exporter": "python",
   "pygments_lexer": "ipython3",
   "version": "3.11.5"
  }
 },
 "nbformat": 4,
 "nbformat_minor": 5
}
