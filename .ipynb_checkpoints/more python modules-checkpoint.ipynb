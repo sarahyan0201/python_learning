{
 "cells": [
  {
   "cell_type": "code",
   "execution_count": 7,
   "id": "0202c162",
   "metadata": {},
   "outputs": [
    {
     "name": "stdout",
     "output_type": "stream",
     "text": [
      "Counter({2: 8, 3: 6, 1: 3, 12: 3, 123: 1, 1123: 1})\n",
      "[(2, 8), (3, 6), (1, 3), (12, 3), (123, 1)]\n",
      "{1: 3, 2: 8, 3: 6, 12: 3, 123: 1, 1123: 1}\n",
      "Counter({1: 3, 2: 3, 3: 2, 4: 1, 5: 1, 6: 1})\n",
      "Counter({4: 1, 5: 1, 6: 1})\n"
     ]
    }
   ],
   "source": [
    "#1. Counter\n",
    "\n",
    "from collections import Counter\n",
    "\n",
    "# Use Counter to count how many times each element appears in the list.\n",
    "lst = [1,2,2,2,2,2,3,3,3,3,3,3,12,123,12,1123,1,1,12,2,2,2]\n",
    "print(Counter(lst))\n",
    "\n",
    "# Use 'most_common(n)' to return the n most frequent elements along with their counts.\n",
    "print(Counter(lst).most_common(5))\n",
    "\n",
    "# Use dict() to convert a Counter object back into a regular dictionary.\n",
    "counter_dict = dict(Counter(lst))\n",
    "print(counter_dict)\n",
    "\n",
    "# Perform addition or subtraction operations on two Counter objects.\n",
    "a1 = Counter([1, 2, 3, 2, 1])\n",
    "a2 = Counter([1, 2, 3, 4, 5, 6])\n",
    "print(a1 + a2)\n",
    "print(a2 - a1)\n"
   ]
  },
  {
   "cell_type": "code",
   "execution_count": 15,
   "id": "92fe3862",
   "metadata": {},
   "outputs": [
    {
     "name": "stdout",
     "output_type": "stream",
     "text": [
      "defaultdict(<class 'list'>, {'fruits': ['apple', 'orange', 'guava']})\n",
      "defaultdict(<class 'int'>, {1: 1, 2: 2, 3: 3, 5: 2, 6: 2})\n"
     ]
    }
   ],
   "source": [
    "#2. defaultdict\n",
    "\n",
    "from collections import defaultdict\n",
    "\n",
    "# Create a defaultdict\n",
    "d = defaultdict(list)\n",
    "\n",
    "d['fruits'].append('apple')\n",
    "d['fruits'].append('orange')\n",
    "d['fruits'].append('guava')\n",
    "\n",
    "print(d)\n",
    "\n",
    "\n",
    "# challenge\n",
    "nums = [1, 2, 2, 3, 3, 3, 5, 5, 6, 6]\n",
    "d = defaultdict(int)\n",
    "for num in nums:\n",
    "    d[num] += 1 \n",
    "print(d)"
   ]
  },
  {
   "cell_type": "code",
   "execution_count": 21,
   "id": "561cfa55",
   "metadata": {},
   "outputs": [
    {
     "name": "stdout",
     "output_type": "stream",
     "text": [
      "Person(name='Alice', age=30, city='New York')\n"
     ]
    }
   ],
   "source": [
    "#3. namedtuple\n",
    "\n",
    "from collections import namedtuple\n",
    "\n",
    "# Create a namedtuple class.\n",
    "person = namedtuple('Person',['name', 'age', 'city'])\n",
    "\n",
    "# Create an instance of the namedtuple.\n",
    "p = person(name = 'Alice', age = 30, city = 'New York')\n",
    "\n",
    "# Access its attributes.\n",
    "print(p)\n"
   ]
  },
  {
   "cell_type": "code",
   "execution_count": 38,
   "id": "5942663f",
   "metadata": {},
   "outputs": [
    {
     "name": "stdout",
     "output_type": "stream",
     "text": [
      "Current Working Directory: C:\\Users\\sarah\\My Python Stuff\n",
      "\n",
      " Current looking folder: .\n",
      "The subfolders are:\n",
      "\t.ipynb_checkpoints\n",
      "The files are:\n",
      "\tdictionary.ipynb\n",
      "\tfunction_module.ipynb\n",
      "\tgenerator.ipynb\n",
      "\tITS Python Certification.ipynb\n",
      "\tList.ipynb\n",
      "\tMilestone 2 - Black Jack.ipynb\n",
      "\tMilestone 2.ipynb\n",
      "\tmilestone practice.ipynb\n",
      "\tMilestone1.ipynb\n",
      "\tmodule.ipynb\n",
      "\tmore python modules.ipynb\n",
      "\tMyFirstNotebook.ipynb\n",
      "\tmy_file.txt\n",
      "\tNumbers.ipynb\n",
      "\tobject oriented programming.ipynb\n",
      "\tpractice.txt\n",
      "\tstatements.ipynb\n",
      "\tString.ipynb\n",
      "\tVariable Assignments.ipynb\n",
      "\n",
      "\n",
      "\n",
      " Current looking folder: .\\.ipynb_checkpoints\n",
      "The subfolders are:\n",
      "The files are:\n",
      "\tdictionary-checkpoint.ipynb\n",
      "\tfunction_module-checkpoint.ipynb\n",
      "\tgenerator-checkpoint.ipynb\n",
      "\tITS Python Certification-checkpoint.ipynb\n",
      "\tList-checkpoint.ipynb\n",
      "\tMilestone 2 - Black Jack-checkpoint.ipynb\n",
      "\tMilestone 2-checkpoint.ipynb\n",
      "\tmilestone practice-checkpoint.ipynb\n",
      "\tMilestone1-checkpoint.ipynb\n",
      "\tmodule-checkpoint.ipynb\n",
      "\tmore python modules-checkpoint.ipynb\n",
      "\tMyFirstNotebook-checkpoint.ipynb\n",
      "\tNumbers-checkpoint.ipynb\n",
      "\tobject oriented programming-checkpoint.ipynb\n",
      "\tstatements-checkpoint.ipynb\n",
      "\tString-checkpoint.ipynb\n",
      "\tVariable Assignments-checkpoint.ipynb\n",
      "\n",
      "\n"
     ]
    }
   ],
   "source": [
    "#4. Opening and Reading Files\n",
    "\n",
    "# Open a file, or create it if it doesn't exist.\n",
    "f = open('practice.txt', 'w+')\n",
    "\n",
    "# Write content to the file.\n",
    "f.write('test')\n",
    "\n",
    "# Close the file.\n",
    "f.close()\n",
    "\n",
    "# List the contents of a directory.\n",
    "import os \n",
    "print(\"Currently Directory:\", os.getcwd())\n",
    "directory_contents = os.listdir()\n",
    "print(directory_contents)\n",
    "for item in directory_content:\n",
    "    print(f\"\\n{item}\")\n",
    "\n",
    "# Check a specific directory.\n",
    "specific_diretory = r\"C:\\Users\\sarah\\My Python Stuff\"\n",
    "cotents = os.listdir(specific_diretory)\n",
    "for i in cotents:\n",
    "    print(i)\n",
    "\n",
    "# Check the current directory.\n",
    "print(\"Current Working Directory:\", os.getcwd())\n",
    "\n",
    "# Using os.walk\n",
    "path = \".\"\n",
    "for foldername, subfolders, filenames in os.walk(path):\n",
    "    print(f\"\\n Current looking folder: {foldername}\")\n",
    "    print(\"The subfolders are:\")\n",
    "    for sunfolder in subfolders:\n",
    "        print(f\"\\t{sunfolder}\")\n",
    "    print(\"The files are:\")\n",
    "    for filename in filenames:\n",
    "        print(f\"\\t{filename}\")\n",
    "    print(\"\\n\")"
   ]
  },
  {
   "cell_type": "code",
   "execution_count": 55,
   "id": "2ca3cd73",
   "metadata": {},
   "outputs": [
    {
     "name": "stdout",
     "output_type": "stream",
     "text": [
      "hour:     3\n",
      "minute:   40\n",
      "second:   45\n",
      "earliest time: 00:00:00\n",
      "latest time:   23:59:59.999999\n",
      "today is:  2024-11-21\n",
      "this year is:        2024\n",
      "this month is:       11\n",
      "What’s today’s date? 21\n"
     ]
    }
   ],
   "source": [
    "#5. datetime \n",
    "\n",
    "#5.1 Basic operations with time.\n",
    "import datetime\n",
    "\n",
    "t = datetime.time(3,40,45)\n",
    "print('hour:    ', t.hour)\n",
    "print('minute:  ', t.minute)\n",
    "print('second:  ',t.second)\n",
    "\n",
    "# check the minimum and maximum values of the time.\n",
    "print('earliest time:',t.min)\n",
    "print('latest time:  ',t.max)\n",
    "\n",
    "#5.2 check the current time\n",
    "td = datetime.date.today()\n",
    "print('today is: ',td)\n",
    "\n",
    "# Extract the attributes of a date.\n",
    "print('this year is:       ',td.year)\n",
    "print('this month is:      ',td.month)\n",
    "print('What’s today’s date?',td.day)"
   ]
  }
 ],
 "metadata": {
  "kernelspec": {
   "display_name": "Python 3 (ipykernel)",
   "language": "python",
   "name": "python3"
  },
  "language_info": {
   "codemirror_mode": {
    "name": "ipython",
    "version": 3
   },
   "file_extension": ".py",
   "mimetype": "text/x-python",
   "name": "python",
   "nbconvert_exporter": "python",
   "pygments_lexer": "ipython3",
   "version": "3.11.5"
  }
 },
 "nbformat": 4,
 "nbformat_minor": 5
}
