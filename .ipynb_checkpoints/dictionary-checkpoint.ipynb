{
 "cells": [
  {
   "cell_type": "code",
   "execution_count": 10,
   "id": "6ee7a872",
   "metadata": {},
   "outputs": [
    {
     "name": "stdout",
     "output_type": "stream",
     "text": [
      "輸入要查詢的血型b\n",
      " B 的血型血漿中有B抗體\n"
     ]
    }
   ],
   "source": [
    "dict1 = {\"A\":\"血漿中有A抗體\",\"B\":\"血漿中有B抗體\",\"AB\":\"血漿中沒有A與B抗體\",\"O\":\"血漿中有A與B抗體\"}\n",
    "\n",
    "blood_type = input(\"輸入要查詢的血型\").upper()\n",
    "\n",
    "blood = dict1.get(blood_type)\n",
    "if blood == None:\n",
    "    print(f\"沒有{blood}血型\")\n",
    "else:\n",
    "    print(f\" {blood_type} 的血型{blood}\")"
   ]
  },
  {
   "cell_type": "code",
   "execution_count": 16,
   "id": "d397e2de",
   "metadata": {},
   "outputs": [
    {
     "name": "stdout",
     "output_type": "stream",
     "text": [
      "type the weather you likeSPRING\n",
      "spring is known for it's: mild\n"
     ]
    }
   ],
   "source": [
    "dict2 = {\"spring\":\"mild\", \"summer\":\"hot\", \"fall\":\"cool\", \"winter\":\"cold\"}\n",
    "\n",
    "season = input(\"type the weather you like:\").lower()\n",
    "\n",
    "seasons = dict2.get(season)\n",
    "if season == None or season == \"\":\n",
    "    print(\"unable to display\")\n",
    "else:\n",
    "    print(f\"{season} is known for it's {seasons}\")"
   ]
  },
  {
   "cell_type": "code",
   "execution_count": 31,
   "id": "9314da9c",
   "metadata": {},
   "outputs": [
    {
     "name": "stdout",
     "output_type": "stream",
     "text": [
      "enter the student nameroger\n",
      "enter the student's score100\n",
      "the list is: {'JEFF': 85, 'MIKE': 67, 'MAY': 68, 'LINDA': 87, 'ROGER': 100}\n"
     ]
    }
   ],
   "source": [
    "dict3 = {\"JEFF\":85, \"MIKE\":67, \"MAY\":68, \"LINDA\":87,}\n",
    "\n",
    "name = input(\"enter the student name:\").upper()\n",
    "\n",
    "if name in dict3:\n",
    "    print(f\"{name} 's score is: {dict3.get(name)}\")\n",
    "else:\n",
    "    score = int(input(\"enter the student's score\"))\n",
    "    dict3[name] = score\n",
    "    print(f\"the list is: {dict3}\")"
   ]
  },
  {
   "cell_type": "code",
   "execution_count": 29,
   "id": "0a408782",
   "metadata": {},
   "outputs": [
    {
     "name": "stdout",
     "output_type": "stream",
     "text": [
      "enter the appliance name to check the pricecoffee_machine\n",
      "enter the appliance's price8000\n",
      "appiliance list: {'steamer': 2550, 'vacuum_cleaner': 7900, 'dehumidifier': 18800, 'coffee_machine': 8000}\n"
     ]
    }
   ],
   "source": [
    "dict4 = {\"steamer\":2550, \"vacuum_cleaner\":7900, \"dehumidifier\":18800}\n",
    "appliance = input(\"enter the appliance name to check the price\").lower()\n",
    "\n",
    "if appliance in dict4:\n",
    "    print(f\"{appliance}'s price is {dict4.get(appliance)}\")\n",
    "else:\n",
    "    price = int(input(\"enter the appliance's price\"))\n",
    "    dict4[appliance] = price\n",
    "    print(f\"appiliance list: {dict4}\")"
   ]
  },
  {
   "cell_type": "code",
   "execution_count": 4,
   "id": "ae614219",
   "metadata": {},
   "outputs": [
    {
     "name": "stdout",
     "output_type": "stream",
     "text": [
      "得到獎牌數為金牌,26\n",
      "得到獎牌數為銀牌,34\n",
      "得到獎牌數為銅牌,30\n"
     ]
    }
   ],
   "source": [
    "dict5 = {\"金牌\":26, \"銀牌\":34, \"銅牌\":30}\n",
    "list_key = list(dict5.keys())\n",
    "list_value = list(dict5.values())\n",
    "for i in range(len(list_key)):\n",
    "    print(f\"得到獎牌數為{list_key[i]},{list_value[i]}\")"
   ]
  },
  {
   "cell_type": "code",
   "execution_count": 12,
   "id": "cbf3c0ac",
   "metadata": {},
   "outputs": [
    {
     "name": "stdout",
     "output_type": "stream",
     "text": [
      "水瓶座的出生月為: 二月生\n",
      "雙魚座的出生月為: 二月生\n",
      "雙子座的出生月為: 六月生\n",
      "處女座的出生月為: 九月生\n"
     ]
    }
   ],
   "source": [
    "dict6 = {\n",
    "    \"水瓶\":\"二月生\",\n",
    "    \"雙魚\":\"二月生\",\n",
    "    \"雙子\":\"六月生\",\n",
    "    \"處女\":\"九月生\",\n",
    "        }\n",
    "list_key = list(dict6.keys())\n",
    "list_values = list(dict6.values())\n",
    "for i in range(len(list_values)):\n",
    "    print(f\"{list_key[i]}座的出生月為: {list_values[i]}\")\n"
   ]
  },
  {
   "cell_type": "code",
   "execution_count": 25,
   "id": "5bd9b565",
   "metadata": {},
   "outputs": [
    {
     "name": "stdout",
     "output_type": "stream",
     "text": [
      "enter the week number you want to check6\n",
      "the number you querued: 6 corresponds to the english abbreviation: sat\n"
     ]
    }
   ],
   "source": [
    "dict7 = {\n",
    "    \"mon\":1,\n",
    "    \"tus\":2,\n",
    "    \"wed\":3,\n",
    "    \"thu\":4,\n",
    "    \"fri\":5,\n",
    "    \"sat\":6,\n",
    "    \"sun\":7,\n",
    "        }\n",
    "\n",
    "number = int(input(\"enter the week number you want to check\"))\n",
    "value_list = list(dict7.values())\n",
    "if number in value_list:\n",
    "    index = value_list.index(number)\n",
    "    key = list(dict7.keys())[index]\n",
    "    print(f\"the number you querued: {number} corresponds to the english abbreviation: {key}\")\n",
    "else:\n",
    "    print(f\"an error occurred during the query\")"
   ]
  },
  {
   "cell_type": "code",
   "execution_count": 27,
   "id": "31455a36",
   "metadata": {},
   "outputs": [
    {
     "ename": "SyntaxError",
     "evalue": "invalid character '、' (U+3001) (2156839344.py, line 11)",
     "output_type": "error",
     "traceback": [
      "\u001b[1;36m  Cell \u001b[1;32mIn[27], line 11\u001b[1;36m\u001b[0m\n\u001b[1;33m    壹、貳、參、肆、伍、陸、柒、捌、玖、零\u001b[0m\n\u001b[1;37m     ^\u001b[0m\n\u001b[1;31mSyntaxError\u001b[0m\u001b[1;31m:\u001b[0m invalid character '、' (U+3001)\n"
     ]
    }
   ],
   "source": [
    "dict8 = {\n",
    "    1:\"壹\",\n",
    "    :\"\",\n",
    "    :\"\",\n",
    "    :\"\",\n",
    "    :\"\",\n",
    "    :\"\",\n",
    "    :\"\",\n",
    "    :\"\",\n",
    "    :\"\",\n",
    "    :\"\",\n",
    "    :\"\",\n",
    "        }\n",
    "\n",
    "壹、、參、肆、伍、陸、柒、捌、玖、零"
   ]
  },
  {
   "cell_type": "code",
   "execution_count": null,
   "id": "7aeebf27",
   "metadata": {},
   "outputs": [],
   "source": []
  }
 ],
 "metadata": {
  "kernelspec": {
   "display_name": "Python 3 (ipykernel)",
   "language": "python",
   "name": "python3"
  },
  "language_info": {
   "codemirror_mode": {
    "name": "ipython",
    "version": 3
   },
   "file_extension": ".py",
   "mimetype": "text/x-python",
   "name": "python",
   "nbconvert_exporter": "python",
   "pygments_lexer": "ipython3",
   "version": "3.11.5"
  }
 },
 "nbformat": 4,
 "nbformat_minor": 5
}
